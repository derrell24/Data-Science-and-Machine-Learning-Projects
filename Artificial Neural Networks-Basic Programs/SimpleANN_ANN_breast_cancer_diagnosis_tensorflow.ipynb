{
 "cells": [
  {
   "cell_type": "markdown",
   "metadata": {
    "id": "FocgdD8CaF92"
   },
   "source": [
    "# Artifical neural network for Breast Cancer Diagnosis using Tensorflow"
   ]
  },
  {
   "cell_type": "markdown",
   "metadata": {
    "id": "8sNDnxE2-pwE"
   },
   "source": [
    "### Importing the libraries"
   ]
  },
  {
   "cell_type": "code",
   "execution_count": 1,
   "metadata": {
    "id": "qYUfKBR0aOZ5"
   },
   "outputs": [],
   "source": [
    "import numpy as np\n",
    "import pandas as pd\n",
    "import tensorflow as tf"
   ]
  },
  {
   "cell_type": "markdown",
   "metadata": {
    "id": "QQFREjfXa4Fz"
   },
   "source": [
    "## Part 1 - Data Preprocessing\n",
    "\n",
    "\n",
    "\n"
   ]
  },
  {
   "cell_type": "markdown",
   "metadata": {
    "id": "-4zq8Mza_D9O"
   },
   "source": [
    "### Importing the dataset"
   ]
  },
  {
   "cell_type": "code",
   "execution_count": 2,
   "metadata": {
    "colab": {
     "base_uri": "https://localhost:8080/"
    },
    "executionInfo": {
     "elapsed": 1072,
     "status": "ok",
     "timestamp": 1616990242252,
     "user": {
      "displayName": "ddengineering 24",
      "photoUrl": "https://lh3.googleusercontent.com/a-/AOh14GjHIzKzQU2YXuWBw8yytI-cNjLe7r16kGIKte4_=s64",
      "userId": "16024618924253510203"
     },
     "user_tz": 420
    },
    "id": "2lSreunla6KO",
    "outputId": "3c86cfe8-9d44-482c-f9c9-9abb1bb54d39"
   },
   "outputs": [
    {
     "data": {
      "text/plain": [
       "sklearn.utils.Bunch"
      ]
     },
     "execution_count": 2,
     "metadata": {},
     "output_type": "execute_result"
    }
   ],
   "source": [
    "from sklearn.datasets import load_breast_cancer\n",
    "data = load_breast_cancer()\n",
    "type(data) #bunch acts like a dictionary"
   ]
  },
  {
   "cell_type": "code",
   "execution_count": 3,
   "metadata": {
    "colab": {
     "base_uri": "https://localhost:8080/"
    },
    "executionInfo": {
     "elapsed": 1057,
     "status": "ok",
     "timestamp": 1616990242256,
     "user": {
      "displayName": "ddengineering 24",
      "photoUrl": "https://lh3.googleusercontent.com/a-/AOh14GjHIzKzQU2YXuWBw8yytI-cNjLe7r16kGIKte4_=s64",
      "userId": "16024618924253510203"
     },
     "user_tz": 420
    },
    "id": "lC_Lrnbvb33g",
    "outputId": "e9494b96-0c77-45a6-ff55-c34ae0743c85"
   },
   "outputs": [
    {
     "data": {
      "text/plain": [
       "dict_keys(['data', 'target', 'frame', 'target_names', 'DESCR', 'feature_names', 'filename'])"
      ]
     },
     "execution_count": 3,
     "metadata": {},
     "output_type": "execute_result"
    }
   ],
   "source": [
    "data.keys()"
   ]
  },
  {
   "cell_type": "code",
   "execution_count": 4,
   "metadata": {
    "colab": {
     "base_uri": "https://localhost:8080/"
    },
    "executionInfo": {
     "elapsed": 1037,
     "status": "ok",
     "timestamp": 1616990242259,
     "user": {
      "displayName": "ddengineering 24",
      "photoUrl": "https://lh3.googleusercontent.com/a-/AOh14GjHIzKzQU2YXuWBw8yytI-cNjLe7r16kGIKte4_=s64",
      "userId": "16024618924253510203"
     },
     "user_tz": 420
    },
    "id": "SNKBXbMocCKA",
    "outputId": "9116bd4f-79e0-4882-f126-7c77847ffb86"
   },
   "outputs": [
    {
     "data": {
      "text/plain": [
       "(569, 30)"
      ]
     },
     "execution_count": 4,
     "metadata": {},
     "output_type": "execute_result"
    }
   ],
   "source": [
    "data.data.shape"
   ]
  },
  {
   "cell_type": "code",
   "execution_count": 5,
   "metadata": {
    "colab": {
     "base_uri": "https://localhost:8080/"
    },
    "executionInfo": {
     "elapsed": 1019,
     "status": "ok",
     "timestamp": 1616990242262,
     "user": {
      "displayName": "ddengineering 24",
      "photoUrl": "https://lh3.googleusercontent.com/a-/AOh14GjHIzKzQU2YXuWBw8yytI-cNjLe7r16kGIKte4_=s64",
      "userId": "16024618924253510203"
     },
     "user_tz": 420
    },
    "id": "za0j89rGBT6N",
    "outputId": "105dfb67-b368-45f6-9747-2900634213a3"
   },
   "outputs": [
    {
     "data": {
      "text/plain": [
       "array([0, 0, 0, 0, 0, 0, 0, 0, 0, 0, 0, 0, 0, 0, 0, 0, 0, 0, 0, 1, 1, 1,\n",
       "       0, 0, 0, 0, 0, 0, 0, 0, 0, 0, 0, 0, 0, 0, 0, 1, 0, 0, 0, 0, 0, 0,\n",
       "       0, 0, 1, 0, 1, 1, 1, 1, 1, 0, 0, 1, 0, 0, 1, 1, 1, 1, 0, 1, 0, 0,\n",
       "       1, 1, 1, 1, 0, 1, 0, 0, 1, 0, 1, 0, 0, 1, 1, 1, 0, 0, 1, 0, 0, 0,\n",
       "       1, 1, 1, 0, 1, 1, 0, 0, 1, 1, 1, 0, 0, 1, 1, 1, 1, 0, 1, 1, 0, 1,\n",
       "       1, 1, 1, 1, 1, 1, 1, 0, 0, 0, 1, 0, 0, 1, 1, 1, 0, 0, 1, 0, 1, 0,\n",
       "       0, 1, 0, 0, 1, 1, 0, 1, 1, 0, 1, 1, 1, 1, 0, 1, 1, 1, 1, 1, 1, 1,\n",
       "       1, 1, 0, 1, 1, 1, 1, 0, 0, 1, 0, 1, 1, 0, 0, 1, 1, 0, 0, 1, 1, 1,\n",
       "       1, 0, 1, 1, 0, 0, 0, 1, 0, 1, 0, 1, 1, 1, 0, 1, 1, 0, 0, 1, 0, 0,\n",
       "       0, 0, 1, 0, 0, 0, 1, 0, 1, 0, 1, 1, 0, 1, 0, 0, 0, 0, 1, 1, 0, 0,\n",
       "       1, 1, 1, 0, 1, 1, 1, 1, 1, 0, 0, 1, 1, 0, 1, 1, 0, 0, 1, 0, 1, 1,\n",
       "       1, 1, 0, 1, 1, 1, 1, 1, 0, 1, 0, 0, 0, 0, 0, 0, 0, 0, 0, 0, 0, 0,\n",
       "       0, 0, 1, 1, 1, 1, 1, 1, 0, 1, 0, 1, 1, 0, 1, 1, 0, 1, 0, 0, 1, 1,\n",
       "       1, 1, 1, 1, 1, 1, 1, 1, 1, 1, 1, 0, 1, 1, 0, 1, 0, 1, 1, 1, 1, 1,\n",
       "       1, 1, 1, 1, 1, 1, 1, 1, 1, 0, 1, 1, 1, 0, 1, 0, 1, 1, 1, 1, 0, 0,\n",
       "       0, 1, 1, 1, 1, 0, 1, 0, 1, 0, 1, 1, 1, 0, 1, 1, 1, 1, 1, 1, 1, 0,\n",
       "       0, 0, 1, 1, 1, 1, 1, 1, 1, 1, 1, 1, 1, 0, 0, 1, 0, 0, 0, 1, 0, 0,\n",
       "       1, 1, 1, 1, 1, 0, 1, 1, 1, 1, 1, 0, 1, 1, 1, 0, 1, 1, 0, 0, 1, 1,\n",
       "       1, 1, 1, 1, 0, 1, 1, 1, 1, 1, 1, 1, 0, 1, 1, 1, 1, 1, 0, 1, 1, 0,\n",
       "       1, 1, 1, 1, 1, 1, 1, 1, 1, 1, 1, 1, 0, 1, 0, 0, 1, 0, 1, 1, 1, 1,\n",
       "       1, 0, 1, 1, 0, 1, 0, 1, 1, 0, 1, 0, 1, 1, 1, 1, 1, 1, 1, 1, 0, 0,\n",
       "       1, 1, 1, 1, 1, 1, 0, 1, 1, 1, 1, 1, 1, 1, 1, 1, 1, 0, 1, 1, 1, 1,\n",
       "       1, 1, 1, 0, 1, 0, 1, 1, 0, 1, 1, 1, 1, 1, 0, 0, 1, 0, 1, 0, 1, 1,\n",
       "       1, 1, 1, 0, 1, 1, 0, 1, 0, 1, 0, 0, 1, 1, 1, 0, 1, 1, 1, 1, 1, 1,\n",
       "       1, 1, 1, 1, 1, 0, 1, 0, 0, 1, 1, 1, 1, 1, 1, 1, 1, 1, 1, 1, 1, 1,\n",
       "       1, 1, 1, 1, 1, 1, 1, 1, 1, 1, 1, 1, 0, 0, 0, 0, 0, 0, 1])"
      ]
     },
     "execution_count": 5,
     "metadata": {},
     "output_type": "execute_result"
    }
   ],
   "source": [
    "data.target"
   ]
  },
  {
   "cell_type": "code",
   "execution_count": 6,
   "metadata": {
    "colab": {
     "base_uri": "https://localhost:8080/"
    },
    "executionInfo": {
     "elapsed": 999,
     "status": "ok",
     "timestamp": 1616990242264,
     "user": {
      "displayName": "ddengineering 24",
      "photoUrl": "https://lh3.googleusercontent.com/a-/AOh14GjHIzKzQU2YXuWBw8yytI-cNjLe7r16kGIKte4_=s64",
      "userId": "16024618924253510203"
     },
     "user_tz": 420
    },
    "id": "I06hvEAUBUI-",
    "outputId": "e007b7e4-95da-453a-e7b0-83e35d432cdb"
   },
   "outputs": [
    {
     "data": {
      "text/plain": [
       "(30,)"
      ]
     },
     "execution_count": 6,
     "metadata": {},
     "output_type": "execute_result"
    }
   ],
   "source": [
    "data.feature_names.shape"
   ]
  },
  {
   "cell_type": "code",
   "execution_count": 7,
   "metadata": {
    "colab": {
     "base_uri": "https://localhost:8080/",
     "height": 410
    },
    "executionInfo": {
     "elapsed": 979,
     "status": "ok",
     "timestamp": 1616990242269,
     "user": {
      "displayName": "ddengineering 24",
      "photoUrl": "https://lh3.googleusercontent.com/a-/AOh14GjHIzKzQU2YXuWBw8yytI-cNjLe7r16kGIKte4_=s64",
      "userId": "16024618924253510203"
     },
     "user_tz": 420
    },
    "id": "6DO2OJ9jBUVv",
    "outputId": "697e2b23-f75f-4097-d7c8-2b19cf321d7f"
   },
   "outputs": [
    {
     "data": {
      "text/html": [
       "<div>\n",
       "<style scoped>\n",
       "    .dataframe tbody tr th:only-of-type {\n",
       "        vertical-align: middle;\n",
       "    }\n",
       "\n",
       "    .dataframe tbody tr th {\n",
       "        vertical-align: top;\n",
       "    }\n",
       "\n",
       "    .dataframe thead th {\n",
       "        text-align: right;\n",
       "    }\n",
       "</style>\n",
       "<table border=\"1\" class=\"dataframe\">\n",
       "  <thead>\n",
       "    <tr style=\"text-align: right;\">\n",
       "      <th></th>\n",
       "      <th>mean radius</th>\n",
       "      <th>mean texture</th>\n",
       "      <th>mean perimeter</th>\n",
       "      <th>mean area</th>\n",
       "      <th>mean smoothness</th>\n",
       "      <th>mean compactness</th>\n",
       "      <th>mean concavity</th>\n",
       "      <th>mean concave points</th>\n",
       "      <th>mean symmetry</th>\n",
       "      <th>mean fractal dimension</th>\n",
       "      <th>...</th>\n",
       "      <th>worst texture</th>\n",
       "      <th>worst perimeter</th>\n",
       "      <th>worst area</th>\n",
       "      <th>worst smoothness</th>\n",
       "      <th>worst compactness</th>\n",
       "      <th>worst concavity</th>\n",
       "      <th>worst concave points</th>\n",
       "      <th>worst symmetry</th>\n",
       "      <th>worst fractal dimension</th>\n",
       "      <th>target</th>\n",
       "    </tr>\n",
       "  </thead>\n",
       "  <tbody>\n",
       "    <tr>\n",
       "      <th>0</th>\n",
       "      <td>17.99</td>\n",
       "      <td>10.38</td>\n",
       "      <td>122.80</td>\n",
       "      <td>1001.0</td>\n",
       "      <td>0.11840</td>\n",
       "      <td>0.27760</td>\n",
       "      <td>0.30010</td>\n",
       "      <td>0.14710</td>\n",
       "      <td>0.2419</td>\n",
       "      <td>0.07871</td>\n",
       "      <td>...</td>\n",
       "      <td>17.33</td>\n",
       "      <td>184.60</td>\n",
       "      <td>2019.0</td>\n",
       "      <td>0.1622</td>\n",
       "      <td>0.6656</td>\n",
       "      <td>0.7119</td>\n",
       "      <td>0.2654</td>\n",
       "      <td>0.4601</td>\n",
       "      <td>0.11890</td>\n",
       "      <td>0.0</td>\n",
       "    </tr>\n",
       "    <tr>\n",
       "      <th>1</th>\n",
       "      <td>20.57</td>\n",
       "      <td>17.77</td>\n",
       "      <td>132.90</td>\n",
       "      <td>1326.0</td>\n",
       "      <td>0.08474</td>\n",
       "      <td>0.07864</td>\n",
       "      <td>0.08690</td>\n",
       "      <td>0.07017</td>\n",
       "      <td>0.1812</td>\n",
       "      <td>0.05667</td>\n",
       "      <td>...</td>\n",
       "      <td>23.41</td>\n",
       "      <td>158.80</td>\n",
       "      <td>1956.0</td>\n",
       "      <td>0.1238</td>\n",
       "      <td>0.1866</td>\n",
       "      <td>0.2416</td>\n",
       "      <td>0.1860</td>\n",
       "      <td>0.2750</td>\n",
       "      <td>0.08902</td>\n",
       "      <td>0.0</td>\n",
       "    </tr>\n",
       "    <tr>\n",
       "      <th>2</th>\n",
       "      <td>19.69</td>\n",
       "      <td>21.25</td>\n",
       "      <td>130.00</td>\n",
       "      <td>1203.0</td>\n",
       "      <td>0.10960</td>\n",
       "      <td>0.15990</td>\n",
       "      <td>0.19740</td>\n",
       "      <td>0.12790</td>\n",
       "      <td>0.2069</td>\n",
       "      <td>0.05999</td>\n",
       "      <td>...</td>\n",
       "      <td>25.53</td>\n",
       "      <td>152.50</td>\n",
       "      <td>1709.0</td>\n",
       "      <td>0.1444</td>\n",
       "      <td>0.4245</td>\n",
       "      <td>0.4504</td>\n",
       "      <td>0.2430</td>\n",
       "      <td>0.3613</td>\n",
       "      <td>0.08758</td>\n",
       "      <td>0.0</td>\n",
       "    </tr>\n",
       "    <tr>\n",
       "      <th>3</th>\n",
       "      <td>11.42</td>\n",
       "      <td>20.38</td>\n",
       "      <td>77.58</td>\n",
       "      <td>386.1</td>\n",
       "      <td>0.14250</td>\n",
       "      <td>0.28390</td>\n",
       "      <td>0.24140</td>\n",
       "      <td>0.10520</td>\n",
       "      <td>0.2597</td>\n",
       "      <td>0.09744</td>\n",
       "      <td>...</td>\n",
       "      <td>26.50</td>\n",
       "      <td>98.87</td>\n",
       "      <td>567.7</td>\n",
       "      <td>0.2098</td>\n",
       "      <td>0.8663</td>\n",
       "      <td>0.6869</td>\n",
       "      <td>0.2575</td>\n",
       "      <td>0.6638</td>\n",
       "      <td>0.17300</td>\n",
       "      <td>0.0</td>\n",
       "    </tr>\n",
       "    <tr>\n",
       "      <th>4</th>\n",
       "      <td>20.29</td>\n",
       "      <td>14.34</td>\n",
       "      <td>135.10</td>\n",
       "      <td>1297.0</td>\n",
       "      <td>0.10030</td>\n",
       "      <td>0.13280</td>\n",
       "      <td>0.19800</td>\n",
       "      <td>0.10430</td>\n",
       "      <td>0.1809</td>\n",
       "      <td>0.05883</td>\n",
       "      <td>...</td>\n",
       "      <td>16.67</td>\n",
       "      <td>152.20</td>\n",
       "      <td>1575.0</td>\n",
       "      <td>0.1374</td>\n",
       "      <td>0.2050</td>\n",
       "      <td>0.4000</td>\n",
       "      <td>0.1625</td>\n",
       "      <td>0.2364</td>\n",
       "      <td>0.07678</td>\n",
       "      <td>0.0</td>\n",
       "    </tr>\n",
       "    <tr>\n",
       "      <th>5</th>\n",
       "      <td>12.45</td>\n",
       "      <td>15.70</td>\n",
       "      <td>82.57</td>\n",
       "      <td>477.1</td>\n",
       "      <td>0.12780</td>\n",
       "      <td>0.17000</td>\n",
       "      <td>0.15780</td>\n",
       "      <td>0.08089</td>\n",
       "      <td>0.2087</td>\n",
       "      <td>0.07613</td>\n",
       "      <td>...</td>\n",
       "      <td>23.75</td>\n",
       "      <td>103.40</td>\n",
       "      <td>741.6</td>\n",
       "      <td>0.1791</td>\n",
       "      <td>0.5249</td>\n",
       "      <td>0.5355</td>\n",
       "      <td>0.1741</td>\n",
       "      <td>0.3985</td>\n",
       "      <td>0.12440</td>\n",
       "      <td>0.0</td>\n",
       "    </tr>\n",
       "    <tr>\n",
       "      <th>6</th>\n",
       "      <td>18.25</td>\n",
       "      <td>19.98</td>\n",
       "      <td>119.60</td>\n",
       "      <td>1040.0</td>\n",
       "      <td>0.09463</td>\n",
       "      <td>0.10900</td>\n",
       "      <td>0.11270</td>\n",
       "      <td>0.07400</td>\n",
       "      <td>0.1794</td>\n",
       "      <td>0.05742</td>\n",
       "      <td>...</td>\n",
       "      <td>27.66</td>\n",
       "      <td>153.20</td>\n",
       "      <td>1606.0</td>\n",
       "      <td>0.1442</td>\n",
       "      <td>0.2576</td>\n",
       "      <td>0.3784</td>\n",
       "      <td>0.1932</td>\n",
       "      <td>0.3063</td>\n",
       "      <td>0.08368</td>\n",
       "      <td>0.0</td>\n",
       "    </tr>\n",
       "    <tr>\n",
       "      <th>7</th>\n",
       "      <td>13.71</td>\n",
       "      <td>20.83</td>\n",
       "      <td>90.20</td>\n",
       "      <td>577.9</td>\n",
       "      <td>0.11890</td>\n",
       "      <td>0.16450</td>\n",
       "      <td>0.09366</td>\n",
       "      <td>0.05985</td>\n",
       "      <td>0.2196</td>\n",
       "      <td>0.07451</td>\n",
       "      <td>...</td>\n",
       "      <td>28.14</td>\n",
       "      <td>110.60</td>\n",
       "      <td>897.0</td>\n",
       "      <td>0.1654</td>\n",
       "      <td>0.3682</td>\n",
       "      <td>0.2678</td>\n",
       "      <td>0.1556</td>\n",
       "      <td>0.3196</td>\n",
       "      <td>0.11510</td>\n",
       "      <td>0.0</td>\n",
       "    </tr>\n",
       "    <tr>\n",
       "      <th>8</th>\n",
       "      <td>13.00</td>\n",
       "      <td>21.82</td>\n",
       "      <td>87.50</td>\n",
       "      <td>519.8</td>\n",
       "      <td>0.12730</td>\n",
       "      <td>0.19320</td>\n",
       "      <td>0.18590</td>\n",
       "      <td>0.09353</td>\n",
       "      <td>0.2350</td>\n",
       "      <td>0.07389</td>\n",
       "      <td>...</td>\n",
       "      <td>30.73</td>\n",
       "      <td>106.20</td>\n",
       "      <td>739.3</td>\n",
       "      <td>0.1703</td>\n",
       "      <td>0.5401</td>\n",
       "      <td>0.5390</td>\n",
       "      <td>0.2060</td>\n",
       "      <td>0.4378</td>\n",
       "      <td>0.10720</td>\n",
       "      <td>0.0</td>\n",
       "    </tr>\n",
       "    <tr>\n",
       "      <th>9</th>\n",
       "      <td>12.46</td>\n",
       "      <td>24.04</td>\n",
       "      <td>83.97</td>\n",
       "      <td>475.9</td>\n",
       "      <td>0.11860</td>\n",
       "      <td>0.23960</td>\n",
       "      <td>0.22730</td>\n",
       "      <td>0.08543</td>\n",
       "      <td>0.2030</td>\n",
       "      <td>0.08243</td>\n",
       "      <td>...</td>\n",
       "      <td>40.68</td>\n",
       "      <td>97.65</td>\n",
       "      <td>711.4</td>\n",
       "      <td>0.1853</td>\n",
       "      <td>1.0580</td>\n",
       "      <td>1.1050</td>\n",
       "      <td>0.2210</td>\n",
       "      <td>0.4366</td>\n",
       "      <td>0.20750</td>\n",
       "      <td>0.0</td>\n",
       "    </tr>\n",
       "  </tbody>\n",
       "</table>\n",
       "<p>10 rows × 31 columns</p>\n",
       "</div>"
      ],
      "text/plain": [
       "   mean radius  mean texture  mean perimeter  mean area  mean smoothness  \\\n",
       "0        17.99         10.38          122.80     1001.0          0.11840   \n",
       "1        20.57         17.77          132.90     1326.0          0.08474   \n",
       "2        19.69         21.25          130.00     1203.0          0.10960   \n",
       "3        11.42         20.38           77.58      386.1          0.14250   \n",
       "4        20.29         14.34          135.10     1297.0          0.10030   \n",
       "5        12.45         15.70           82.57      477.1          0.12780   \n",
       "6        18.25         19.98          119.60     1040.0          0.09463   \n",
       "7        13.71         20.83           90.20      577.9          0.11890   \n",
       "8        13.00         21.82           87.50      519.8          0.12730   \n",
       "9        12.46         24.04           83.97      475.9          0.11860   \n",
       "\n",
       "   mean compactness  mean concavity  mean concave points  mean symmetry  \\\n",
       "0           0.27760         0.30010              0.14710         0.2419   \n",
       "1           0.07864         0.08690              0.07017         0.1812   \n",
       "2           0.15990         0.19740              0.12790         0.2069   \n",
       "3           0.28390         0.24140              0.10520         0.2597   \n",
       "4           0.13280         0.19800              0.10430         0.1809   \n",
       "5           0.17000         0.15780              0.08089         0.2087   \n",
       "6           0.10900         0.11270              0.07400         0.1794   \n",
       "7           0.16450         0.09366              0.05985         0.2196   \n",
       "8           0.19320         0.18590              0.09353         0.2350   \n",
       "9           0.23960         0.22730              0.08543         0.2030   \n",
       "\n",
       "   mean fractal dimension  ...  worst texture  worst perimeter  worst area  \\\n",
       "0                 0.07871  ...          17.33           184.60      2019.0   \n",
       "1                 0.05667  ...          23.41           158.80      1956.0   \n",
       "2                 0.05999  ...          25.53           152.50      1709.0   \n",
       "3                 0.09744  ...          26.50            98.87       567.7   \n",
       "4                 0.05883  ...          16.67           152.20      1575.0   \n",
       "5                 0.07613  ...          23.75           103.40       741.6   \n",
       "6                 0.05742  ...          27.66           153.20      1606.0   \n",
       "7                 0.07451  ...          28.14           110.60       897.0   \n",
       "8                 0.07389  ...          30.73           106.20       739.3   \n",
       "9                 0.08243  ...          40.68            97.65       711.4   \n",
       "\n",
       "   worst smoothness  worst compactness  worst concavity  worst concave points  \\\n",
       "0            0.1622             0.6656           0.7119                0.2654   \n",
       "1            0.1238             0.1866           0.2416                0.1860   \n",
       "2            0.1444             0.4245           0.4504                0.2430   \n",
       "3            0.2098             0.8663           0.6869                0.2575   \n",
       "4            0.1374             0.2050           0.4000                0.1625   \n",
       "5            0.1791             0.5249           0.5355                0.1741   \n",
       "6            0.1442             0.2576           0.3784                0.1932   \n",
       "7            0.1654             0.3682           0.2678                0.1556   \n",
       "8            0.1703             0.5401           0.5390                0.2060   \n",
       "9            0.1853             1.0580           1.1050                0.2210   \n",
       "\n",
       "   worst symmetry  worst fractal dimension  target  \n",
       "0          0.4601                  0.11890     0.0  \n",
       "1          0.2750                  0.08902     0.0  \n",
       "2          0.3613                  0.08758     0.0  \n",
       "3          0.6638                  0.17300     0.0  \n",
       "4          0.2364                  0.07678     0.0  \n",
       "5          0.3985                  0.12440     0.0  \n",
       "6          0.3063                  0.08368     0.0  \n",
       "7          0.3196                  0.11510     0.0  \n",
       "8          0.4378                  0.10720     0.0  \n",
       "9          0.4366                  0.20750     0.0  \n",
       "\n",
       "[10 rows x 31 columns]"
      ]
     },
     "execution_count": 7,
     "metadata": {},
     "output_type": "execute_result"
    }
   ],
   "source": [
    "dataset = pd.DataFrame(np.c_[data['data'], data['target']],\n",
    "                  columns= np.append(data['feature_names'], ['target'])) #converting dataset into pandas dataframe\n",
    "dataset.head(10)\n"
   ]
  },
  {
   "cell_type": "code",
   "execution_count": 8,
   "metadata": {
    "colab": {
     "base_uri": "https://localhost:8080/"
    },
    "executionInfo": {
     "elapsed": 952,
     "status": "ok",
     "timestamp": 1616990242278,
     "user": {
      "displayName": "ddengineering 24",
      "photoUrl": "https://lh3.googleusercontent.com/a-/AOh14GjHIzKzQU2YXuWBw8yytI-cNjLe7r16kGIKte4_=s64",
      "userId": "16024618924253510203"
     },
     "user_tz": 420
    },
    "id": "07mo2vLsErZs",
    "outputId": "1ba4c417-345a-4daf-9d31-438d7caafeb3"
   },
   "outputs": [
    {
     "name": "stdout",
     "output_type": "stream",
     "text": [
      "[[1.799e+01 1.038e+01 1.228e+02 ... 2.654e-01 4.601e-01 1.189e-01]\n",
      " [2.057e+01 1.777e+01 1.329e+02 ... 1.860e-01 2.750e-01 8.902e-02]\n",
      " [1.969e+01 2.125e+01 1.300e+02 ... 2.430e-01 3.613e-01 8.758e-02]\n",
      " ...\n",
      " [1.660e+01 2.808e+01 1.083e+02 ... 1.418e-01 2.218e-01 7.820e-02]\n",
      " [2.060e+01 2.933e+01 1.401e+02 ... 2.650e-01 4.087e-01 1.240e-01]\n",
      " [7.760e+00 2.454e+01 4.792e+01 ... 0.000e+00 2.871e-01 7.039e-02]]\n",
      "[0. 0. 0. 0. 0. 0. 0. 0. 0. 0. 0. 0. 0. 0. 0. 0. 0. 0. 0. 1. 1. 1. 0. 0.\n",
      " 0. 0. 0. 0. 0. 0. 0. 0. 0. 0. 0. 0. 0. 1. 0. 0. 0. 0. 0. 0. 0. 0. 1. 0.\n",
      " 1. 1. 1. 1. 1. 0. 0. 1. 0. 0. 1. 1. 1. 1. 0. 1. 0. 0. 1. 1. 1. 1. 0. 1.\n",
      " 0. 0. 1. 0. 1. 0. 0. 1. 1. 1. 0. 0. 1. 0. 0. 0. 1. 1. 1. 0. 1. 1. 0. 0.\n",
      " 1. 1. 1. 0. 0. 1. 1. 1. 1. 0. 1. 1. 0. 1. 1. 1. 1. 1. 1. 1. 1. 0. 0. 0.\n",
      " 1. 0. 0. 1. 1. 1. 0. 0. 1. 0. 1. 0. 0. 1. 0. 0. 1. 1. 0. 1. 1. 0. 1. 1.\n",
      " 1. 1. 0. 1. 1. 1. 1. 1. 1. 1. 1. 1. 0. 1. 1. 1. 1. 0. 0. 1. 0. 1. 1. 0.\n",
      " 0. 1. 1. 0. 0. 1. 1. 1. 1. 0. 1. 1. 0. 0. 0. 1. 0. 1. 0. 1. 1. 1. 0. 1.\n",
      " 1. 0. 0. 1. 0. 0. 0. 0. 1. 0. 0. 0. 1. 0. 1. 0. 1. 1. 0. 1. 0. 0. 0. 0.\n",
      " 1. 1. 0. 0. 1. 1. 1. 0. 1. 1. 1. 1. 1. 0. 0. 1. 1. 0. 1. 1. 0. 0. 1. 0.\n",
      " 1. 1. 1. 1. 0. 1. 1. 1. 1. 1. 0. 1. 0. 0. 0. 0. 0. 0. 0. 0. 0. 0. 0. 0.\n",
      " 0. 0. 1. 1. 1. 1. 1. 1. 0. 1. 0. 1. 1. 0. 1. 1. 0. 1. 0. 0. 1. 1. 1. 1.\n",
      " 1. 1. 1. 1. 1. 1. 1. 1. 1. 0. 1. 1. 0. 1. 0. 1. 1. 1. 1. 1. 1. 1. 1. 1.\n",
      " 1. 1. 1. 1. 1. 0. 1. 1. 1. 0. 1. 0. 1. 1. 1. 1. 0. 0. 0. 1. 1. 1. 1. 0.\n",
      " 1. 0. 1. 0. 1. 1. 1. 0. 1. 1. 1. 1. 1. 1. 1. 0. 0. 0. 1. 1. 1. 1. 1. 1.\n",
      " 1. 1. 1. 1. 1. 0. 0. 1. 0. 0. 0. 1. 0. 0. 1. 1. 1. 1. 1. 0. 1. 1. 1. 1.\n",
      " 1. 0. 1. 1. 1. 0. 1. 1. 0. 0. 1. 1. 1. 1. 1. 1. 0. 1. 1. 1. 1. 1. 1. 1.\n",
      " 0. 1. 1. 1. 1. 1. 0. 1. 1. 0. 1. 1. 1. 1. 1. 1. 1. 1. 1. 1. 1. 1. 0. 1.\n",
      " 0. 0. 1. 0. 1. 1. 1. 1. 1. 0. 1. 1. 0. 1. 0. 1. 1. 0. 1. 0. 1. 1. 1. 1.\n",
      " 1. 1. 1. 1. 0. 0. 1. 1. 1. 1. 1. 1. 0. 1. 1. 1. 1. 1. 1. 1. 1. 1. 1. 0.\n",
      " 1. 1. 1. 1. 1. 1. 1. 0. 1. 0. 1. 1. 0. 1. 1. 1. 1. 1. 0. 0. 1. 0. 1. 0.\n",
      " 1. 1. 1. 1. 1. 0. 1. 1. 0. 1. 0. 1. 0. 0. 1. 1. 1. 0. 1. 1. 1. 1. 1. 1.\n",
      " 1. 1. 1. 1. 1. 0. 1. 0. 0. 1. 1. 1. 1. 1. 1. 1. 1. 1. 1. 1. 1. 1. 1. 1.\n",
      " 1. 1. 1. 1. 1. 1. 1. 1. 1. 1. 0. 0. 0. 0. 0. 0. 1.]\n"
     ]
    }
   ],
   "source": [
    "X = dataset.iloc[:, :-1].values \n",
    "y = dataset.iloc[:, -1].values\n",
    "print(X)\n",
    "print(y)"
   ]
  },
  {
   "cell_type": "markdown",
   "metadata": {
    "id": "VC6omXel_Up0"
   },
   "source": [
    "### Splitting the dataset into the Training set and Test set"
   ]
  },
  {
   "cell_type": "code",
   "execution_count": 9,
   "metadata": {
    "id": "L5edeb2r_agx"
   },
   "outputs": [],
   "source": [
    "from sklearn.model_selection import train_test_split\n",
    "X_train, X_test, y_train, y_test = train_test_split(X, y, test_size = 0.2, random_state = 42)\n",
    "N, D = X_train.shape"
   ]
  },
  {
   "cell_type": "markdown",
   "metadata": {
    "id": "RE_FcHyfV3TQ"
   },
   "source": [
    "### Feature Scaling"
   ]
  },
  {
   "cell_type": "code",
   "execution_count": 10,
   "metadata": {
    "id": "ViCrE00rV8Sk"
   },
   "outputs": [],
   "source": [
    "from sklearn.preprocessing import StandardScaler\n",
    "scaler = StandardScaler()\n",
    "X_train = scaler.fit_transform(X_train)\n",
    "X_test = scaler.transform(X_test)"
   ]
  },
  {
   "cell_type": "markdown",
   "metadata": {
    "id": "-zfEzkRVXIwF"
   },
   "source": [
    "## Part 2 - Building the model"
   ]
  },
  {
   "cell_type": "markdown",
   "metadata": {
    "id": "KvdeScabXtlB"
   },
   "source": [
    "### 1. Initializing the model"
   ]
  },
  {
   "cell_type": "code",
   "execution_count": 11,
   "metadata": {
    "id": "Ar2Gi3Yse94R"
   },
   "outputs": [],
   "source": [
    "model = tf.keras.models.Sequential()"
   ]
  },
  {
   "cell_type": "markdown",
   "metadata": {
    "id": "rP6urV6SX7kS"
   },
   "source": [
    "### 2. Adding the input layer and the output layer"
   ]
  },
  {
   "cell_type": "code",
   "execution_count": 12,
   "metadata": {
    "id": "tgBk-u2YfPqV"
   },
   "outputs": [],
   "source": [
    "model.add(tf.keras.layers.Dense(1,input_shape=(D,),activation='sigmoid'))"
   ]
  },
  {
   "cell_type": "markdown",
   "metadata": {
    "id": "JT4u2S1_Y4WG"
   },
   "source": [
    "## PART 3 - Training the Artificial Neural Network"
   ]
  },
  {
   "cell_type": "markdown",
   "metadata": {
    "id": "8GWlJChhY_ZI"
   },
   "source": [
    "### Compiling the model"
   ]
  },
  {
   "cell_type": "code",
   "execution_count": 13,
   "metadata": {
    "id": "fG3RrwDXZEaS"
   },
   "outputs": [],
   "source": [
    "model.compile(optimizer = 'adam', loss = 'binary_crossentropy', metrics = ['accuracy'])"
   ]
  },
  {
   "cell_type": "markdown",
   "metadata": {
    "id": "0QR_G5u7ZLSM"
   },
   "source": [
    "### Training the model on the Training set"
   ]
  },
  {
   "cell_type": "code",
   "execution_count": 14,
   "metadata": {
    "colab": {
     "base_uri": "https://localhost:8080/"
    },
    "executionInfo": {
     "elapsed": 8737,
     "status": "ok",
     "timestamp": 1616990250128,
     "user": {
      "displayName": "ddengineering 24",
      "photoUrl": "https://lh3.googleusercontent.com/a-/AOh14GjHIzKzQU2YXuWBw8yytI-cNjLe7r16kGIKte4_=s64",
      "userId": "16024618924253510203"
     },
     "user_tz": 420
    },
    "id": "Xz5-7Z3ThqU5",
    "outputId": "d83c0bf3-5137-4bea-a1ff-2af2f54b45cd"
   },
   "outputs": [
    {
     "name": "stdout",
     "output_type": "stream",
     "text": [
      "Epoch 1/100\n",
      "15/15 - 1s - loss: 0.8904 - accuracy: 0.4527 - val_loss: 0.8904 - val_accuracy: 0.5000\n",
      "Epoch 2/100\n",
      "15/15 - 0s - loss: 0.8004 - accuracy: 0.5231 - val_loss: 0.7985 - val_accuracy: 0.5526\n",
      "Epoch 3/100\n",
      "15/15 - 0s - loss: 0.7217 - accuracy: 0.5846 - val_loss: 0.7199 - val_accuracy: 0.6140\n",
      "Epoch 4/100\n",
      "15/15 - 0s - loss: 0.6550 - accuracy: 0.6637 - val_loss: 0.6521 - val_accuracy: 0.6404\n",
      "Epoch 5/100\n",
      "15/15 - 0s - loss: 0.5980 - accuracy: 0.7297 - val_loss: 0.5950 - val_accuracy: 0.6930\n",
      "Epoch 6/100\n",
      "15/15 - 0s - loss: 0.5490 - accuracy: 0.7604 - val_loss: 0.5463 - val_accuracy: 0.7719\n",
      "Epoch 7/100\n",
      "15/15 - 0s - loss: 0.5073 - accuracy: 0.7868 - val_loss: 0.5038 - val_accuracy: 0.7982\n",
      "Epoch 8/100\n",
      "15/15 - 0s - loss: 0.4705 - accuracy: 0.8154 - val_loss: 0.4682 - val_accuracy: 0.8070\n",
      "Epoch 9/100\n",
      "15/15 - 0s - loss: 0.4402 - accuracy: 0.8242 - val_loss: 0.4373 - val_accuracy: 0.8333\n",
      "Epoch 10/100\n",
      "15/15 - 0s - loss: 0.4129 - accuracy: 0.8418 - val_loss: 0.4101 - val_accuracy: 0.8421\n",
      "Epoch 11/100\n",
      "15/15 - 0s - loss: 0.3898 - accuracy: 0.8571 - val_loss: 0.3859 - val_accuracy: 0.8684\n",
      "Epoch 12/100\n",
      "15/15 - 0s - loss: 0.3687 - accuracy: 0.8659 - val_loss: 0.3647 - val_accuracy: 0.8684\n",
      "Epoch 13/100\n",
      "15/15 - 0s - loss: 0.3503 - accuracy: 0.8747 - val_loss: 0.3447 - val_accuracy: 0.8772\n",
      "Epoch 14/100\n",
      "15/15 - 0s - loss: 0.3336 - accuracy: 0.8879 - val_loss: 0.3272 - val_accuracy: 0.8772\n",
      "Epoch 15/100\n",
      "15/15 - 0s - loss: 0.3190 - accuracy: 0.8923 - val_loss: 0.3116 - val_accuracy: 0.8772\n",
      "Epoch 16/100\n",
      "15/15 - 0s - loss: 0.3057 - accuracy: 0.8945 - val_loss: 0.2978 - val_accuracy: 0.8772\n",
      "Epoch 17/100\n",
      "15/15 - 0s - loss: 0.2938 - accuracy: 0.9011 - val_loss: 0.2846 - val_accuracy: 0.8860\n",
      "Epoch 18/100\n",
      "15/15 - 0s - loss: 0.2824 - accuracy: 0.9077 - val_loss: 0.2729 - val_accuracy: 0.8947\n",
      "Epoch 19/100\n",
      "15/15 - 0s - loss: 0.2721 - accuracy: 0.9121 - val_loss: 0.2621 - val_accuracy: 0.9035\n",
      "Epoch 20/100\n",
      "15/15 - 0s - loss: 0.2626 - accuracy: 0.9165 - val_loss: 0.2524 - val_accuracy: 0.9123\n",
      "Epoch 21/100\n",
      "15/15 - 0s - loss: 0.2541 - accuracy: 0.9165 - val_loss: 0.2430 - val_accuracy: 0.9123\n",
      "Epoch 22/100\n",
      "15/15 - 0s - loss: 0.2461 - accuracy: 0.9209 - val_loss: 0.2346 - val_accuracy: 0.9123\n",
      "Epoch 23/100\n",
      "15/15 - 0s - loss: 0.2387 - accuracy: 0.9209 - val_loss: 0.2269 - val_accuracy: 0.9211\n",
      "Epoch 24/100\n",
      "15/15 - 0s - loss: 0.2317 - accuracy: 0.9209 - val_loss: 0.2195 - val_accuracy: 0.9211\n",
      "Epoch 25/100\n",
      "15/15 - 0s - loss: 0.2252 - accuracy: 0.9209 - val_loss: 0.2123 - val_accuracy: 0.9298\n",
      "Epoch 26/100\n",
      "15/15 - 0s - loss: 0.2192 - accuracy: 0.9275 - val_loss: 0.2057 - val_accuracy: 0.9386\n",
      "Epoch 27/100\n",
      "15/15 - 0s - loss: 0.2134 - accuracy: 0.9275 - val_loss: 0.1997 - val_accuracy: 0.9649\n",
      "Epoch 28/100\n",
      "15/15 - 0s - loss: 0.2080 - accuracy: 0.9363 - val_loss: 0.1940 - val_accuracy: 0.9649\n",
      "Epoch 29/100\n",
      "15/15 - 0s - loss: 0.2029 - accuracy: 0.9385 - val_loss: 0.1887 - val_accuracy: 0.9649\n",
      "Epoch 30/100\n",
      "15/15 - 0s - loss: 0.1981 - accuracy: 0.9429 - val_loss: 0.1837 - val_accuracy: 0.9649\n",
      "Epoch 31/100\n",
      "15/15 - 0s - loss: 0.1936 - accuracy: 0.9429 - val_loss: 0.1791 - val_accuracy: 0.9649\n",
      "Epoch 32/100\n",
      "15/15 - 0s - loss: 0.1894 - accuracy: 0.9429 - val_loss: 0.1745 - val_accuracy: 0.9649\n",
      "Epoch 33/100\n",
      "15/15 - 0s - loss: 0.1854 - accuracy: 0.9451 - val_loss: 0.1705 - val_accuracy: 0.9649\n",
      "Epoch 34/100\n",
      "15/15 - 0s - loss: 0.1813 - accuracy: 0.9473 - val_loss: 0.1666 - val_accuracy: 0.9649\n",
      "Epoch 35/100\n",
      "15/15 - 0s - loss: 0.1775 - accuracy: 0.9473 - val_loss: 0.1629 - val_accuracy: 0.9649\n",
      "Epoch 36/100\n",
      "15/15 - 0s - loss: 0.1740 - accuracy: 0.9495 - val_loss: 0.1594 - val_accuracy: 0.9649\n",
      "Epoch 37/100\n",
      "15/15 - 0s - loss: 0.1707 - accuracy: 0.9473 - val_loss: 0.1560 - val_accuracy: 0.9649\n",
      "Epoch 38/100\n",
      "15/15 - 0s - loss: 0.1676 - accuracy: 0.9473 - val_loss: 0.1528 - val_accuracy: 0.9649\n",
      "Epoch 39/100\n",
      "15/15 - 0s - loss: 0.1647 - accuracy: 0.9473 - val_loss: 0.1497 - val_accuracy: 0.9737\n",
      "Epoch 40/100\n",
      "15/15 - 0s - loss: 0.1619 - accuracy: 0.9473 - val_loss: 0.1469 - val_accuracy: 0.9825\n",
      "Epoch 41/100\n",
      "15/15 - 0s - loss: 0.1591 - accuracy: 0.9473 - val_loss: 0.1442 - val_accuracy: 0.9825\n",
      "Epoch 42/100\n",
      "15/15 - 0s - loss: 0.1564 - accuracy: 0.9473 - val_loss: 0.1415 - val_accuracy: 0.9825\n",
      "Epoch 43/100\n",
      "15/15 - 0s - loss: 0.1540 - accuracy: 0.9495 - val_loss: 0.1389 - val_accuracy: 0.9825\n",
      "Epoch 44/100\n",
      "15/15 - 0s - loss: 0.1515 - accuracy: 0.9495 - val_loss: 0.1365 - val_accuracy: 0.9825\n",
      "Epoch 45/100\n",
      "15/15 - 0s - loss: 0.1492 - accuracy: 0.9495 - val_loss: 0.1343 - val_accuracy: 0.9825\n",
      "Epoch 46/100\n",
      "15/15 - 0s - loss: 0.1470 - accuracy: 0.9495 - val_loss: 0.1321 - val_accuracy: 0.9825\n",
      "Epoch 47/100\n",
      "15/15 - 0s - loss: 0.1449 - accuracy: 0.9495 - val_loss: 0.1301 - val_accuracy: 0.9912\n",
      "Epoch 48/100\n",
      "15/15 - 0s - loss: 0.1428 - accuracy: 0.9560 - val_loss: 0.1281 - val_accuracy: 0.9912\n",
      "Epoch 49/100\n",
      "15/15 - 0s - loss: 0.1408 - accuracy: 0.9560 - val_loss: 0.1261 - val_accuracy: 0.9912\n",
      "Epoch 50/100\n",
      "15/15 - 0s - loss: 0.1389 - accuracy: 0.9582 - val_loss: 0.1243 - val_accuracy: 0.9912\n",
      "Epoch 51/100\n",
      "15/15 - 0s - loss: 0.1370 - accuracy: 0.9604 - val_loss: 0.1225 - val_accuracy: 0.9912\n",
      "Epoch 52/100\n",
      "15/15 - 0s - loss: 0.1353 - accuracy: 0.9582 - val_loss: 0.1207 - val_accuracy: 0.9912\n",
      "Epoch 53/100\n",
      "15/15 - 0s - loss: 0.1335 - accuracy: 0.9604 - val_loss: 0.1191 - val_accuracy: 0.9912\n",
      "Epoch 54/100\n",
      "15/15 - 0s - loss: 0.1319 - accuracy: 0.9626 - val_loss: 0.1174 - val_accuracy: 0.9912\n",
      "Epoch 55/100\n",
      "15/15 - 0s - loss: 0.1303 - accuracy: 0.9626 - val_loss: 0.1159 - val_accuracy: 0.9912\n",
      "Epoch 56/100\n",
      "15/15 - 0s - loss: 0.1287 - accuracy: 0.9648 - val_loss: 0.1145 - val_accuracy: 0.9825\n",
      "Epoch 57/100\n",
      "15/15 - 0s - loss: 0.1272 - accuracy: 0.9648 - val_loss: 0.1130 - val_accuracy: 0.9825\n",
      "Epoch 58/100\n",
      "15/15 - 0s - loss: 0.1257 - accuracy: 0.9648 - val_loss: 0.1116 - val_accuracy: 0.9825\n",
      "Epoch 59/100\n",
      "15/15 - 0s - loss: 0.1244 - accuracy: 0.9670 - val_loss: 0.1101 - val_accuracy: 0.9825\n",
      "Epoch 60/100\n",
      "15/15 - 0s - loss: 0.1230 - accuracy: 0.9692 - val_loss: 0.1088 - val_accuracy: 0.9825\n",
      "Epoch 61/100\n",
      "15/15 - 0s - loss: 0.1216 - accuracy: 0.9736 - val_loss: 0.1076 - val_accuracy: 0.9825\n",
      "Epoch 62/100\n",
      "15/15 - 0s - loss: 0.1203 - accuracy: 0.9758 - val_loss: 0.1064 - val_accuracy: 0.9825\n",
      "Epoch 63/100\n",
      "15/15 - 0s - loss: 0.1191 - accuracy: 0.9758 - val_loss: 0.1053 - val_accuracy: 0.9825\n",
      "Epoch 64/100\n",
      "15/15 - 0s - loss: 0.1180 - accuracy: 0.9758 - val_loss: 0.1042 - val_accuracy: 0.9825\n",
      "Epoch 65/100\n",
      "15/15 - 0s - loss: 0.1168 - accuracy: 0.9758 - val_loss: 0.1032 - val_accuracy: 0.9825\n",
      "Epoch 66/100\n",
      "15/15 - 0s - loss: 0.1157 - accuracy: 0.9780 - val_loss: 0.1021 - val_accuracy: 0.9825\n",
      "Epoch 67/100\n",
      "15/15 - 0s - loss: 0.1146 - accuracy: 0.9824 - val_loss: 0.1012 - val_accuracy: 0.9825\n",
      "Epoch 68/100\n",
      "15/15 - 0s - loss: 0.1135 - accuracy: 0.9846 - val_loss: 0.1002 - val_accuracy: 0.9825\n",
      "Epoch 69/100\n",
      "15/15 - 0s - loss: 0.1124 - accuracy: 0.9846 - val_loss: 0.0993 - val_accuracy: 0.9825\n",
      "Epoch 70/100\n",
      "15/15 - 0s - loss: 0.1114 - accuracy: 0.9846 - val_loss: 0.0985 - val_accuracy: 0.9825\n",
      "Epoch 71/100\n",
      "15/15 - 0s - loss: 0.1103 - accuracy: 0.9846 - val_loss: 0.0976 - val_accuracy: 0.9825\n",
      "Epoch 72/100\n",
      "15/15 - 0s - loss: 0.1094 - accuracy: 0.9846 - val_loss: 0.0968 - val_accuracy: 0.9825\n",
      "Epoch 73/100\n",
      "15/15 - 0s - loss: 0.1085 - accuracy: 0.9846 - val_loss: 0.0961 - val_accuracy: 0.9825\n",
      "Epoch 74/100\n",
      "15/15 - 0s - loss: 0.1076 - accuracy: 0.9846 - val_loss: 0.0953 - val_accuracy: 0.9825\n",
      "Epoch 75/100\n",
      "15/15 - 0s - loss: 0.1068 - accuracy: 0.9846 - val_loss: 0.0946 - val_accuracy: 0.9825\n",
      "Epoch 76/100\n",
      "15/15 - 0s - loss: 0.1060 - accuracy: 0.9846 - val_loss: 0.0938 - val_accuracy: 0.9825\n",
      "Epoch 77/100\n",
      "15/15 - 0s - loss: 0.1051 - accuracy: 0.9868 - val_loss: 0.0931 - val_accuracy: 0.9825\n",
      "Epoch 78/100\n",
      "15/15 - 0s - loss: 0.1043 - accuracy: 0.9868 - val_loss: 0.0923 - val_accuracy: 0.9825\n",
      "Epoch 79/100\n",
      "15/15 - 0s - loss: 0.1036 - accuracy: 0.9868 - val_loss: 0.0916 - val_accuracy: 0.9825\n",
      "Epoch 80/100\n",
      "15/15 - 0s - loss: 0.1028 - accuracy: 0.9868 - val_loss: 0.0910 - val_accuracy: 0.9825\n",
      "Epoch 81/100\n",
      "15/15 - 0s - loss: 0.1021 - accuracy: 0.9868 - val_loss: 0.0903 - val_accuracy: 0.9825\n",
      "Epoch 82/100\n",
      "15/15 - 0s - loss: 0.1014 - accuracy: 0.9868 - val_loss: 0.0897 - val_accuracy: 0.9825\n",
      "Epoch 83/100\n"
     ]
    },
    {
     "name": "stdout",
     "output_type": "stream",
     "text": [
      "15/15 - 0s - loss: 0.1008 - accuracy: 0.9868 - val_loss: 0.0893 - val_accuracy: 0.9825\n",
      "Epoch 84/100\n",
      "15/15 - 0s - loss: 0.1001 - accuracy: 0.9868 - val_loss: 0.0886 - val_accuracy: 0.9825\n",
      "Epoch 85/100\n",
      "15/15 - 0s - loss: 0.0994 - accuracy: 0.9868 - val_loss: 0.0880 - val_accuracy: 0.9825\n",
      "Epoch 86/100\n",
      "15/15 - 0s - loss: 0.0987 - accuracy: 0.9868 - val_loss: 0.0874 - val_accuracy: 0.9825\n",
      "Epoch 87/100\n",
      "15/15 - 0s - loss: 0.0980 - accuracy: 0.9868 - val_loss: 0.0869 - val_accuracy: 0.9825\n",
      "Epoch 88/100\n",
      "15/15 - 0s - loss: 0.0974 - accuracy: 0.9890 - val_loss: 0.0864 - val_accuracy: 0.9825\n",
      "Epoch 89/100\n",
      "15/15 - 0s - loss: 0.0968 - accuracy: 0.9890 - val_loss: 0.0859 - val_accuracy: 0.9825\n",
      "Epoch 90/100\n",
      "15/15 - 0s - loss: 0.0962 - accuracy: 0.9890 - val_loss: 0.0853 - val_accuracy: 0.9825\n",
      "Epoch 91/100\n",
      "15/15 - 0s - loss: 0.0956 - accuracy: 0.9868 - val_loss: 0.0848 - val_accuracy: 0.9825\n",
      "Epoch 92/100\n",
      "15/15 - 0s - loss: 0.0950 - accuracy: 0.9868 - val_loss: 0.0843 - val_accuracy: 0.9825\n",
      "Epoch 93/100\n",
      "15/15 - 0s - loss: 0.0944 - accuracy: 0.9868 - val_loss: 0.0839 - val_accuracy: 0.9825\n",
      "Epoch 94/100\n",
      "15/15 - 0s - loss: 0.0939 - accuracy: 0.9846 - val_loss: 0.0834 - val_accuracy: 0.9825\n",
      "Epoch 95/100\n",
      "15/15 - 0s - loss: 0.0934 - accuracy: 0.9846 - val_loss: 0.0829 - val_accuracy: 0.9825\n",
      "Epoch 96/100\n",
      "15/15 - 0s - loss: 0.0930 - accuracy: 0.9846 - val_loss: 0.0826 - val_accuracy: 0.9825\n",
      "Epoch 97/100\n",
      "15/15 - 0s - loss: 0.0924 - accuracy: 0.9846 - val_loss: 0.0822 - val_accuracy: 0.9825\n",
      "Epoch 98/100\n",
      "15/15 - 0s - loss: 0.0919 - accuracy: 0.9846 - val_loss: 0.0818 - val_accuracy: 0.9825\n",
      "Epoch 99/100\n",
      "15/15 - 0s - loss: 0.0914 - accuracy: 0.9846 - val_loss: 0.0815 - val_accuracy: 0.9825\n",
      "Epoch 100/100\n",
      "15/15 - 0s - loss: 0.0910 - accuracy: 0.9846 - val_loss: 0.0811 - val_accuracy: 0.9825\n",
      "15/15 [==============================] - 0s 873us/step - loss: 0.0907 - accuracy: 0.9846\n",
      "Train score: [0.09066197276115417, 0.9846153855323792]\n",
      "4/4 [==============================] - 0s 2ms/step - loss: 0.0811 - accuracy: 0.9825\n",
      "Test score: [0.08105672895908356, 0.9824561476707458]\n"
     ]
    }
   ],
   "source": [
    "r = model.fit(X_train,y_train, validation_data = (X_test,y_test), epochs = 100, verbose = 2)\n",
    "print(\"Train score:\", model.evaluate(X_train, y_train))\n",
    "print(\"Test score:\", model.evaluate(X_test, y_test))"
   ]
  },
  {
   "cell_type": "code",
   "execution_count": 15,
   "metadata": {
    "colab": {
     "base_uri": "https://localhost:8080/",
     "height": 282
    },
    "executionInfo": {
     "elapsed": 8837,
     "status": "ok",
     "timestamp": 1616990250264,
     "user": {
      "displayName": "ddengineering 24",
      "photoUrl": "https://lh3.googleusercontent.com/a-/AOh14GjHIzKzQU2YXuWBw8yytI-cNjLe7r16kGIKte4_=s64",
      "userId": "16024618924253510203"
     },
     "user_tz": 420
    },
    "id": "q3L5mv75I6Fk",
    "outputId": "90002c40-664f-474b-d3e8-f09412653323"
   },
   "outputs": [
    {
     "data": {
      "text/plain": [
       "<matplotlib.legend.Legend at 0x1b42ced7b08>"
      ]
     },
     "execution_count": 15,
     "metadata": {},
     "output_type": "execute_result"
    },
    {
     "data": {
      "image/png": "[encoded data removed]",
      "text/plain": [
       "<Figure size 432x288 with 1 Axes>"
      ]
     },
     "metadata": {
      "needs_background": "light"
     },
     "output_type": "display_data"
    }
   ],
   "source": [
    "# Plot what's returned by model.fit()\n",
    "import matplotlib.pyplot as plt\n",
    "plt.plot(r.history['loss'], label='loss')\n",
    "plt.plot(r.history['val_loss'], label='val_loss')\n",
    "plt.legend()"
   ]
  },
  {
   "cell_type": "code",
   "execution_count": 16,
   "metadata": {
    "colab": {
     "base_uri": "https://localhost:8080/",
     "height": 282
    },
    "executionInfo": {
     "elapsed": 9270,
     "status": "ok",
     "timestamp": 1616990250719,
     "user": {
      "displayName": "ddengineering 24",
      "photoUrl": "https://lh3.googleusercontent.com/a-/AOh14GjHIzKzQU2YXuWBw8yytI-cNjLe7r16kGIKte4_=s64",
      "userId": "16024618924253510203"
     },
     "user_tz": 420
    },
    "id": "nP94ZHhJLm7l",
    "outputId": "2febe0f7-a714-4cc4-9d6d-934f85b64c61"
   },
   "outputs": [
    {
     "data": {
      "text/plain": [
       "<matplotlib.legend.Legend at 0x1b429be2488>"
      ]
     },
     "execution_count": 16,
     "metadata": {},
     "output_type": "execute_result"
    },
    {
     "data": {
      "image/png": "[encoded data removed]",
      "text/plain": [
       "<Figure size 432x288 with 1 Axes>"
      ]
     },
     "metadata": {
      "needs_background": "light"
     },
     "output_type": "display_data"
    }
   ],
   "source": [
    "# Plot the accuracy too\n",
    "plt.plot(r.history['accuracy'], label='acc')\n",
    "plt.plot(r.history['val_accuracy'], label='val_acc')\n",
    "plt.legend()"
   ]
  },
  {
   "cell_type": "markdown",
   "metadata": {
    "id": "tJj5k2MxZga3"
   },
   "source": [
    "## Part 4 - Making the predictions and evaluating the model"
   ]
  },
  {
   "cell_type": "code",
   "execution_count": 17,
   "metadata": {
    "colab": {
     "base_uri": "https://localhost:8080/"
    },
    "executionInfo": {
     "elapsed": 9253,
     "status": "ok",
     "timestamp": 1616990250726,
     "user": {
      "displayName": "ddengineering 24",
      "photoUrl": "https://lh3.googleusercontent.com/a-/AOh14GjHIzKzQU2YXuWBw8yytI-cNjLe7r16kGIKte4_=s64",
      "userId": "16024618924253510203"
     },
     "user_tz": 420
    },
    "id": "RrXQebohh6OM",
    "outputId": "0dd1cc23-b882-4bb7-c0df-21c9445b3a0c"
   },
   "outputs": [
    {
     "name": "stdout",
     "output_type": "stream",
     "text": [
      "[[1. 1.]\n",
      " [0. 0.]\n",
      " [0. 0.]\n",
      " [1. 1.]\n",
      " [1. 1.]\n",
      " [0. 0.]\n",
      " [0. 0.]\n",
      " [0. 0.]\n",
      " [1. 1.]\n",
      " [1. 1.]\n",
      " [1. 1.]\n",
      " [0. 0.]\n",
      " [1. 1.]\n",
      " [0. 0.]\n",
      " [1. 1.]\n",
      " [0. 0.]\n",
      " [1. 1.]\n",
      " [1. 1.]\n",
      " [1. 1.]\n",
      " [0. 0.]\n",
      " [1. 0.]\n",
      " [1. 1.]\n",
      " [0. 0.]\n",
      " [1. 1.]\n",
      " [1. 1.]\n",
      " [1. 1.]\n",
      " [1. 1.]\n",
      " [1. 1.]\n",
      " [1. 1.]\n",
      " [0. 0.]\n",
      " [1. 1.]\n",
      " [1. 1.]\n",
      " [1. 1.]\n",
      " [1. 1.]\n",
      " [1. 1.]\n",
      " [1. 1.]\n",
      " [0. 0.]\n",
      " [1. 1.]\n",
      " [0. 0.]\n",
      " [1. 1.]\n",
      " [1. 1.]\n",
      " [0. 0.]\n",
      " [1. 1.]\n",
      " [1. 1.]\n",
      " [1. 1.]\n",
      " [1. 1.]\n",
      " [1. 1.]\n",
      " [1. 1.]\n",
      " [1. 1.]\n",
      " [1. 1.]\n",
      " [0. 0.]\n",
      " [0. 0.]\n",
      " [1. 1.]\n",
      " [1. 1.]\n",
      " [1. 1.]\n",
      " [1. 1.]\n",
      " [1. 1.]\n",
      " [0. 0.]\n",
      " [0. 0.]\n",
      " [1. 1.]\n",
      " [1. 1.]\n",
      " [0. 0.]\n",
      " [0. 0.]\n",
      " [1. 1.]\n",
      " [1. 1.]\n",
      " [1. 1.]\n",
      " [0. 0.]\n",
      " [0. 0.]\n",
      " [1. 1.]\n",
      " [1. 1.]\n",
      " [0. 0.]\n",
      " [0. 0.]\n",
      " [1. 1.]\n",
      " [0. 0.]\n",
      " [1. 1.]\n",
      " [1. 1.]\n",
      " [1. 1.]\n",
      " [1. 0.]\n",
      " [1. 1.]\n",
      " [1. 1.]\n",
      " [0. 0.]\n",
      " [1. 1.]\n",
      " [0. 0.]\n",
      " [0. 0.]\n",
      " [0. 0.]\n",
      " [0. 0.]\n",
      " [0. 0.]\n",
      " [0. 0.]\n",
      " [1. 1.]\n",
      " [1. 1.]\n",
      " [1. 1.]\n",
      " [1. 1.]\n",
      " [1. 1.]\n",
      " [1. 1.]\n",
      " [1. 1.]\n",
      " [1. 1.]\n",
      " [0. 0.]\n",
      " [0. 0.]\n",
      " [1. 1.]\n",
      " [0. 0.]\n",
      " [0. 0.]\n",
      " [1. 1.]\n",
      " [0. 0.]\n",
      " [0. 0.]\n",
      " [1. 1.]\n",
      " [1. 1.]\n",
      " [1. 1.]\n",
      " [0. 0.]\n",
      " [1. 1.]\n",
      " [1. 1.]\n",
      " [0. 0.]\n",
      " [1. 1.]\n",
      " [1. 1.]\n",
      " [0. 0.]]\n"
     ]
    }
   ],
   "source": [
    "y_pred = model.predict(X_test)\n",
    "y_pred = (y_pred > 0.5)\n",
    "print(np.concatenate((y_pred.reshape(len(y_pred),1), y_test.reshape(len(y_test),1)),1))"
   ]
  },
  {
   "cell_type": "code",
   "execution_count": 18,
   "metadata": {
    "colab": {
     "base_uri": "https://localhost:8080/"
    },
    "executionInfo": {
     "elapsed": 9385,
     "status": "ok",
     "timestamp": 1616990250889,
     "user": {
      "displayName": "ddengineering 24",
      "photoUrl": "https://lh3.googleusercontent.com/a-/AOh14GjHIzKzQU2YXuWBw8yytI-cNjLe7r16kGIKte4_=s64",
      "userId": "16024618924253510203"
     },
     "user_tz": 420
    },
    "id": "Ji1VLjgcDY--",
    "outputId": "d694b8bd-53ba-4a72-d053-c3bb4e572043"
   },
   "outputs": [
    {
     "name": "stdout",
     "output_type": "stream",
     "text": [
      "Manually Calculated Accuracy: 0.9824561403508771\n",
      "4/4 [==============================] - 0s 1ms/step - loss: 0.0811 - accuracy: 0.9825\n",
      "Evaluated output: [0.08105672895908356, 0.9824561476707458]\n"
     ]
    }
   ],
   "source": [
    "print('Manually Calculated Accuracy:', np.mean(y_pred.reshape(len(y_pred),1) ==  y_test.reshape(len(y_test),1)))\n",
    "print('Evaluated output:', model.evaluate(X_test,y_test) )"
   ]
  },
  {
   "cell_type": "markdown",
   "metadata": {
    "id": "o0oyfLWoaEGw"
   },
   "source": [
    "### Making the Confusion Matrix"
   ]
  },
  {
   "cell_type": "code",
   "execution_count": 19,
   "metadata": {
    "colab": {
     "base_uri": "https://localhost:8080/"
    },
    "executionInfo": {
     "elapsed": 9354,
     "status": "ok",
     "timestamp": 1616990250890,
     "user": {
      "displayName": "ddengineering 24",
      "photoUrl": "https://lh3.googleusercontent.com/a-/AOh14GjHIzKzQU2YXuWBw8yytI-cNjLe7r16kGIKte4_=s64",
      "userId": "16024618924253510203"
     },
     "user_tz": 420
    },
    "id": "ci6K_r6LaF6P",
    "outputId": "a8938dac-a268-48fc-9207-a1e99412dc2c"
   },
   "outputs": [
    {
     "name": "stdout",
     "output_type": "stream",
     "text": [
      "[[41  2]\n",
      " [ 0 71]]\n",
      "              precision    recall  f1-score   support\n",
      "\n",
      "         0.0       1.00      0.95      0.98        43\n",
      "         1.0       0.97      1.00      0.99        71\n",
      "\n",
      "    accuracy                           0.98       114\n",
      "   macro avg       0.99      0.98      0.98       114\n",
      "weighted avg       0.98      0.98      0.98       114\n",
      "\n"
     ]
    }
   ],
   "source": [
    "from sklearn.metrics import confusion_matrix,classification_report\n",
    "cm = confusion_matrix(y_test, y_pred)\n",
    "print(cm)\n",
    "print(classification_report(y_test, y_pred))"
   ]
  },
  {
   "cell_type": "code",
   "execution_count": 20,
   "metadata": {
    "id": "wfkCRcbnibYt"
   },
   "outputs": [],
   "source": [
    "# #how to save and load model\n",
    "# model.save('mysupermodel.h5')\n",
    "# from keras.models import load_model\n",
    "# newmodel = load_model('mysupermodel.h5')\n",
    "# newmodel.predict(X_test)"
   ]
  },
  {
   "cell_type": "markdown",
   "metadata": {
    "id": "iogYs0uGNS4l"
   },
   "source": [
    "# Part 3: Saving and Loading a Model\n",
    "\n"
   ]
  },
  {
   "cell_type": "code",
   "execution_count": null,
   "metadata": {
    "id": "L1uHxJ2SNXan"
   },
   "outputs": [],
   "source": [
    "# Let's now save our model to a file\n",
    "model.save('linearclassifier.h5')"
   ]
  },
  {
   "cell_type": "code",
   "execution_count": null,
   "metadata": {
    "colab": {
     "base_uri": "https://localhost:8080/"
    },
    "executionInfo": {
     "elapsed": 9488,
     "status": "ok",
     "timestamp": 1616990251065,
     "user": {
      "displayName": "ddengineering 24",
      "photoUrl": "https://lh3.googleusercontent.com/a-/AOh14GjHIzKzQU2YXuWBw8yytI-cNjLe7r16kGIKte4_=s64",
      "userId": "16024618924253510203"
     },
     "user_tz": 420
    },
    "id": "F6PHmjb0OFBf",
    "outputId": "d0041dea-5b61-41fe-d1fe-e5314bfa8db6"
   },
   "outputs": [
    {
     "name": "stdout",
     "output_type": "stream",
     "text": [
      "total 24K\n",
      "-rw-r--r-- 1 root root  19K Mar 29 03:57 linearclassifier.h5\n",
      "drwxr-xr-x 1 root root 4.0K Mar 18 13:36 sample_data\n"
     ]
    }
   ],
   "source": [
    "# Check that the model file exists\n",
    "!ls -lh"
   ]
  },
  {
   "cell_type": "code",
   "execution_count": null,
   "metadata": {
    "colab": {
     "base_uri": "https://localhost:8080/"
    },
    "executionInfo": {
     "elapsed": 9612,
     "status": "ok",
     "timestamp": 1616990251219,
     "user": {
      "displayName": "ddengineering 24",
      "photoUrl": "https://lh3.googleusercontent.com/a-/AOh14GjHIzKzQU2YXuWBw8yytI-cNjLe7r16kGIKte4_=s64",
      "userId": "16024618924253510203"
     },
     "user_tz": 420
    },
    "id": "ckxJV8-bhrRL",
    "outputId": "6e4d7cad-1fb9-4a33-e588-96a2b0376098"
   },
   "outputs": [
    {
     "name": "stdout",
     "output_type": "stream",
     "text": [
      "[<tensorflow.python.keras.layers.core.Dense object at 0x7faff4e2c850>]\n",
      "4/4 [==============================] - 0s 3ms/step - loss: 0.0990 - accuracy: 0.9825\n"
     ]
    },
    {
     "data": {
      "text/plain": [
       "[0.09901116788387299, 0.9824561476707458]"
      ]
     },
     "execution_count": 58,
     "metadata": {
      "tags": []
     },
     "output_type": "execute_result"
    }
   ],
   "source": [
    "# Let's load the model and confirm that it still works\n",
    "# Note: there is a bug in Keras where load/save only works if you DON'T use the Input() layer explicitly\n",
    "# So, make sure you define the model with ONLY Dense(1, input_shape=(D,))\n",
    "# At least, until the bug is fixed\n",
    "# https://github.com/keras-team/keras/issues/10417\n",
    "model = tf.keras.models.load_model('linearclassifier.h5')\n",
    "print(model.layers)\n",
    "model.evaluate(X_test,y_test)\n"
   ]
  },
  {
   "cell_type": "code",
   "execution_count": null,
   "metadata": {
    "colab": {
     "base_uri": "https://localhost:8080/",
     "height": 17
    },
    "executionInfo": {
     "elapsed": 9614,
     "status": "ok",
     "timestamp": 1616990251227,
     "user": {
      "displayName": "ddengineering 24",
      "photoUrl": "https://lh3.googleusercontent.com/a-/AOh14GjHIzKzQU2YXuWBw8yytI-cNjLe7r16kGIKte4_=s64",
      "userId": "16024618924253510203"
     },
     "user_tz": 420
    },
    "id": "_8rGQI-Rpo2T",
    "outputId": "2bea09aa-fb68-466b-a019-bbed698bee8c"
   },
   "outputs": [
    {
     "data": {
      "application/javascript": [
       "\n",
       "    async function download(id, filename, size) {\n",
       "      if (!google.colab.kernel.accessAllowed) {\n",
       "        return;\n",
       "      }\n",
       "      const div = document.createElement('div');\n",
       "      const label = document.createElement('label');\n",
       "      label.textContent = `Downloading \"${filename}\": `;\n",
       "      div.appendChild(label);\n",
       "      const progress = document.createElement('progress');\n",
       "      progress.max = size;\n",
       "      div.appendChild(progress);\n",
       "      document.body.appendChild(div);\n",
       "\n",
       "      const buffers = [];\n",
       "      let downloaded = 0;\n",
       "\n",
       "      const channel = await google.colab.kernel.comms.open(id);\n",
       "      // Send a message to notify the kernel that we're ready.\n",
       "      channel.send({})\n",
       "\n",
       "      for await (const message of channel.messages) {\n",
       "        // Send a message to notify the kernel that we're ready.\n",
       "        channel.send({})\n",
       "        if (message.buffers) {\n",
       "          for (const buffer of message.buffers) {\n",
       "            buffers.push(buffer);\n",
       "            downloaded += buffer.byteLength;\n",
       "            progress.value = downloaded;\n",
       "          }\n",
       "        }\n",
       "      }\n",
       "      const blob = new Blob(buffers, {type: 'application/binary'});\n",
       "      const a = document.createElement('a');\n",
       "      a.href = window.URL.createObjectURL(blob);\n",
       "      a.download = filename;\n",
       "      div.appendChild(a);\n",
       "      a.click();\n",
       "      div.remove();\n",
       "    }\n",
       "  "
      ],
      "text/plain": [
       "<IPython.core.display.Javascript object>"
      ]
     },
     "metadata": {
      "tags": []
     },
     "output_type": "display_data"
    },
    {
     "data": {
      "application/javascript": [
       "download(\"download_1c6e48e0-d62c-4854-939b-e4fee7ef650c\", \"linearclassifier.h5\", 18488)"
      ],
      "text/plain": [
       "<IPython.core.display.Javascript object>"
      ]
     },
     "metadata": {
      "tags": []
     },
     "output_type": "display_data"
    }
   ],
   "source": [
    "\n",
    "# Download the file - requires Chrome (at this point)\n",
    "from google.colab import files\n",
    "files.download('linearclassifier.h5')"
   ]
  }
 ],
 "metadata": {
  "colab": {
   "authorship_tag": "ABX9TyNhi8DO9xFK2UH38fVoKn0C",
   "collapsed_sections": [],
   "mount_file_id": "1rUqQMqtF_taayK8ikwJAYkLeXpOOI_lR",
   "name": "SimpleANN_ANN_breast_cancer_diagnosis_tensorflow.ipynb",
   "provenance": []
  },
  "kernelspec": {
   "display_name": "Python 3",
   "language": "python",
   "name": "python3"
  },
  "language_info": {
   "codemirror_mode": {
    "name": "ipython",
    "version": 3
   },
   "file_extension": ".py",
   "mimetype": "text/x-python",
   "name": "python",
   "nbconvert_exporter": "python",
   "pygments_lexer": "ipython3",
   "version": "3.7.10"
  },
  "varInspector": {
   "cols": {
    "lenName": 16,
    "lenType": 16,
    "lenVar": 40
   },
   "kernels_config": {
    "python": {
     "delete_cmd_postfix": "",
     "delete_cmd_prefix": "del ",
     "library": "var_list.py",
     "varRefreshCmd": "print(var_dic_list())"
    },
    "r": {
     "delete_cmd_postfix": ") ",
     "delete_cmd_prefix": "rm(",
     "library": "var_list.r",
     "varRefreshCmd": "cat(var_dic_list()) "
    }
   },
   "types_to_exclude": [
    "module",
    "function",
    "builtin_function_or_method",
    "instance",
    "_Feature"
   ],
   "window_display": false
  }
 },
 "nbformat": 4,
 "nbformat_minor": 1
}
