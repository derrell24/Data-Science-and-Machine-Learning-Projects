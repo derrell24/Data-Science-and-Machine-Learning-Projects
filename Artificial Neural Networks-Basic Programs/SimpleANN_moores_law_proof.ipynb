{
 "cells": [
  {
   "cell_type": "markdown",
   "metadata": {
    "id": "FocgdD8CaF92"
   },
   "source": [
    "## Artifical neural network for proving Moore's law using Tensorflow"
   ]
  },
  {
   "cell_type": "markdown",
   "metadata": {
    "id": "8sNDnxE2-pwE"
   },
   "source": [
    "### Importing the libraries"
   ]
  },
  {
   "cell_type": "code",
   "execution_count": null,
   "metadata": {
    "id": "qYUfKBR0aOZ5"
   },
   "outputs": [],
   "source": [
    "import numpy as np\n",
    "import pandas as pd\n",
    "import tensorflow as tf\n",
    "import matplotlib.pyplot as plt"
   ]
  },
  {
   "cell_type": "markdown",
   "metadata": {
    "id": "QQFREjfXa4Fz"
   },
   "source": [
    "## Part 1 - Data Preprocessing\n",
    "\n",
    "\n",
    "\n"
   ]
  },
  {
   "cell_type": "markdown",
   "metadata": {
    "id": "-4zq8Mza_D9O"
   },
   "source": [
    "### Importing the dataset"
   ]
  },
  {
   "cell_type": "code",
   "execution_count": 1,
   "metadata": {
    "colab": {
     "base_uri": "https://localhost:8080/"
    },
    "executionInfo": {
     "elapsed": 3187,
     "status": "ok",
     "timestamp": 1616989751993,
     "user": {
      "displayName": "ddengineering 24",
      "photoUrl": "https://lh3.googleusercontent.com/a-/AOh14GjHIzKzQU2YXuWBw8yytI-cNjLe7r16kGIKte4_=s64",
      "userId": "16024618924253510203"
     },
     "user_tz": 420
    },
    "id": "2lSreunla6KO",
    "outputId": "9b749602-919d-4511-8486-15c4f5e6e626"
   },
   "outputs": [
    {
     "name": "stderr",
     "output_type": "stream",
     "text": [
      "'wget' is not recognized as an internal or external command,\n",
      "operable program or batch file.\n"
     ]
    },
    {
     "ename": "NameError",
     "evalue": "name 'pd' is not defined",
     "output_type": "error",
     "traceback": [
      "\u001b[1;31m---------------------------------------------------------------------------\u001b[0m",
      "\u001b[1;31mNameError\u001b[0m                                 Traceback (most recent call last)",
      "\u001b[1;32m<ipython-input-1-8b3360bd64ac>\u001b[0m in \u001b[0;36m<module>\u001b[1;34m\u001b[0m\n\u001b[0;32m      1\u001b[0m \u001b[0mget_ipython\u001b[0m\u001b[1;33m(\u001b[0m\u001b[1;33m)\u001b[0m\u001b[1;33m.\u001b[0m\u001b[0msystem\u001b[0m\u001b[1;33m(\u001b[0m\u001b[1;34m'wget https://raw.githubusercontent.com/lazyprogrammer/machine_learning_examples/master/tf2.0/moore.csv'\u001b[0m\u001b[1;33m)\u001b[0m\u001b[1;33m\u001b[0m\u001b[1;33m\u001b[0m\u001b[0m\n\u001b[1;32m----> 2\u001b[1;33m \u001b[0mdataset\u001b[0m \u001b[1;33m=\u001b[0m \u001b[0mpd\u001b[0m\u001b[1;33m.\u001b[0m\u001b[0mread_csv\u001b[0m\u001b[1;33m(\u001b[0m\u001b[1;34m'moore.csv'\u001b[0m\u001b[1;33m,\u001b[0m \u001b[0mheader\u001b[0m\u001b[1;33m=\u001b[0m\u001b[1;32mNone\u001b[0m\u001b[1;33m)\u001b[0m\u001b[1;33m\u001b[0m\u001b[1;33m\u001b[0m\u001b[0m\n\u001b[0m\u001b[0;32m      3\u001b[0m \u001b[1;31m# X = dataset[:,0].reshape(-1, 1) # make it a 2-D array of size N x D where D = 1\u001b[0m\u001b[1;33m\u001b[0m\u001b[1;33m\u001b[0m\u001b[1;33m\u001b[0m\u001b[0m\n\u001b[0;32m      4\u001b[0m \u001b[1;31m# Y = dataset[:,1]\u001b[0m\u001b[1;33m\u001b[0m\u001b[1;33m\u001b[0m\u001b[1;33m\u001b[0m\u001b[0m\n",
      "\u001b[1;31mNameError\u001b[0m: name 'pd' is not defined"
     ]
    }
   ],
   "source": [
    "!wget https://raw.githubusercontent.com/lazyprogrammer/machine_learning_examples/master/tf2.0/moore.csv\n",
    "dataset = pd.read_csv('moore.csv', header=None)\n",
    "# X = dataset[:,0].reshape(-1, 1) # make it a 2-D array of size N x D where D = 1\n",
    "# Y = dataset[:,1]"
   ]
  },
  {
   "cell_type": "code",
   "execution_count": null,
   "metadata": {
    "colab": {
     "base_uri": "https://localhost:8080/",
     "height": 293
    },
    "executionInfo": {
     "elapsed": 3393,
     "status": "ok",
     "timestamp": 1616989752260,
     "user": {
      "displayName": "ddengineering 24",
      "photoUrl": "https://lh3.googleusercontent.com/a-/AOh14GjHIzKzQU2YXuWBw8yytI-cNjLe7r16kGIKte4_=s64",
      "userId": "16024618924253510203"
     },
     "user_tz": 420
    },
    "id": "07mo2vLsErZs",
    "outputId": "be971d69-54d3-4e87-a592-0f451e59b480"
   },
   "outputs": [
    {
     "data": {
      "text/plain": [
       "<matplotlib.collections.PathCollection at 0x7f8566645490>"
      ]
     },
     "execution_count": 3,
     "metadata": {
      "tags": []
     },
     "output_type": "execute_result"
    },
    {
     "data": {
      "image/png": "[encoded data removed]",
      "text/plain": [
       "<Figure size 432x288 with 1 Axes>"
      ]
     },
     "metadata": {
      "needs_background": "light",
      "tags": []
     },
     "output_type": "display_data"
    }
   ],
   "source": [
    "X = dataset.iloc[:, :-1].values \n",
    "y = dataset.iloc[:, -1].values\n",
    "plt.scatter(X,y) #shows exponential growth"
   ]
  },
  {
   "cell_type": "code",
   "execution_count": null,
   "metadata": {
    "colab": {
     "base_uri": "https://localhost:8080/",
     "height": 282
    },
    "executionInfo": {
     "elapsed": 3597,
     "status": "ok",
     "timestamp": 1616989752525,
     "user": {
      "displayName": "ddengineering 24",
      "photoUrl": "https://lh3.googleusercontent.com/a-/AOh14GjHIzKzQU2YXuWBw8yytI-cNjLe7r16kGIKte4_=s64",
      "userId": "16024618924253510203"
     },
     "user_tz": 420
    },
    "id": "bgTWIliNeUlw",
    "outputId": "112bffc9-126c-492c-c51e-9da223177f73"
   },
   "outputs": [
    {
     "data": {
      "text/plain": [
       "<matplotlib.collections.PathCollection at 0x7f8566627b90>"
      ]
     },
     "execution_count": 4,
     "metadata": {
      "tags": []
     },
     "output_type": "execute_result"
    },
    {
     "data": {
      "image/png": "[encoded data removed]",
      "text/plain": [
       "<Figure size 432x288 with 1 Axes>"
      ]
     },
     "metadata": {
      "needs_background": "light",
      "tags": []
     },
     "output_type": "display_data"
    }
   ],
   "source": [
    "y = np.log(y) #taking log to make the model linear\n",
    "plt.scatter(X,y) #we get a linear model"
   ]
  },
  {
   "cell_type": "markdown",
   "metadata": {
    "id": "RE_FcHyfV3TQ"
   },
   "source": [
    "### Feature Scaling"
   ]
  },
  {
   "cell_type": "code",
   "execution_count": null,
   "metadata": {
    "colab": {
     "base_uri": "https://localhost:8080/",
     "height": 282
    },
    "executionInfo": {
     "elapsed": 3835,
     "status": "ok",
     "timestamp": 1616989752797,
     "user": {
      "displayName": "ddengineering 24",
      "photoUrl": "https://lh3.googleusercontent.com/a-/AOh14GjHIzKzQU2YXuWBw8yytI-cNjLe7r16kGIKte4_=s64",
      "userId": "16024618924253510203"
     },
     "user_tz": 420
    },
    "id": "ViCrE00rV8Sk",
    "outputId": "77711fed-49b1-4e41-8a27-e35082971feb"
   },
   "outputs": [
    {
     "data": {
      "text/plain": [
       "<matplotlib.collections.PathCollection at 0x7f8567542190>"
      ]
     },
     "execution_count": 5,
     "metadata": {
      "tags": []
     },
     "output_type": "execute_result"
    },
    {
     "data": {
      "image/png": "[encoded data removed]",
      "text/plain": [
       "<Figure size 432x288 with 1 Axes>"
      ]
     },
     "metadata": {
      "needs_background": "light",
      "tags": []
     },
     "output_type": "display_data"
    }
   ],
   "source": [
    "# Let's also center the X data so the values are not too large\n",
    "# We could scale it too but then we'd have to reverse the transformation later\n",
    "X = X - X.mean() #X is the year and difference is large\n",
    "plt.scatter(X,y)"
   ]
  },
  {
   "cell_type": "markdown",
   "metadata": {
    "id": "-zfEzkRVXIwF"
   },
   "source": [
    "## Part 2 - Building the ANN"
   ]
  },
  {
   "cell_type": "markdown",
   "metadata": {
    "id": "KvdeScabXtlB"
   },
   "source": [
    "### 1. Initializing the ANN"
   ]
  },
  {
   "cell_type": "code",
   "execution_count": null,
   "metadata": {
    "id": "Ar2Gi3Yse94R"
   },
   "outputs": [],
   "source": [
    "model = tf.keras.models.Sequential()"
   ]
  },
  {
   "cell_type": "markdown",
   "metadata": {
    "id": "rP6urV6SX7kS"
   },
   "source": [
    "### 2. Adding the input layer and the output layer"
   ]
  },
  {
   "cell_type": "code",
   "execution_count": null,
   "metadata": {
    "id": "tgBk-u2YfPqV"
   },
   "outputs": [],
   "source": [
    "model.add(tf.keras.layers.Dense(1,input_shape=(1,),activation=None))"
   ]
  },
  {
   "cell_type": "markdown",
   "metadata": {
    "id": "JT4u2S1_Y4WG"
   },
   "source": [
    "## Part 3 - Training the Artificial Neural Network"
   ]
  },
  {
   "cell_type": "markdown",
   "metadata": {
    "id": "8GWlJChhY_ZI"
   },
   "source": [
    "### Compiling the ANN"
   ]
  },
  {
   "cell_type": "code",
   "execution_count": null,
   "metadata": {
    "id": "fG3RrwDXZEaS"
   },
   "outputs": [],
   "source": [
    "model.compile(optimizer = tf.keras.optimizers.SGD(learning_rate=0.001,momentum=0.9), loss = 'mse')"
   ]
  },
  {
   "cell_type": "markdown",
   "metadata": {
    "id": "0QR_G5u7ZLSM"
   },
   "source": [
    "### Training the ANN on the Training set"
   ]
  },
  {
   "cell_type": "code",
   "execution_count": null,
   "metadata": {
    "colab": {
     "base_uri": "https://localhost:8080/"
    },
    "executionInfo": {
     "elapsed": 8189,
     "status": "ok",
     "timestamp": 1616989757194,
     "user": {
      "displayName": "ddengineering 24",
      "photoUrl": "https://lh3.googleusercontent.com/a-/AOh14GjHIzKzQU2YXuWBw8yytI-cNjLe7r16kGIKte4_=s64",
      "userId": "16024618924253510203"
     },
     "user_tz": 420
    },
    "id": "Xz5-7Z3ThqU5",
    "outputId": "03462976-0883-405e-fd52-4aa36015d397"
   },
   "outputs": [
    {
     "name": "stdout",
     "output_type": "stream",
     "text": [
      "Epoch 1/200\n",
      "6/6 [==============================] - 0s 2ms/step - loss: 318.7029\n",
      "Epoch 2/200\n",
      "6/6 [==============================] - 0s 2ms/step - loss: 356.4414\n",
      "Epoch 3/200\n",
      "6/6 [==============================] - 0s 2ms/step - loss: 252.6260\n",
      "Epoch 4/200\n",
      "6/6 [==============================] - 0s 2ms/step - loss: 202.3201\n",
      "Epoch 5/200\n",
      "6/6 [==============================] - 0s 2ms/step - loss: 226.4757\n",
      "Epoch 6/200\n",
      "6/6 [==============================] - 0s 2ms/step - loss: 187.1891\n",
      "Epoch 7/200\n",
      "6/6 [==============================] - 0s 2ms/step - loss: 132.6415\n",
      "Epoch 8/200\n",
      "6/6 [==============================] - 0s 3ms/step - loss: 122.8555\n",
      "Epoch 9/200\n",
      "6/6 [==============================] - 0s 2ms/step - loss: 74.8735\n",
      "Epoch 10/200\n",
      "6/6 [==============================] - 0s 2ms/step - loss: 88.0414\n",
      "Epoch 11/200\n",
      "6/6 [==============================] - 0s 2ms/step - loss: 32.7781\n",
      "Epoch 12/200\n",
      "6/6 [==============================] - 0s 2ms/step - loss: 19.0045\n",
      "Epoch 13/200\n",
      "6/6 [==============================] - 0s 1ms/step - loss: 21.3810\n",
      "Epoch 14/200\n",
      "6/6 [==============================] - 0s 2ms/step - loss: 16.1532\n",
      "Epoch 15/200\n",
      "6/6 [==============================] - 0s 3ms/step - loss: 15.6912\n",
      "Epoch 16/200\n",
      "6/6 [==============================] - 0s 2ms/step - loss: 13.3520\n",
      "Epoch 17/200\n",
      "6/6 [==============================] - 0s 2ms/step - loss: 12.0944\n",
      "Epoch 18/200\n",
      "6/6 [==============================] - 0s 2ms/step - loss: 6.9503\n",
      "Epoch 19/200\n",
      "6/6 [==============================] - 0s 1ms/step - loss: 6.2805\n",
      "Epoch 20/200\n",
      "6/6 [==============================] - 0s 2ms/step - loss: 4.0813\n",
      "Epoch 21/200\n",
      "6/6 [==============================] - 0s 2ms/step - loss: 5.7091\n",
      "Epoch 22/200\n",
      "6/6 [==============================] - 0s 2ms/step - loss: 5.8986\n",
      "Epoch 23/200\n",
      "6/6 [==============================] - 0s 2ms/step - loss: 3.5932\n",
      "Epoch 24/200\n",
      "6/6 [==============================] - 0s 3ms/step - loss: 1.5613\n",
      "Epoch 25/200\n",
      "6/6 [==============================] - 0s 2ms/step - loss: 1.3064\n",
      "Epoch 26/200\n",
      "6/6 [==============================] - 0s 2ms/step - loss: 1.1783\n",
      "Epoch 27/200\n",
      "6/6 [==============================] - 0s 2ms/step - loss: 1.1338\n",
      "Epoch 28/200\n",
      "6/6 [==============================] - 0s 2ms/step - loss: 0.9404\n",
      "Epoch 29/200\n",
      "6/6 [==============================] - 0s 3ms/step - loss: 0.8333\n",
      "Epoch 30/200\n",
      "6/6 [==============================] - 0s 3ms/step - loss: 0.9387\n",
      "Epoch 31/200\n",
      "6/6 [==============================] - 0s 2ms/step - loss: 1.1126\n",
      "Epoch 32/200\n",
      "6/6 [==============================] - 0s 2ms/step - loss: 1.2199\n",
      "Epoch 33/200\n",
      "6/6 [==============================] - 0s 2ms/step - loss: 1.0762\n",
      "Epoch 34/200\n",
      "6/6 [==============================] - 0s 2ms/step - loss: 0.8767\n",
      "Epoch 35/200\n",
      "6/6 [==============================] - 0s 3ms/step - loss: 1.0661\n",
      "Epoch 36/200\n",
      "6/6 [==============================] - 0s 2ms/step - loss: 1.1750\n",
      "Epoch 37/200\n",
      "6/6 [==============================] - 0s 1ms/step - loss: 0.9491\n",
      "Epoch 38/200\n",
      "6/6 [==============================] - 0s 2ms/step - loss: 1.0200\n",
      "Epoch 39/200\n",
      "6/6 [==============================] - 0s 3ms/step - loss: 0.9504\n",
      "Epoch 40/200\n",
      "6/6 [==============================] - 0s 2ms/step - loss: 0.8867\n",
      "Epoch 41/200\n",
      "6/6 [==============================] - 0s 2ms/step - loss: 1.4722\n",
      "Epoch 42/200\n",
      "6/6 [==============================] - 0s 3ms/step - loss: 1.2091\n",
      "Epoch 43/200\n",
      "6/6 [==============================] - 0s 2ms/step - loss: 0.9483\n",
      "Epoch 44/200\n",
      "6/6 [==============================] - 0s 1ms/step - loss: 0.9348\n",
      "Epoch 45/200\n",
      "6/6 [==============================] - 0s 2ms/step - loss: 1.0043\n",
      "Epoch 46/200\n",
      "6/6 [==============================] - 0s 2ms/step - loss: 0.9083\n",
      "Epoch 47/200\n",
      "6/6 [==============================] - 0s 3ms/step - loss: 0.8838\n",
      "Epoch 48/200\n",
      "6/6 [==============================] - 0s 2ms/step - loss: 1.2975\n",
      "Epoch 49/200\n",
      "6/6 [==============================] - 0s 2ms/step - loss: 1.1567\n",
      "Epoch 50/200\n",
      "6/6 [==============================] - 0s 2ms/step - loss: 1.5998\n",
      "Epoch 51/200\n",
      "6/6 [==============================] - 0s 2ms/step - loss: 3.4950\n",
      "Epoch 52/200\n",
      "6/6 [==============================] - 0s 2ms/step - loss: 6.0099\n",
      "Epoch 53/200\n",
      "6/6 [==============================] - 0s 2ms/step - loss: 1.0454\n",
      "Epoch 54/200\n",
      "6/6 [==============================] - 0s 2ms/step - loss: 1.8966\n",
      "Epoch 55/200\n",
      "6/6 [==============================] - 0s 2ms/step - loss: 1.4748\n",
      "Epoch 56/200\n",
      "6/6 [==============================] - 0s 2ms/step - loss: 0.7999\n",
      "Epoch 57/200\n",
      "6/6 [==============================] - 0s 2ms/step - loss: 1.2825\n",
      "Epoch 58/200\n",
      "6/6 [==============================] - 0s 2ms/step - loss: 0.8215\n",
      "Epoch 59/200\n",
      "6/6 [==============================] - 0s 2ms/step - loss: 0.9060\n",
      "Epoch 60/200\n",
      "6/6 [==============================] - 0s 2ms/step - loss: 1.0137\n",
      "Epoch 61/200\n",
      "6/6 [==============================] - 0s 2ms/step - loss: 0.9372\n",
      "Epoch 62/200\n",
      "6/6 [==============================] - 0s 2ms/step - loss: 0.7927\n",
      "Epoch 63/200\n",
      "6/6 [==============================] - 0s 2ms/step - loss: 0.9129\n",
      "Epoch 64/200\n",
      "6/6 [==============================] - 0s 2ms/step - loss: 0.7818\n",
      "Epoch 65/200\n",
      "6/6 [==============================] - 0s 2ms/step - loss: 1.1042\n",
      "Epoch 66/200\n",
      "6/6 [==============================] - 0s 2ms/step - loss: 0.9031\n",
      "Epoch 67/200\n",
      "6/6 [==============================] - 0s 3ms/step - loss: 1.1348\n",
      "Epoch 68/200\n",
      "6/6 [==============================] - 0s 2ms/step - loss: 0.9427\n",
      "Epoch 69/200\n",
      "6/6 [==============================] - 0s 2ms/step - loss: 0.8192\n",
      "Epoch 70/200\n",
      "6/6 [==============================] - 0s 2ms/step - loss: 0.7956\n",
      "Epoch 71/200\n",
      "6/6 [==============================] - 0s 3ms/step - loss: 0.8262\n",
      "Epoch 72/200\n",
      "6/6 [==============================] - 0s 2ms/step - loss: 0.8382\n",
      "Epoch 73/200\n",
      "6/6 [==============================] - 0s 3ms/step - loss: 1.1147\n",
      "Epoch 74/200\n",
      "6/6 [==============================] - 0s 3ms/step - loss: 0.9372\n",
      "Epoch 75/200\n",
      "6/6 [==============================] - 0s 3ms/step - loss: 0.7883\n",
      "Epoch 76/200\n",
      "6/6 [==============================] - 0s 2ms/step - loss: 0.7416\n",
      "Epoch 77/200\n",
      "6/6 [==============================] - 0s 2ms/step - loss: 0.8433\n",
      "Epoch 78/200\n",
      "6/6 [==============================] - 0s 2ms/step - loss: 1.1172\n",
      "Epoch 79/200\n",
      "6/6 [==============================] - 0s 2ms/step - loss: 0.8767\n",
      "Epoch 80/200\n",
      "6/6 [==============================] - 0s 2ms/step - loss: 1.0500\n",
      "Epoch 81/200\n",
      "6/6 [==============================] - 0s 2ms/step - loss: 0.9190\n",
      "Epoch 82/200\n",
      "6/6 [==============================] - 0s 3ms/step - loss: 0.8893\n",
      "Epoch 83/200\n",
      "6/6 [==============================] - 0s 2ms/step - loss: 0.7947\n",
      "Epoch 84/200\n",
      "6/6 [==============================] - 0s 2ms/step - loss: 1.0062\n",
      "Epoch 85/200\n",
      "6/6 [==============================] - 0s 3ms/step - loss: 0.8968\n",
      "Epoch 86/200\n",
      "6/6 [==============================] - 0s 2ms/step - loss: 1.1490\n",
      "Epoch 87/200\n",
      "6/6 [==============================] - 0s 2ms/step - loss: 0.8285\n",
      "Epoch 88/200\n",
      "6/6 [==============================] - 0s 2ms/step - loss: 0.8306\n",
      "Epoch 89/200\n",
      "6/6 [==============================] - 0s 1ms/step - loss: 0.9065\n",
      "Epoch 90/200\n",
      "6/6 [==============================] - 0s 3ms/step - loss: 1.1038\n",
      "Epoch 91/200\n",
      "6/6 [==============================] - 0s 2ms/step - loss: 0.9112\n",
      "Epoch 92/200\n",
      "6/6 [==============================] - 0s 2ms/step - loss: 1.0014\n",
      "Epoch 93/200\n",
      "6/6 [==============================] - 0s 3ms/step - loss: 0.6925\n",
      "Epoch 94/200\n",
      "6/6 [==============================] - 0s 2ms/step - loss: 0.7959\n",
      "Epoch 95/200\n",
      "6/6 [==============================] - 0s 2ms/step - loss: 1.0485\n",
      "Epoch 96/200\n",
      "6/6 [==============================] - 0s 2ms/step - loss: 0.7662\n",
      "Epoch 97/200\n",
      "6/6 [==============================] - 0s 3ms/step - loss: 0.7087\n",
      "Epoch 98/200\n",
      "6/6 [==============================] - 0s 2ms/step - loss: 1.0331\n",
      "Epoch 99/200\n",
      "6/6 [==============================] - 0s 2ms/step - loss: 0.8606\n",
      "Epoch 100/200\n",
      "6/6 [==============================] - 0s 2ms/step - loss: 0.8670\n",
      "Epoch 101/200\n",
      "6/6 [==============================] - 0s 2ms/step - loss: 0.9456\n",
      "Epoch 102/200\n",
      "6/6 [==============================] - 0s 3ms/step - loss: 1.1136\n",
      "Epoch 103/200\n",
      "6/6 [==============================] - 0s 2ms/step - loss: 0.9512\n",
      "Epoch 104/200\n",
      "6/6 [==============================] - 0s 2ms/step - loss: 0.7759\n",
      "Epoch 105/200\n",
      "6/6 [==============================] - 0s 3ms/step - loss: 1.0055\n",
      "Epoch 106/200\n",
      "6/6 [==============================] - 0s 3ms/step - loss: 0.9104\n",
      "Epoch 107/200\n",
      "6/6 [==============================] - 0s 2ms/step - loss: 0.8753\n",
      "Epoch 108/200\n",
      "6/6 [==============================] - 0s 3ms/step - loss: 0.8600\n",
      "Epoch 109/200\n",
      "6/6 [==============================] - 0s 2ms/step - loss: 0.7723\n",
      "Epoch 110/200\n",
      "6/6 [==============================] - 0s 2ms/step - loss: 0.9852\n",
      "Epoch 111/200\n",
      "6/6 [==============================] - 0s 2ms/step - loss: 0.8987\n",
      "Epoch 112/200\n",
      "6/6 [==============================] - 0s 3ms/step - loss: 0.7317\n",
      "Epoch 113/200\n",
      "6/6 [==============================] - 0s 3ms/step - loss: 0.9325\n",
      "Epoch 114/200\n",
      "6/6 [==============================] - 0s 2ms/step - loss: 1.0545\n",
      "Epoch 115/200\n",
      "6/6 [==============================] - 0s 2ms/step - loss: 0.8053\n",
      "Epoch 116/200\n",
      "6/6 [==============================] - 0s 2ms/step - loss: 0.6976\n",
      "Epoch 117/200\n",
      "6/6 [==============================] - 0s 3ms/step - loss: 0.7873\n",
      "Epoch 118/200\n",
      "6/6 [==============================] - 0s 3ms/step - loss: 0.7685\n",
      "Epoch 119/200\n",
      "6/6 [==============================] - 0s 3ms/step - loss: 1.0302\n",
      "Epoch 120/200\n",
      "6/6 [==============================] - 0s 3ms/step - loss: 1.0179\n",
      "Epoch 121/200\n",
      "6/6 [==============================] - 0s 3ms/step - loss: 0.8457\n",
      "Epoch 122/200\n",
      "6/6 [==============================] - 0s 3ms/step - loss: 0.8857\n",
      "Epoch 123/200\n",
      "6/6 [==============================] - 0s 3ms/step - loss: 0.7974\n",
      "Epoch 124/200\n",
      "6/6 [==============================] - 0s 2ms/step - loss: 0.9443\n",
      "Epoch 125/200\n",
      "6/6 [==============================] - 0s 3ms/step - loss: 1.0150\n",
      "Epoch 126/200\n",
      "6/6 [==============================] - 0s 2ms/step - loss: 0.8007\n",
      "Epoch 127/200\n",
      "6/6 [==============================] - 0s 3ms/step - loss: 1.0078\n",
      "Epoch 128/200\n",
      "6/6 [==============================] - 0s 3ms/step - loss: 0.9032\n",
      "Epoch 129/200\n",
      "6/6 [==============================] - 0s 3ms/step - loss: 0.9689\n",
      "Epoch 130/200\n",
      "6/6 [==============================] - 0s 2ms/step - loss: 0.8324\n",
      "Epoch 131/200\n",
      "6/6 [==============================] - 0s 3ms/step - loss: 0.7974\n",
      "Epoch 132/200\n",
      "6/6 [==============================] - 0s 2ms/step - loss: 1.0609\n",
      "Epoch 133/200\n",
      "6/6 [==============================] - 0s 3ms/step - loss: 0.8268\n",
      "Epoch 134/200\n",
      "6/6 [==============================] - 0s 3ms/step - loss: 0.9861\n",
      "Epoch 135/200\n",
      "6/6 [==============================] - 0s 2ms/step - loss: 0.6929\n",
      "Epoch 136/200\n",
      "6/6 [==============================] - 0s 2ms/step - loss: 0.9834\n",
      "Epoch 137/200\n",
      "6/6 [==============================] - 0s 2ms/step - loss: 0.8862\n",
      "Epoch 138/200\n",
      "6/6 [==============================] - 0s 2ms/step - loss: 0.9158\n",
      "Epoch 139/200\n",
      "6/6 [==============================] - 0s 2ms/step - loss: 1.2449\n",
      "Epoch 140/200\n",
      "6/6 [==============================] - 0s 2ms/step - loss: 0.9263\n",
      "Epoch 141/200\n",
      "6/6 [==============================] - 0s 3ms/step - loss: 0.8846\n",
      "Epoch 142/200\n",
      "6/6 [==============================] - 0s 2ms/step - loss: 0.8401\n",
      "Epoch 143/200\n",
      "6/6 [==============================] - 0s 2ms/step - loss: 1.0327\n",
      "Epoch 144/200\n",
      "6/6 [==============================] - 0s 2ms/step - loss: 1.0890\n",
      "Epoch 145/200\n",
      "6/6 [==============================] - 0s 1ms/step - loss: 0.8877\n",
      "Epoch 146/200\n",
      "6/6 [==============================] - 0s 3ms/step - loss: 0.6992\n",
      "Epoch 147/200\n",
      "6/6 [==============================] - 0s 2ms/step - loss: 0.7125\n",
      "Epoch 148/200\n",
      "6/6 [==============================] - 0s 2ms/step - loss: 1.1474\n",
      "Epoch 149/200\n",
      "6/6 [==============================] - 0s 2ms/step - loss: 0.7379\n",
      "Epoch 150/200\n",
      "6/6 [==============================] - 0s 3ms/step - loss: 0.9147\n",
      "Epoch 151/200\n",
      "6/6 [==============================] - 0s 2ms/step - loss: 1.0972\n",
      "Epoch 152/200\n",
      "6/6 [==============================] - 0s 3ms/step - loss: 0.8443\n",
      "Epoch 153/200\n",
      "6/6 [==============================] - 0s 2ms/step - loss: 0.7322\n",
      "Epoch 154/200\n",
      "6/6 [==============================] - 0s 2ms/step - loss: 0.8998\n",
      "Epoch 155/200\n",
      "6/6 [==============================] - 0s 3ms/step - loss: 0.7282\n",
      "Epoch 156/200\n",
      "6/6 [==============================] - 0s 2ms/step - loss: 1.0885\n",
      "Epoch 157/200\n",
      "6/6 [==============================] - 0s 2ms/step - loss: 0.7772\n",
      "Epoch 158/200\n",
      "6/6 [==============================] - 0s 3ms/step - loss: 0.8304\n",
      "Epoch 159/200\n",
      "6/6 [==============================] - 0s 2ms/step - loss: 0.8530\n",
      "Epoch 160/200\n",
      "6/6 [==============================] - 0s 2ms/step - loss: 0.7976\n",
      "Epoch 161/200\n",
      "6/6 [==============================] - 0s 2ms/step - loss: 0.9413\n",
      "Epoch 162/200\n",
      "6/6 [==============================] - 0s 2ms/step - loss: 0.7232\n",
      "Epoch 163/200\n",
      "6/6 [==============================] - 0s 2ms/step - loss: 0.5949\n",
      "Epoch 164/200\n",
      "6/6 [==============================] - 0s 3ms/step - loss: 0.8926\n",
      "Epoch 165/200\n",
      "6/6 [==============================] - 0s 2ms/step - loss: 0.9465\n",
      "Epoch 166/200\n",
      "6/6 [==============================] - 0s 2ms/step - loss: 0.8453\n",
      "Epoch 167/200\n",
      "6/6 [==============================] - 0s 2ms/step - loss: 0.9206\n",
      "Epoch 168/200\n",
      "6/6 [==============================] - 0s 2ms/step - loss: 0.8537\n",
      "Epoch 169/200\n",
      "6/6 [==============================] - 0s 3ms/step - loss: 0.8149\n",
      "Epoch 170/200\n",
      "6/6 [==============================] - 0s 2ms/step - loss: 0.9867\n",
      "Epoch 171/200\n",
      "6/6 [==============================] - 0s 2ms/step - loss: 0.9539\n",
      "Epoch 172/200\n",
      "6/6 [==============================] - 0s 2ms/step - loss: 0.7939\n",
      "Epoch 173/200\n",
      "6/6 [==============================] - 0s 2ms/step - loss: 0.9735\n",
      "Epoch 174/200\n",
      "6/6 [==============================] - 0s 2ms/step - loss: 0.7718\n",
      "Epoch 175/200\n",
      "6/6 [==============================] - 0s 2ms/step - loss: 0.8459\n",
      "Epoch 176/200\n",
      "6/6 [==============================] - 0s 2ms/step - loss: 0.7877\n",
      "Epoch 177/200\n",
      "6/6 [==============================] - 0s 3ms/step - loss: 1.0377\n",
      "Epoch 178/200\n",
      "6/6 [==============================] - 0s 3ms/step - loss: 0.7523\n",
      "Epoch 179/200\n",
      "6/6 [==============================] - 0s 2ms/step - loss: 0.7768\n",
      "Epoch 180/200\n",
      "6/6 [==============================] - 0s 3ms/step - loss: 0.9533\n",
      "Epoch 181/200\n",
      "6/6 [==============================] - 0s 2ms/step - loss: 0.6963\n",
      "Epoch 182/200\n",
      "6/6 [==============================] - 0s 2ms/step - loss: 1.0297\n",
      "Epoch 183/200\n",
      "6/6 [==============================] - 0s 2ms/step - loss: 0.8893\n",
      "Epoch 184/200\n",
      "6/6 [==============================] - 0s 2ms/step - loss: 0.9270\n",
      "Epoch 185/200\n",
      "6/6 [==============================] - 0s 3ms/step - loss: 1.0146\n",
      "Epoch 186/200\n",
      "6/6 [==============================] - 0s 3ms/step - loss: 0.9069\n",
      "Epoch 187/200\n",
      "6/6 [==============================] - 0s 2ms/step - loss: 0.8742\n",
      "Epoch 188/200\n",
      "6/6 [==============================] - 0s 3ms/step - loss: 0.9682\n",
      "Epoch 189/200\n",
      "6/6 [==============================] - 0s 3ms/step - loss: 0.8035\n",
      "Epoch 190/200\n",
      "6/6 [==============================] - 0s 4ms/step - loss: 0.6809\n",
      "Epoch 191/200\n",
      "6/6 [==============================] - 0s 3ms/step - loss: 1.1662\n",
      "Epoch 192/200\n",
      "6/6 [==============================] - 0s 2ms/step - loss: 1.1013\n",
      "Epoch 193/200\n",
      "6/6 [==============================] - 0s 2ms/step - loss: 0.8675\n",
      "Epoch 194/200\n",
      "6/6 [==============================] - 0s 3ms/step - loss: 0.8057\n",
      "Epoch 195/200\n",
      "6/6 [==============================] - 0s 2ms/step - loss: 0.9643\n",
      "Epoch 196/200\n",
      "6/6 [==============================] - 0s 3ms/step - loss: 0.8256\n",
      "Epoch 197/200\n",
      "6/6 [==============================] - 0s 2ms/step - loss: 0.8372\n",
      "Epoch 198/200\n",
      "6/6 [==============================] - 0s 2ms/step - loss: 0.8599\n",
      "Epoch 199/200\n",
      "6/6 [==============================] - 0s 2ms/step - loss: 0.9430\n",
      "Epoch 200/200\n",
      "6/6 [==============================] - 0s 2ms/step - loss: 0.9449\n"
     ]
    }
   ],
   "source": [
    "# learning rate scheduler\n",
    "def schedule(epoch, lr):\n",
    "  if epoch >= 50:\n",
    "    return 0.0001\n",
    "  return 0.001\n",
    "scheduler = tf.keras.callbacks.LearningRateScheduler(schedule)\n",
    "# Train the model\n",
    "r = model.fit(X, y, epochs=200, callbacks=[scheduler])"
   ]
  },
  {
   "cell_type": "code",
   "execution_count": null,
   "metadata": {
    "colab": {
     "base_uri": "https://localhost:8080/",
     "height": 282
    },
    "executionInfo": {
     "elapsed": 8361,
     "status": "ok",
     "timestamp": 1616989757395,
     "user": {
      "displayName": "ddengineering 24",
      "photoUrl": "https://lh3.googleusercontent.com/a-/AOh14GjHIzKzQU2YXuWBw8yytI-cNjLe7r16kGIKte4_=s64",
      "userId": "16024618924253510203"
     },
     "user_tz": 420
    },
    "id": "q3L5mv75I6Fk",
    "outputId": "9f595733-c136-45a4-d696-27d44587ef5b"
   },
   "outputs": [
    {
     "data": {
      "text/plain": [
       "[<matplotlib.lines.Line2D at 0x7f8561180310>]"
      ]
     },
     "execution_count": 10,
     "metadata": {
      "tags": []
     },
     "output_type": "execute_result"
    },
    {
     "data": {
      "image/png": "[encoded data removed]",
      "text/plain": [
       "<Figure size 432x288 with 1 Axes>"
      ]
     },
     "metadata": {
      "needs_background": "light",
      "tags": []
     },
     "output_type": "display_data"
    }
   ],
   "source": [
    "# Plot what's returned by model.fit()\n",
    "plt.plot(r.history['loss'], label='loss')"
   ]
  },
  {
   "cell_type": "code",
   "execution_count": null,
   "metadata": {
    "colab": {
     "base_uri": "https://localhost:8080/"
    },
    "executionInfo": {
     "elapsed": 8338,
     "status": "ok",
     "timestamp": 1616989757397,
     "user": {
      "displayName": "ddengineering 24",
      "photoUrl": "https://lh3.googleusercontent.com/a-/AOh14GjHIzKzQU2YXuWBw8yytI-cNjLe7r16kGIKte4_=s64",
      "userId": "16024618924253510203"
     },
     "user_tz": 420
    },
    "id": "bia7xoeFh_0s",
    "outputId": "f17f8995-6bff-493e-80fd-476a78054137"
   },
   "outputs": [
    {
     "name": "stdout",
     "output_type": "stream",
     "text": [
      "[<tensorflow.python.keras.layers.core.Dense object at 0x7f856607b190>]\n",
      "[array([[0.35103118]], dtype=float32), array([17.769394], dtype=float32)]\n"
     ]
    }
   ],
   "source": [
    "# Get the slope of the line\n",
    "# The slope of the line is related to the doubling rate of transistor count\n",
    "print(model.layers) # Note: there is only 1 layer, the \"Input\" layer doesn't count\n",
    "print(model.layers[0].get_weights())"
   ]
  },
  {
   "cell_type": "code",
   "execution_count": null,
   "metadata": {
    "colab": {
     "base_uri": "https://localhost:8080/"
    },
    "executionInfo": {
     "elapsed": 8317,
     "status": "ok",
     "timestamp": 1616989757402,
     "user": {
      "displayName": "ddengineering 24",
      "photoUrl": "https://lh3.googleusercontent.com/a-/AOh14GjHIzKzQU2YXuWBw8yytI-cNjLe7r16kGIKte4_=s64",
      "userId": "16024618924253510203"
     },
     "user_tz": 420
    },
    "id": "J40BJixSiGqU",
    "outputId": "3566b770-a69b-469e-cdb5-4139ba88fafc"
   },
   "outputs": [
    {
     "name": "stdout",
     "output_type": "stream",
     "text": [
      "0.35103118\n"
     ]
    }
   ],
   "source": [
    "# The slope of the line is:\n",
    "a = model.layers[0].get_weights()[0][0,0]\n",
    "print(a)"
   ]
  },
  {
   "cell_type": "markdown",
   "metadata": {
    "id": "fn88xdxCijnt"
   },
   "source": [
    "Our original model for exponential growth is:\n",
    "\n",
    "$$ C = A_0 r^t $$\n",
    "\n",
    "Where $ C $ is transistor the count and $ t $ is the year.\n",
    "\n",
    "$ r $ is the rate of growth. For example, when $ t $ goes from 1 to 2, $ C $ increases by a factor of $ r $. When $ t $ goes from 2 to 3, $ C $ increases by a factor of $ r $ again.\n",
    "\n",
    "When we take the log of both sides, we get:\n",
    "\n",
    "$$ \\log C = \\log r * t + \\log A_0 $$\n",
    "\n",
    "This is our linear equation:\n",
    "\n",
    "$$ \\hat{y} = ax + b $$\n",
    "\n",
    "Where:\n",
    "\n",
    "$$ \\hat{y} = \\log C $$\n",
    "$$ a = \\log r $$\n",
    "$$ x = t $$\n",
    "$$ b = \\log A_0 $$\n",
    "\n",
    "We are interested in $ r $, because that's the rate of growth. Given our regression weights, we know that:\n",
    "\n",
    "$$ a = 0.34188038 $$\n",
    "\n",
    "so that:\n",
    "\n",
    "$$ r = e^{0.34188038} = 1.4076 $$\n",
    "\n",
    "To find the time it takes for transistor count to double, we simply need to find the amount of time it takes for $ C $ to increase to $ 2C $.\n",
    "\n",
    "Let's call the original starting time $ t $, to correspond with the initial transistor count $ C $.\n",
    "\n",
    "Let's call the end time $ t' $, to correspond with the final transistor count $ 2C $.\n",
    "\n",
    "Then we also have:\n",
    "\n",
    "$$ 2C = A_0 r ^ {t'} $$\n",
    "\n",
    "Combine this with our original equation:\n",
    "\n",
    "$$ C = A_0 r^t $$\n",
    "\n",
    "We get (by dividing the 2 equations):\n",
    "\n",
    "$$ 2C/C = (A_0 r ^ {t'}) / A_0 r^t $$\n",
    "\n",
    "Which simplifies to:\n",
    "\n",
    "$$ 2 = r^{(t' - t)} $$\n",
    "\n",
    "Solve for $ t' - t $:\n",
    "\n",
    "$$ t' - t = \\frac{\\log 2}{\\log r} = \\frac{\\log2}{a}$$\n",
    "\n",
    "\n",
    "Important note! We haven't specified what the starting time $ t $ actually is, and we don't have to since we just proved that this holds for any $ t $."
   ]
  },
  {
   "cell_type": "code",
   "execution_count": null,
   "metadata": {
    "colab": {
     "base_uri": "https://localhost:8080/"
    },
    "executionInfo": {
     "elapsed": 8496,
     "status": "ok",
     "timestamp": 1616989757605,
     "user": {
      "displayName": "ddengineering 24",
      "photoUrl": "https://lh3.googleusercontent.com/a-/AOh14GjHIzKzQU2YXuWBw8yytI-cNjLe7r16kGIKte4_=s64",
      "userId": "16024618924253510203"
     },
     "user_tz": 420
    },
    "id": "9hmqGOfuK36y",
    "outputId": "95691a50-2e82-47da-e795-87bca7a6b0ba"
   },
   "outputs": [
    {
     "name": "stdout",
     "output_type": "stream",
     "text": [
      "Time to double: 1.9746028608443824\n"
     ]
    }
   ],
   "source": [
    "print(\"Time to double:\", np.log(2) / a)"
   ]
  },
  {
   "cell_type": "code",
   "execution_count": null,
   "metadata": {
    "colab": {
     "base_uri": "https://localhost:8080/"
    },
    "executionInfo": {
     "elapsed": 8475,
     "status": "ok",
     "timestamp": 1616989757607,
     "user": {
      "displayName": "ddengineering 24",
      "photoUrl": "https://lh3.googleusercontent.com/a-/AOh14GjHIzKzQU2YXuWBw8yytI-cNjLe7r16kGIKte4_=s64",
      "userId": "16024618924253510203"
     },
     "user_tz": 420
    },
    "id": "_8j_jNQQLjzM",
    "outputId": "86097226-6aab-4fe9-e8e1-8d450e2a79e8"
   },
   "outputs": [
    {
     "name": "stdout",
     "output_type": "stream",
     "text": [
      "0.341682487387313 17.764939393631764\n",
      "Time to double: 2.0286295205239204\n"
     ]
    }
   ],
   "source": [
    "# If you know the analytical solution\n",
    "X = np.array(X).flatten()\n",
    "y = np.array(y)\n",
    "denominator = X.dot(X) - X.mean() * X.sum()\n",
    "a = ( X.dot(y) - y.mean()*X.sum() ) / denominator\n",
    "b = ( y.mean() * X.dot(X) - X.mean() * X.dot(y) ) / denominator\n",
    "print(a, b)\n",
    "print(\"Time to double:\", np.log(2) / a)"
   ]
  },
  {
   "cell_type": "markdown",
   "metadata": {
    "id": "tJj5k2MxZga3"
   },
   "source": [
    "## Part 4 - Making the predictions and evaluating the model"
   ]
  },
  {
   "cell_type": "code",
   "execution_count": null,
   "metadata": {
    "colab": {
     "base_uri": "https://localhost:8080/",
     "height": 282
    },
    "executionInfo": {
     "elapsed": 8733,
     "status": "ok",
     "timestamp": 1616989757893,
     "user": {
      "displayName": "ddengineering 24",
      "photoUrl": "https://lh3.googleusercontent.com/a-/AOh14GjHIzKzQU2YXuWBw8yytI-cNjLe7r16kGIKte4_=s64",
      "userId": "16024618924253510203"
     },
     "user_tz": 420
    },
    "id": "vgDaWaNsURIX",
    "outputId": "ec41bdcf-ef59-4be5-c768-30b980f4a8a1"
   },
   "outputs": [
    {
     "data": {
      "text/plain": [
       "[<matplotlib.lines.Line2D at 0x7f856303aa50>]"
      ]
     },
     "execution_count": 15,
     "metadata": {
      "tags": []
     },
     "output_type": "execute_result"
    },
    {
     "data": {
      "image/png": "[encoded data removed]",
      "text/plain": [
       "<Figure size 432x288 with 1 Axes>"
      ]
     },
     "metadata": {
      "needs_background": "light",
      "tags": []
     },
     "output_type": "display_data"
    }
   ],
   "source": [
    "# Make sure the line fits our data\n",
    "ypred = model.predict(X).flatten()\n",
    "\n",
    "plt.scatter(X, y)\n",
    "plt.plot(X, ypred)"
   ]
  },
  {
   "cell_type": "code",
   "execution_count": null,
   "metadata": {
    "colab": {
     "base_uri": "https://localhost:8080/"
    },
    "executionInfo": {
     "elapsed": 8730,
     "status": "ok",
     "timestamp": 1616989757896,
     "user": {
      "displayName": "ddengineering 24",
      "photoUrl": "https://lh3.googleusercontent.com/a-/AOh14GjHIzKzQU2YXuWBw8yytI-cNjLe7r16kGIKte4_=s64",
      "userId": "16024618924253510203"
     },
     "user_tz": 420
    },
    "id": "Wl2JgJ57Fc5n",
    "outputId": "ca98b702-d8dd-49e8-cfe0-19989c844177"
   },
   "outputs": [
    {
     "data": {
      "text/plain": [
       "True"
      ]
     },
     "execution_count": 16,
     "metadata": {
      "tags": []
     },
     "output_type": "execute_result"
    }
   ],
   "source": [
    "#Manual calculation\n",
    "#get the weights and bias\n",
    "w,b = model.layers[0].get_weights()\n",
    "#reshape X since we flattened it for prediction\n",
    "X = X.reshape(-1,1)\n",
    "# N x 1 x 1 x 1 + 1 x 1  = N x 1\n",
    "ypred2 = (X.dot(w) + b).flatten()\n",
    "#donot use == for floating point\n",
    "np.allclose(ypred,ypred2)"
   ]
  }
 ],
 "metadata": {
  "colab": {
   "authorship_tag": "ABX9TyNZ6eorBCyunokmdQpLuyhi",
   "collapsed_sections": [],
   "mount_file_id": "1rUqQMqtF_taayK8ikwJAYkLeXpOOI_lR",
   "name": "SimpleANN_moores_law_proof.ipynb",
   "provenance": [],
   "toc_visible": true
  },
  "kernelspec": {
   "display_name": "Python 3",
   "language": "python",
   "name": "python3"
  },
  "language_info": {
   "codemirror_mode": {
    "name": "ipython",
    "version": 3
   },
   "file_extension": ".py",
   "mimetype": "text/x-python",
   "name": "python",
   "nbconvert_exporter": "python",
   "pygments_lexer": "ipython3",
   "version": "3.7.10"
  },
  "varInspector": {
   "cols": {
    "lenName": 16,
    "lenType": 16,
    "lenVar": 40
   },
   "kernels_config": {
    "python": {
     "delete_cmd_postfix": "",
     "delete_cmd_prefix": "del ",
     "library": "var_list.py",
     "varRefreshCmd": "print(var_dic_list())"
    },
    "r": {
     "delete_cmd_postfix": ") ",
     "delete_cmd_prefix": "rm(",
     "library": "var_list.r",
     "varRefreshCmd": "cat(var_dic_list()) "
    }
   },
   "types_to_exclude": [
    "module",
    "function",
    "builtin_function_or_method",
    "instance",
    "_Feature"
   ],
   "window_display": false
  }
 },
 "nbformat": 4,
 "nbformat_minor": 1
}
