{
 "cells": [
  {
   "cell_type": "markdown",
   "id": "cf179c7f",
   "metadata": {
    "papermill": {
     "duration": 0.038654,
     "end_time": "2021-07-25T20:51:51.118701",
     "exception": false,
     "start_time": "2021-07-25T20:51:51.080047",
     "status": "completed"
    },
    "tags": []
   },
   "source": [
    "### Dataset Information\n",
    "\n",
    "This MNIST dataset consists of 70000 images of handwritten digits where each digit of size 28 x 28 is flattened into a vector of size 784. These 70000 images are split into training set and testing set where the training set consists of 42000 images and the test set consists of 28000 images.\n",
    "\n",
    "### Problem Statement\n",
    "Correctly classify the digits from the dataset\n",
    "\n",
    "### Overview\n",
    "In this kernel, I first use 2D-DCT to reduce the dimension of the dataset. Two approaches are used to classify the dimension reduced datapoints - PCA and ANN. The classification is relatively faster as compared to the CNN approaches as now we are dealing with a vector for each data sample instead of an image.\n",
    "\n",
    "### References\n",
    "D. Ismailova and W. Lu, \"Fast classification of handwritten digits using 2D-DCT based sparse PCA,\" 2015 IEEE Pacific Rim Conference on Communications, Computers and Signal Processing (PACRIM), 2015, pp. 131-135, doi: 10.1109/PACRIM.2015.7334822.\n",
    "\n",
    "Please upvote if you like my work. Thank you!"
   ]
  },
  {
   "cell_type": "markdown",
   "id": "74ce1da5",
   "metadata": {
    "papermill": {
     "duration": 0.036918,
     "end_time": "2021-07-25T20:51:51.192925",
     "exception": false,
     "start_time": "2021-07-25T20:51:51.156007",
     "status": "completed"
    },
    "tags": []
   },
   "source": [
    "# **1. Importing Libraries**"
   ]
  },
  {
   "cell_type": "code",
   "execution_count": 1,
   "id": "6ad05e9a",
   "metadata": {
    "_cell_guid": "b1076dfc-b9ad-4769-8c92-a6c4dae69d19",
    "_uuid": "8f2839f25d086af736a60e9eeb907d3b93b6e0e5",
    "execution": {
     "iopub.execute_input": "2021-07-25T20:51:51.283731Z",
     "iopub.status.busy": "2021-07-25T20:51:51.283031Z",
     "iopub.status.idle": "2021-07-25T20:51:58.374059Z",
     "shell.execute_reply": "2021-07-25T20:51:58.374645Z",
     "shell.execute_reply.started": "2021-07-25T19:32:16.493601Z"
    },
    "papermill": {
     "duration": 7.144972,
     "end_time": "2021-07-25T20:51:58.374945",
     "exception": false,
     "start_time": "2021-07-25T20:51:51.229973",
     "status": "completed"
    },
    "tags": []
   },
   "outputs": [],
   "source": [
    "import os\n",
    "import numpy as np\n",
    "import pandas as pd\n",
    "import seaborn as sns\n",
    "import matplotlib.pyplot as plt\n",
    "import cv2\n",
    "from sklearn.preprocessing import LabelEncoder, OneHotEncoder\n",
    "import sklearn\n",
    "from sklearn.model_selection import train_test_split\n",
    "from sklearn.preprocessing import StandardScaler\n",
    "from sklearn.decomposition import PCA\n",
    "from scipy.sparse.linalg.eigen.arpack import eigsh as largest_eigsh\n",
    "from sklearn.metrics import confusion_matrix,classification_report,accuracy_score\n",
    "from tensorflow.keras.layers import Dense, Input, Conv1D,MaxPooling1D, GlobalMaxPooling1D, GaussianNoise, BatchNormalization,Flatten,Dropout\n",
    "from tensorflow.keras.models import Model,Sequential\n",
    "from tensorflow.keras.layers.experimental.preprocessing import Normalization\n",
    "from tensorflow.keras.callbacks import EarlyStopping\n",
    "from keras.utils.np_utils import to_categorical\n",
    "from tensorflow.keras.optimizers import RMSprop, Adam\n"
   ]
  },
  {
   "cell_type": "markdown",
   "id": "9d129279",
   "metadata": {
    "execution": {
     "iopub.execute_input": "2021-07-24T01:16:31.84587Z",
     "iopub.status.busy": "2021-07-24T01:16:31.845496Z",
     "iopub.status.idle": "2021-07-24T01:16:31.850091Z",
     "shell.execute_reply": "2021-07-24T01:16:31.849137Z",
     "shell.execute_reply.started": "2021-07-24T01:16:31.845837Z"
    },
    "papermill": {
     "duration": 0.037326,
     "end_time": "2021-07-25T20:51:58.449643",
     "exception": false,
     "start_time": "2021-07-25T20:51:58.412317",
     "status": "completed"
    },
    "tags": []
   },
   "source": [
    "# **2. Data Handling and Exploration**"
   ]
  },
  {
   "cell_type": "code",
   "execution_count": 2,
   "id": "d8a9982b",
   "metadata": {
    "execution": {
     "iopub.execute_input": "2021-07-25T20:51:58.527644Z",
     "iopub.status.busy": "2021-07-25T20:51:58.526953Z",
     "iopub.status.idle": "2021-07-25T20:52:04.677661Z",
     "shell.execute_reply": "2021-07-25T20:52:04.676847Z",
     "shell.execute_reply.started": "2021-07-25T19:32:23.447384Z"
    },
    "papermill": {
     "duration": 6.190645,
     "end_time": "2021-07-25T20:52:04.677810",
     "exception": false,
     "start_time": "2021-07-25T20:51:58.487165",
     "status": "completed"
    },
    "tags": []
   },
   "outputs": [],
   "source": [
    "# load data set\n",
    "train_data = pd.read_csv('../input/digit-recognizer/train.csv')\n",
    "test_data = pd.read_csv('../input/digit-recognizer/test.csv')"
   ]
  },
  {
   "cell_type": "code",
   "execution_count": 3,
   "id": "2f85b206",
   "metadata": {
    "execution": {
     "iopub.execute_input": "2021-07-25T20:52:04.763106Z",
     "iopub.status.busy": "2021-07-25T20:52:04.762433Z",
     "iopub.status.idle": "2021-07-25T20:52:04.790102Z",
     "shell.execute_reply": "2021-07-25T20:52:04.790645Z",
     "shell.execute_reply.started": "2021-07-25T19:32:29.368367Z"
    },
    "papermill": {
     "duration": 0.075324,
     "end_time": "2021-07-25T20:52:04.790815",
     "exception": false,
     "start_time": "2021-07-25T20:52:04.715491",
     "status": "completed"
    },
    "tags": []
   },
   "outputs": [
    {
     "data": {
      "text/html": [
       "<div>\n",
       "<style scoped>\n",
       "    .dataframe tbody tr th:only-of-type {\n",
       "        vertical-align: middle;\n",
       "    }\n",
       "\n",
       "    .dataframe tbody tr th {\n",
       "        vertical-align: top;\n",
       "    }\n",
       "\n",
       "    .dataframe thead th {\n",
       "        text-align: right;\n",
       "    }\n",
       "</style>\n",
       "<table border=\"1\" class=\"dataframe\">\n",
       "  <thead>\n",
       "    <tr style=\"text-align: right;\">\n",
       "      <th></th>\n",
       "      <th>label</th>\n",
       "      <th>pixel0</th>\n",
       "      <th>pixel1</th>\n",
       "      <th>pixel2</th>\n",
       "      <th>pixel3</th>\n",
       "      <th>pixel4</th>\n",
       "      <th>pixel5</th>\n",
       "      <th>pixel6</th>\n",
       "      <th>pixel7</th>\n",
       "      <th>pixel8</th>\n",
       "      <th>...</th>\n",
       "      <th>pixel774</th>\n",
       "      <th>pixel775</th>\n",
       "      <th>pixel776</th>\n",
       "      <th>pixel777</th>\n",
       "      <th>pixel778</th>\n",
       "      <th>pixel779</th>\n",
       "      <th>pixel780</th>\n",
       "      <th>pixel781</th>\n",
       "      <th>pixel782</th>\n",
       "      <th>pixel783</th>\n",
       "    </tr>\n",
       "  </thead>\n",
       "  <tbody>\n",
       "    <tr>\n",
       "      <th>0</th>\n",
       "      <td>1</td>\n",
       "      <td>0</td>\n",
       "      <td>0</td>\n",
       "      <td>0</td>\n",
       "      <td>0</td>\n",
       "      <td>0</td>\n",
       "      <td>0</td>\n",
       "      <td>0</td>\n",
       "      <td>0</td>\n",
       "      <td>0</td>\n",
       "      <td>...</td>\n",
       "      <td>0</td>\n",
       "      <td>0</td>\n",
       "      <td>0</td>\n",
       "      <td>0</td>\n",
       "      <td>0</td>\n",
       "      <td>0</td>\n",
       "      <td>0</td>\n",
       "      <td>0</td>\n",
       "      <td>0</td>\n",
       "      <td>0</td>\n",
       "    </tr>\n",
       "    <tr>\n",
       "      <th>1</th>\n",
       "      <td>0</td>\n",
       "      <td>0</td>\n",
       "      <td>0</td>\n",
       "      <td>0</td>\n",
       "      <td>0</td>\n",
       "      <td>0</td>\n",
       "      <td>0</td>\n",
       "      <td>0</td>\n",
       "      <td>0</td>\n",
       "      <td>0</td>\n",
       "      <td>...</td>\n",
       "      <td>0</td>\n",
       "      <td>0</td>\n",
       "      <td>0</td>\n",
       "      <td>0</td>\n",
       "      <td>0</td>\n",
       "      <td>0</td>\n",
       "      <td>0</td>\n",
       "      <td>0</td>\n",
       "      <td>0</td>\n",
       "      <td>0</td>\n",
       "    </tr>\n",
       "    <tr>\n",
       "      <th>2</th>\n",
       "      <td>1</td>\n",
       "      <td>0</td>\n",
       "      <td>0</td>\n",
       "      <td>0</td>\n",
       "      <td>0</td>\n",
       "      <td>0</td>\n",
       "      <td>0</td>\n",
       "      <td>0</td>\n",
       "      <td>0</td>\n",
       "      <td>0</td>\n",
       "      <td>...</td>\n",
       "      <td>0</td>\n",
       "      <td>0</td>\n",
       "      <td>0</td>\n",
       "      <td>0</td>\n",
       "      <td>0</td>\n",
       "      <td>0</td>\n",
       "      <td>0</td>\n",
       "      <td>0</td>\n",
       "      <td>0</td>\n",
       "      <td>0</td>\n",
       "    </tr>\n",
       "    <tr>\n",
       "      <th>3</th>\n",
       "      <td>4</td>\n",
       "      <td>0</td>\n",
       "      <td>0</td>\n",
       "      <td>0</td>\n",
       "      <td>0</td>\n",
       "      <td>0</td>\n",
       "      <td>0</td>\n",
       "      <td>0</td>\n",
       "      <td>0</td>\n",
       "      <td>0</td>\n",
       "      <td>...</td>\n",
       "      <td>0</td>\n",
       "      <td>0</td>\n",
       "      <td>0</td>\n",
       "      <td>0</td>\n",
       "      <td>0</td>\n",
       "      <td>0</td>\n",
       "      <td>0</td>\n",
       "      <td>0</td>\n",
       "      <td>0</td>\n",
       "      <td>0</td>\n",
       "    </tr>\n",
       "    <tr>\n",
       "      <th>4</th>\n",
       "      <td>0</td>\n",
       "      <td>0</td>\n",
       "      <td>0</td>\n",
       "      <td>0</td>\n",
       "      <td>0</td>\n",
       "      <td>0</td>\n",
       "      <td>0</td>\n",
       "      <td>0</td>\n",
       "      <td>0</td>\n",
       "      <td>0</td>\n",
       "      <td>...</td>\n",
       "      <td>0</td>\n",
       "      <td>0</td>\n",
       "      <td>0</td>\n",
       "      <td>0</td>\n",
       "      <td>0</td>\n",
       "      <td>0</td>\n",
       "      <td>0</td>\n",
       "      <td>0</td>\n",
       "      <td>0</td>\n",
       "      <td>0</td>\n",
       "    </tr>\n",
       "  </tbody>\n",
       "</table>\n",
       "<p>5 rows × 785 columns</p>\n",
       "</div>"
      ],
      "text/plain": [
       "   label  pixel0  pixel1  pixel2  pixel3  pixel4  pixel5  pixel6  pixel7  \\\n",
       "0      1       0       0       0       0       0       0       0       0   \n",
       "1      0       0       0       0       0       0       0       0       0   \n",
       "2      1       0       0       0       0       0       0       0       0   \n",
       "3      4       0       0       0       0       0       0       0       0   \n",
       "4      0       0       0       0       0       0       0       0       0   \n",
       "\n",
       "   pixel8  ...  pixel774  pixel775  pixel776  pixel777  pixel778  pixel779  \\\n",
       "0       0  ...         0         0         0         0         0         0   \n",
       "1       0  ...         0         0         0         0         0         0   \n",
       "2       0  ...         0         0         0         0         0         0   \n",
       "3       0  ...         0         0         0         0         0         0   \n",
       "4       0  ...         0         0         0         0         0         0   \n",
       "\n",
       "   pixel780  pixel781  pixel782  pixel783  \n",
       "0         0         0         0         0  \n",
       "1         0         0         0         0  \n",
       "2         0         0         0         0  \n",
       "3         0         0         0         0  \n",
       "4         0         0         0         0  \n",
       "\n",
       "[5 rows x 785 columns]"
      ]
     },
     "execution_count": 3,
     "metadata": {},
     "output_type": "execute_result"
    }
   ],
   "source": [
    "train_data.head()"
   ]
  },
  {
   "cell_type": "code",
   "execution_count": 4,
   "id": "fc39a9b7",
   "metadata": {
    "execution": {
     "iopub.execute_input": "2021-07-25T20:52:04.870675Z",
     "iopub.status.busy": "2021-07-25T20:52:04.869980Z",
     "iopub.status.idle": "2021-07-25T20:52:04.888703Z",
     "shell.execute_reply": "2021-07-25T20:52:04.889203Z",
     "shell.execute_reply.started": "2021-07-25T19:32:29.406686Z"
    },
    "papermill": {
     "duration": 0.060225,
     "end_time": "2021-07-25T20:52:04.889401",
     "exception": false,
     "start_time": "2021-07-25T20:52:04.829176",
     "status": "completed"
    },
    "tags": []
   },
   "outputs": [
    {
     "data": {
      "text/html": [
       "<div>\n",
       "<style scoped>\n",
       "    .dataframe tbody tr th:only-of-type {\n",
       "        vertical-align: middle;\n",
       "    }\n",
       "\n",
       "    .dataframe tbody tr th {\n",
       "        vertical-align: top;\n",
       "    }\n",
       "\n",
       "    .dataframe thead th {\n",
       "        text-align: right;\n",
       "    }\n",
       "</style>\n",
       "<table border=\"1\" class=\"dataframe\">\n",
       "  <thead>\n",
       "    <tr style=\"text-align: right;\">\n",
       "      <th></th>\n",
       "      <th>pixel0</th>\n",
       "      <th>pixel1</th>\n",
       "      <th>pixel2</th>\n",
       "      <th>pixel3</th>\n",
       "      <th>pixel4</th>\n",
       "      <th>pixel5</th>\n",
       "      <th>pixel6</th>\n",
       "      <th>pixel7</th>\n",
       "      <th>pixel8</th>\n",
       "      <th>pixel9</th>\n",
       "      <th>...</th>\n",
       "      <th>pixel774</th>\n",
       "      <th>pixel775</th>\n",
       "      <th>pixel776</th>\n",
       "      <th>pixel777</th>\n",
       "      <th>pixel778</th>\n",
       "      <th>pixel779</th>\n",
       "      <th>pixel780</th>\n",
       "      <th>pixel781</th>\n",
       "      <th>pixel782</th>\n",
       "      <th>pixel783</th>\n",
       "    </tr>\n",
       "  </thead>\n",
       "  <tbody>\n",
       "    <tr>\n",
       "      <th>0</th>\n",
       "      <td>0</td>\n",
       "      <td>0</td>\n",
       "      <td>0</td>\n",
       "      <td>0</td>\n",
       "      <td>0</td>\n",
       "      <td>0</td>\n",
       "      <td>0</td>\n",
       "      <td>0</td>\n",
       "      <td>0</td>\n",
       "      <td>0</td>\n",
       "      <td>...</td>\n",
       "      <td>0</td>\n",
       "      <td>0</td>\n",
       "      <td>0</td>\n",
       "      <td>0</td>\n",
       "      <td>0</td>\n",
       "      <td>0</td>\n",
       "      <td>0</td>\n",
       "      <td>0</td>\n",
       "      <td>0</td>\n",
       "      <td>0</td>\n",
       "    </tr>\n",
       "    <tr>\n",
       "      <th>1</th>\n",
       "      <td>0</td>\n",
       "      <td>0</td>\n",
       "      <td>0</td>\n",
       "      <td>0</td>\n",
       "      <td>0</td>\n",
       "      <td>0</td>\n",
       "      <td>0</td>\n",
       "      <td>0</td>\n",
       "      <td>0</td>\n",
       "      <td>0</td>\n",
       "      <td>...</td>\n",
       "      <td>0</td>\n",
       "      <td>0</td>\n",
       "      <td>0</td>\n",
       "      <td>0</td>\n",
       "      <td>0</td>\n",
       "      <td>0</td>\n",
       "      <td>0</td>\n",
       "      <td>0</td>\n",
       "      <td>0</td>\n",
       "      <td>0</td>\n",
       "    </tr>\n",
       "    <tr>\n",
       "      <th>2</th>\n",
       "      <td>0</td>\n",
       "      <td>0</td>\n",
       "      <td>0</td>\n",
       "      <td>0</td>\n",
       "      <td>0</td>\n",
       "      <td>0</td>\n",
       "      <td>0</td>\n",
       "      <td>0</td>\n",
       "      <td>0</td>\n",
       "      <td>0</td>\n",
       "      <td>...</td>\n",
       "      <td>0</td>\n",
       "      <td>0</td>\n",
       "      <td>0</td>\n",
       "      <td>0</td>\n",
       "      <td>0</td>\n",
       "      <td>0</td>\n",
       "      <td>0</td>\n",
       "      <td>0</td>\n",
       "      <td>0</td>\n",
       "      <td>0</td>\n",
       "    </tr>\n",
       "    <tr>\n",
       "      <th>3</th>\n",
       "      <td>0</td>\n",
       "      <td>0</td>\n",
       "      <td>0</td>\n",
       "      <td>0</td>\n",
       "      <td>0</td>\n",
       "      <td>0</td>\n",
       "      <td>0</td>\n",
       "      <td>0</td>\n",
       "      <td>0</td>\n",
       "      <td>0</td>\n",
       "      <td>...</td>\n",
       "      <td>0</td>\n",
       "      <td>0</td>\n",
       "      <td>0</td>\n",
       "      <td>0</td>\n",
       "      <td>0</td>\n",
       "      <td>0</td>\n",
       "      <td>0</td>\n",
       "      <td>0</td>\n",
       "      <td>0</td>\n",
       "      <td>0</td>\n",
       "    </tr>\n",
       "    <tr>\n",
       "      <th>4</th>\n",
       "      <td>0</td>\n",
       "      <td>0</td>\n",
       "      <td>0</td>\n",
       "      <td>0</td>\n",
       "      <td>0</td>\n",
       "      <td>0</td>\n",
       "      <td>0</td>\n",
       "      <td>0</td>\n",
       "      <td>0</td>\n",
       "      <td>0</td>\n",
       "      <td>...</td>\n",
       "      <td>0</td>\n",
       "      <td>0</td>\n",
       "      <td>0</td>\n",
       "      <td>0</td>\n",
       "      <td>0</td>\n",
       "      <td>0</td>\n",
       "      <td>0</td>\n",
       "      <td>0</td>\n",
       "      <td>0</td>\n",
       "      <td>0</td>\n",
       "    </tr>\n",
       "  </tbody>\n",
       "</table>\n",
       "<p>5 rows × 784 columns</p>\n",
       "</div>"
      ],
      "text/plain": [
       "   pixel0  pixel1  pixel2  pixel3  pixel4  pixel5  pixel6  pixel7  pixel8  \\\n",
       "0       0       0       0       0       0       0       0       0       0   \n",
       "1       0       0       0       0       0       0       0       0       0   \n",
       "2       0       0       0       0       0       0       0       0       0   \n",
       "3       0       0       0       0       0       0       0       0       0   \n",
       "4       0       0       0       0       0       0       0       0       0   \n",
       "\n",
       "   pixel9  ...  pixel774  pixel775  pixel776  pixel777  pixel778  pixel779  \\\n",
       "0       0  ...         0         0         0         0         0         0   \n",
       "1       0  ...         0         0         0         0         0         0   \n",
       "2       0  ...         0         0         0         0         0         0   \n",
       "3       0  ...         0         0         0         0         0         0   \n",
       "4       0  ...         0         0         0         0         0         0   \n",
       "\n",
       "   pixel780  pixel781  pixel782  pixel783  \n",
       "0         0         0         0         0  \n",
       "1         0         0         0         0  \n",
       "2         0         0         0         0  \n",
       "3         0         0         0         0  \n",
       "4         0         0         0         0  \n",
       "\n",
       "[5 rows x 784 columns]"
      ]
     },
     "execution_count": 4,
     "metadata": {},
     "output_type": "execute_result"
    }
   ],
   "source": [
    "test_data.head()"
   ]
  },
  {
   "cell_type": "markdown",
   "id": "f39ee6b5",
   "metadata": {
    "papermill": {
     "duration": 0.03877,
     "end_time": "2021-07-25T20:52:04.966875",
     "exception": false,
     "start_time": "2021-07-25T20:52:04.928105",
     "status": "completed"
    },
    "tags": []
   },
   "source": [
    "For training set, the first column is the label. So we need to split the labels from the actual image data to perform classification. "
   ]
  },
  {
   "cell_type": "code",
   "execution_count": 5,
   "id": "add0f1bc",
   "metadata": {
    "execution": {
     "iopub.execute_input": "2021-07-25T20:52:05.050105Z",
     "iopub.status.busy": "2021-07-25T20:52:05.049447Z",
     "iopub.status.idle": "2021-07-25T20:52:05.053897Z",
     "shell.execute_reply": "2021-07-25T20:52:05.054363Z",
     "shell.execute_reply.started": "2021-07-25T19:32:29.427092Z"
    },
    "papermill": {
     "duration": 0.048986,
     "end_time": "2021-07-25T20:52:05.054573",
     "exception": false,
     "start_time": "2021-07-25T20:52:05.005587",
     "status": "completed"
    },
    "tags": []
   },
   "outputs": [],
   "source": [
    "#Splitting labels from actual data\n",
    "Xtrain = train_data.iloc[:,1:]\n",
    "ytrain = train_data.iloc[:,0]\n",
    "Xtest = test_data"
   ]
  },
  {
   "cell_type": "code",
   "execution_count": 6,
   "id": "5348cbcb",
   "metadata": {
    "execution": {
     "iopub.execute_input": "2021-07-25T20:52:05.146830Z",
     "iopub.status.busy": "2021-07-25T20:52:05.145450Z",
     "iopub.status.idle": "2021-07-25T20:52:05.152638Z",
     "shell.execute_reply": "2021-07-25T20:52:05.152007Z",
     "shell.execute_reply.started": "2021-07-25T19:32:29.440549Z"
    },
    "papermill": {
     "duration": 0.059236,
     "end_time": "2021-07-25T20:52:05.152791",
     "exception": false,
     "start_time": "2021-07-25T20:52:05.093555",
     "status": "completed"
    },
    "tags": []
   },
   "outputs": [
    {
     "name": "stdout",
     "output_type": "stream",
     "text": [
      "---------- Overview of the Dataset ----------\n",
      "Size of each image: 28 x 28\n",
      "Number of pixels in each image: 784\n",
      "Number of classes: 10\n",
      "Number of images in the training set: 42000\n",
      "Number of images in the testing set: 28000\n"
     ]
    }
   ],
   "source": [
    "#Overview of the dataset\n",
    "num_pixels = len(Xtrain.loc[0])\n",
    "img_dim = np.sqrt(num_pixels).astype(int)\n",
    "num_classes = len(set(ytrain))\n",
    "num_samples = len(Xtrain)\n",
    "num_samples_te = len(Xtest)\n",
    "print(10*\"-\",\"Overview of the Dataset\",10*\"-\")\n",
    "print(\"Size of each image: {} x {}\".format(img_dim,img_dim))\n",
    "print(\"Number of pixels in each image:\",num_pixels)\n",
    "print(\"Number of classes:\",num_classes)\n",
    "print(\"Number of images in the training set:\",num_samples)\n",
    "print(\"Number of images in the testing set:\",num_samples_te)"
   ]
  },
  {
   "cell_type": "code",
   "execution_count": 7,
   "id": "61be6434",
   "metadata": {
    "execution": {
     "iopub.execute_input": "2021-07-25T20:52:05.236742Z",
     "iopub.status.busy": "2021-07-25T20:52:05.235775Z",
     "iopub.status.idle": "2021-07-25T20:52:05.618988Z",
     "shell.execute_reply": "2021-07-25T20:52:05.618036Z",
     "shell.execute_reply.started": "2021-07-25T19:32:29.462419Z"
    },
    "papermill": {
     "duration": 0.427594,
     "end_time": "2021-07-25T20:52:05.619154",
     "exception": false,
     "start_time": "2021-07-25T20:52:05.191560",
     "status": "completed"
    },
    "tags": []
   },
   "outputs": [
    {
     "data": {
      "image/png": "[encoded data removed]",
      "text/plain": [
       "<Figure size 432x288 with 1 Axes>"
      ]
     },
     "metadata": {
      "needs_background": "light"
     },
     "output_type": "display_data"
    }
   ],
   "source": [
    "#samples per class\n",
    "sample_per_class = np.unique(ytrain,return_counts = True)\n",
    "sns.barplot( x = sample_per_class[0], y = sample_per_class[1])\n",
    "plt.title('Samples per class')\n",
    "plt.xlabel('Label')\n",
    "plt.ylabel('Count')\n",
    "plt.show()"
   ]
  },
  {
   "cell_type": "code",
   "execution_count": 8,
   "id": "e117e535",
   "metadata": {
    "execution": {
     "iopub.execute_input": "2021-07-25T20:52:05.701581Z",
     "iopub.status.busy": "2021-07-25T20:52:05.700933Z",
     "iopub.status.idle": "2021-07-25T20:52:05.707440Z",
     "shell.execute_reply": "2021-07-25T20:52:05.707998Z",
     "shell.execute_reply.started": "2021-07-25T19:32:29.844476Z"
    },
    "papermill": {
     "duration": 0.049334,
     "end_time": "2021-07-25T20:52:05.708166",
     "exception": false,
     "start_time": "2021-07-25T20:52:05.658832",
     "status": "completed"
    },
    "tags": []
   },
   "outputs": [
    {
     "name": "stdout",
     "output_type": "stream",
     "text": [
      "Number of samples for 0 : 4132 \n",
      "Number of samples for 1 : 4684 \n",
      "Number of samples for 2 : 4177 \n",
      "Number of samples for 3 : 4351 \n",
      "Number of samples for 4 : 4072 \n",
      "Number of samples for 5 : 3795 \n",
      "Number of samples for 6 : 4137 \n",
      "Number of samples for 7 : 4401 \n",
      "Number of samples for 8 : 4063 \n",
      "Number of samples for 9 : 4188 \n"
     ]
    }
   ],
   "source": [
    "for m,n in zip(sample_per_class[0],sample_per_class[1]):\n",
    "    print(\"Number of samples for {} : {} \".format(m,n))"
   ]
  },
  {
   "cell_type": "markdown",
   "id": "bbf7503a",
   "metadata": {
    "papermill": {
     "duration": 0.03947,
     "end_time": "2021-07-25T20:52:05.787377",
     "exception": false,
     "start_time": "2021-07-25T20:52:05.747907",
     "status": "completed"
    },
    "tags": []
   },
   "source": [
    "The dataset appears to be fairly balanced"
   ]
  },
  {
   "cell_type": "code",
   "execution_count": 9,
   "id": "024b2eaa",
   "metadata": {
    "execution": {
     "iopub.execute_input": "2021-07-25T20:52:05.869971Z",
     "iopub.status.busy": "2021-07-25T20:52:05.869317Z",
     "iopub.status.idle": "2021-07-25T20:52:05.996472Z",
     "shell.execute_reply": "2021-07-25T20:52:05.995905Z",
     "shell.execute_reply.started": "2021-07-25T19:32:29.85349Z"
    },
    "papermill": {
     "duration": 0.169656,
     "end_time": "2021-07-25T20:52:05.996762",
     "exception": false,
     "start_time": "2021-07-25T20:52:05.827106",
     "status": "completed"
    },
    "tags": []
   },
   "outputs": [],
   "source": [
    "# Normalization\n",
    "Xtrain = Xtrain / 255.0\n",
    "Xtest = Xtest / 255.0"
   ]
  },
  {
   "cell_type": "markdown",
   "id": "ba4f7784",
   "metadata": {
    "papermill": {
     "duration": 0.039448,
     "end_time": "2021-07-25T20:52:06.076231",
     "exception": false,
     "start_time": "2021-07-25T20:52:06.036783",
     "status": "completed"
    },
    "tags": []
   },
   "source": [
    "Normalization is performed to reduce illumination differences"
   ]
  },
  {
   "cell_type": "code",
   "execution_count": 10,
   "id": "ac551bc0",
   "metadata": {
    "execution": {
     "iopub.execute_input": "2021-07-25T20:52:06.162608Z",
     "iopub.status.busy": "2021-07-25T20:52:06.161574Z",
     "iopub.status.idle": "2021-07-25T20:52:06.435325Z",
     "shell.execute_reply": "2021-07-25T20:52:06.434738Z",
     "shell.execute_reply.started": "2021-07-25T19:32:29.992307Z"
    },
    "papermill": {
     "duration": 0.319508,
     "end_time": "2021-07-25T20:52:06.435485",
     "exception": false,
     "start_time": "2021-07-25T20:52:06.115977",
     "status": "completed"
    },
    "tags": []
   },
   "outputs": [],
   "source": [
    "#Splitting the training data into training and validation set\n",
    "Xtrain,Xval,ytrain,yval = train_test_split(Xtrain,ytrain,test_size = 0.2,random_state = 2)"
   ]
  },
  {
   "cell_type": "code",
   "execution_count": 11,
   "id": "5c01f66e",
   "metadata": {
    "execution": {
     "iopub.execute_input": "2021-07-25T20:52:06.522079Z",
     "iopub.status.busy": "2021-07-25T20:52:06.521354Z",
     "iopub.status.idle": "2021-07-25T20:52:06.525077Z",
     "shell.execute_reply": "2021-07-25T20:52:06.524447Z",
     "shell.execute_reply.started": "2021-07-25T19:32:30.278703Z"
    },
    "papermill": {
     "duration": 0.049733,
     "end_time": "2021-07-25T20:52:06.525212",
     "exception": false,
     "start_time": "2021-07-25T20:52:06.475479",
     "status": "completed"
    },
    "tags": []
   },
   "outputs": [],
   "source": [
    "#Reshaping Xtrain and Xtest\n",
    "Xtrain  = Xtrain.to_numpy().reshape(-1,28,28)\n",
    "Xval = Xval.to_numpy().reshape(-1,28,28)\n",
    "ytrain  = ytrain.to_numpy()\n",
    "Xtest = Xtest.to_numpy().reshape(-1,28,28)"
   ]
  },
  {
   "cell_type": "code",
   "execution_count": 12,
   "id": "0cddf65f",
   "metadata": {
    "execution": {
     "iopub.execute_input": "2021-07-25T20:52:06.637035Z",
     "iopub.status.busy": "2021-07-25T20:52:06.633559Z",
     "iopub.status.idle": "2021-07-25T20:52:07.199270Z",
     "shell.execute_reply": "2021-07-25T20:52:07.198772Z",
     "shell.execute_reply.started": "2021-07-25T19:32:30.287195Z"
    },
    "papermill": {
     "duration": 0.633422,
     "end_time": "2021-07-25T20:52:07.199426",
     "exception": false,
     "start_time": "2021-07-25T20:52:06.566004",
     "status": "completed"
    },
    "tags": []
   },
   "outputs": [
    {
     "data": {
      "image/png": "[encoded data removed]",
      "text/plain": [
       "<Figure size 1440x432 with 10 Axes>"
      ]
     },
     "metadata": {
      "needs_background": "light"
     },
     "output_type": "display_data"
    }
   ],
   "source": [
    "#Plotting images for each sign\n",
    "plt.figure(figsize=(20,6))\n",
    "\n",
    "for i,j in enumerate([4,7,0,1,14,9,32,5,8,3]):\n",
    "    plt.subplot(2,5,i+1)\n",
    "    plt.subplots_adjust(top = 2, bottom = 1)\n",
    "    img = Xtrain[j]\n",
    "    img = img.reshape((28,28))\n",
    "    plt.imshow(img,cmap = 'gray')\n",
    "    plt.title(ytrain[j])\n",
    "    plt.axis('off')\n",
    "plt.suptitle('Images from the training set',fontsize = 20)\n",
    "plt.show()"
   ]
  },
  {
   "cell_type": "markdown",
   "id": "e11ea5c0",
   "metadata": {
    "papermill": {
     "duration": 0.040429,
     "end_time": "2021-07-25T20:52:07.281161",
     "exception": false,
     "start_time": "2021-07-25T20:52:07.240732",
     "status": "completed"
    },
    "tags": []
   },
   "source": [
    "# **3. Dimension reduction using DCT**"
   ]
  },
  {
   "cell_type": "markdown",
   "id": "188d9088",
   "metadata": {
    "papermill": {
     "duration": 0.040541,
     "end_time": "2021-07-25T20:52:07.362726",
     "exception": false,
     "start_time": "2021-07-25T20:52:07.322185",
     "status": "completed"
    },
    "tags": []
   },
   "source": [
    "The 2D Discrete Cosine Transform (DCT) can be effectively used to compress digital images. The 2D DCT removes redundancies between neighbouring pixels and gives us uncorrelated transform coefficients which can be independently encoded. The DCT has a variety of useful properties such as energy preservability, compaction, seperability and decorrelation ability that makes it suitable for compression. \n",
    "\n",
    "For dimensionality reduction, the energy compaction and signal decorrelation property of 2D DCT is very useful which allows representation of digital image by a relatively small number of DCT coefficients. To achieve this, zig zag scanning is used to scan each digit image of the data base of size 28 x 28 from top-left to bottom-right converting it into a vector of length 784. The DCT coefficients with larger magnitude tend to occur in the top-left corner. Hence, in a vector obtained by zig-zag scanning from top-left, larger DCT coefficients will be concentrated in the top part of the vector. Therefore, it is possible to get a fairly accurate estimation of the raw input image using a low dimensional vector obtained by retaining only the first several DCT coefficients."
   ]
  },
  {
   "cell_type": "code",
   "execution_count": 13,
   "id": "0cb105c6",
   "metadata": {
    "execution": {
     "iopub.execute_input": "2021-07-25T20:52:07.478504Z",
     "iopub.status.busy": "2021-07-25T20:52:07.470214Z",
     "iopub.status.idle": "2021-07-25T20:52:08.051772Z",
     "shell.execute_reply": "2021-07-25T20:52:08.052306Z",
     "shell.execute_reply.started": "2021-07-25T19:32:30.875928Z"
    },
    "papermill": {
     "duration": 0.648772,
     "end_time": "2021-07-25T20:52:08.052496",
     "exception": false,
     "start_time": "2021-07-25T20:52:07.403724",
     "status": "completed"
    },
    "tags": []
   },
   "outputs": [
    {
     "data": {
      "image/png": "[encoded data removed]",
      "text/plain": [
       "<Figure size 1440x432 with 10 Axes>"
      ]
     },
     "metadata": {
      "needs_background": "light"
     },
     "output_type": "display_data"
    }
   ],
   "source": [
    "#Lets plot the images compressed using DCT\n",
    "n_coeff = 14 #retaining only 14 x 14 DCT coefficients of a 28 x 28 image\n",
    "compress = np.round((1-(n_coeff**2/num_pixels))*100,2)\n",
    "plt.figure(figsize=(20,6))\n",
    "for i,j in enumerate([4,7,0,1,14,9,32,5,8,3]):\n",
    "    plt.subplot(2,5,i+1)\n",
    "    plt.subplots_adjust(top = 2, bottom = 1)\n",
    "    C = cv2.dct(Xtrain[j]) #dct of image\n",
    "    C_ = C[0:n_coeff,0:n_coeff] #taking only 30 x 30 i.e. 900 coefficients\n",
    "    C_n = np.zeros([28,28]) #original image shape\n",
    "    C_n[0:n_coeff,0:n_coeff] = C_\n",
    "    X_n = cv2.idct(C_n)\n",
    "    plt.imshow(X_n,cmap = 'gray')\n",
    "    plt.title(ytrain[j])\n",
    "    plt.axis('off')\n",
    "plt.suptitle('Images after compression using DCT by {} %'.format(compress),fontsize = 20)\n",
    "plt.show()"
   ]
  },
  {
   "cell_type": "code",
   "execution_count": 14,
   "id": "db55b9f6",
   "metadata": {
    "execution": {
     "iopub.execute_input": "2021-07-25T20:52:08.142210Z",
     "iopub.status.busy": "2021-07-25T20:52:08.141535Z",
     "iopub.status.idle": "2021-07-25T20:52:08.146295Z",
     "shell.execute_reply": "2021-07-25T20:52:08.146822Z",
     "shell.execute_reply.started": "2021-07-25T19:32:31.483895Z"
    },
    "papermill": {
     "duration": 0.051422,
     "end_time": "2021-07-25T20:52:08.146997",
     "exception": false,
     "start_time": "2021-07-25T20:52:08.095575",
     "status": "completed"
    },
    "tags": []
   },
   "outputs": [],
   "source": [
    "#function for zigzag scanning\n",
    "def zigzag(a):\n",
    "    b =  np.concatenate([np.diagonal(a[::-1,:], i)[::(2*(i % 2)-1)] for i in range(1-a.shape[0], a.shape[0])])\n",
    "    return b"
   ]
  },
  {
   "cell_type": "code",
   "execution_count": 15,
   "id": "8d237d1c",
   "metadata": {
    "execution": {
     "iopub.execute_input": "2021-07-25T20:52:08.236446Z",
     "iopub.status.busy": "2021-07-25T20:52:08.235479Z",
     "iopub.status.idle": "2021-07-25T20:52:08.240521Z",
     "shell.execute_reply": "2021-07-25T20:52:08.241052Z",
     "shell.execute_reply.started": "2021-07-25T19:32:31.491801Z"
    },
    "papermill": {
     "duration": 0.051143,
     "end_time": "2021-07-25T20:52:08.241228",
     "exception": false,
     "start_time": "2021-07-25T20:52:08.190085",
     "status": "completed"
    },
    "tags": []
   },
   "outputs": [],
   "source": [
    "def dct_reduce(img,n):\n",
    "    #n is determine using how much energy we wanna retain\n",
    "    C = cv2.dct(img) #Perform discrete cosine transfor\n",
    "    c = zigzag(C) #scans image from top left to bottom right\n",
    "    s = c[:n] #retains first n entries\n",
    "    return s"
   ]
  },
  {
   "cell_type": "code",
   "execution_count": 16,
   "id": "a27eb523",
   "metadata": {
    "execution": {
     "iopub.execute_input": "2021-07-25T20:52:08.330389Z",
     "iopub.status.busy": "2021-07-25T20:52:08.329430Z",
     "iopub.status.idle": "2021-07-25T20:52:08.643056Z",
     "shell.execute_reply": "2021-07-25T20:52:08.642525Z",
     "shell.execute_reply.started": "2021-07-25T19:32:31.50463Z"
    },
    "papermill": {
     "duration": 0.359134,
     "end_time": "2021-07-25T20:52:08.643199",
     "exception": false,
     "start_time": "2021-07-25T20:52:08.284065",
     "status": "completed"
    },
    "tags": []
   },
   "outputs": [
    {
     "data": {
      "image/png": "[encoded data removed]",
      "text/plain": [
       "<Figure size 1440x360 with 3 Axes>"
      ]
     },
     "metadata": {
      "needs_background": "light"
     },
     "output_type": "display_data"
    }
   ],
   "source": [
    "r = np.random.choice(range(len(Xtrain)))\n",
    "I = Xtrain[r,:,:] #select a random image\n",
    "C = cv2.dct(I) #calculate dct\n",
    "c = zigzag(C) #perform zigzag scanning\n",
    "fig,ax = plt.subplots(1,3,figsize=(20,5))\n",
    "ax[0].imshow(I,cmap = 'gray') #original image\n",
    "ax[0].set_title('Original Image')\n",
    "ax[0].axis('off')\n",
    "ax[1].imshow(C,cmap = 'gray')\n",
    "ax[1].set_title('2D-DCT')\n",
    "ax[1].axis('off')\n",
    "ax[2].plot(c)\n",
    "ax[2].grid(True)\n",
    "ax[2].set_title('DCT coefficients arranged by zigzag scanning')\n",
    "plt.suptitle('Illustration of energy compaction property of 2D-DCT')\n",
    "plt.show()"
   ]
  },
  {
   "cell_type": "code",
   "execution_count": 17,
   "id": "f35e467f",
   "metadata": {
    "execution": {
     "iopub.execute_input": "2021-07-25T20:52:08.740224Z",
     "iopub.status.busy": "2021-07-25T20:52:08.739113Z",
     "iopub.status.idle": "2021-07-25T20:52:08.744462Z",
     "shell.execute_reply": "2021-07-25T20:52:08.743517Z",
     "shell.execute_reply.started": "2021-07-25T19:32:31.829094Z"
    },
    "papermill": {
     "duration": 0.057456,
     "end_time": "2021-07-25T20:52:08.744676",
     "exception": false,
     "start_time": "2021-07-25T20:52:08.687220",
     "status": "completed"
    },
    "tags": []
   },
   "outputs": [
    {
     "name": "stdout",
     "output_type": "stream",
     "text": [
      "Frobenius norm of Image and its DCT is 7.04 and 7.04 respectively\n",
      "Frobenius norm with only 196 coefficients: 6.49\n",
      "Percentage of energy retained: 92.19 %\n"
     ]
    }
   ],
   "source": [
    "n =   196 #retaining only first 196 coefficients\n",
    "E_i = np.round(np.linalg.norm(I),2)  #frobenius norm of matrix after flattening\n",
    "E_c = np.round(np.linalg.norm(C),2)\n",
    "E_cr = np.round(np.linalg.norm(zigzag(C)[:n]),2)\n",
    "e_ret = E_cr/E_c*100\n",
    "print(\"Frobenius norm of Image and its DCT is {} and {} respectively\".format(E_i,E_c))\n",
    "print(\"Frobenius norm with only {} coefficients: {}\".format(n,E_cr))\n",
    "print('Percentage of energy retained: {} %'.format(np.round(e_ret,2)))"
   ]
  },
  {
   "cell_type": "code",
   "execution_count": 18,
   "id": "1c2ab08b",
   "metadata": {
    "execution": {
     "iopub.execute_input": "2021-07-25T20:52:08.840577Z",
     "iopub.status.busy": "2021-07-25T20:52:08.839764Z",
     "iopub.status.idle": "2021-07-25T20:52:18.192659Z",
     "shell.execute_reply": "2021-07-25T20:52:18.192052Z",
     "shell.execute_reply.started": "2021-07-25T19:32:31.839379Z"
    },
    "papermill": {
     "duration": 9.402649,
     "end_time": "2021-07-25T20:52:18.192805",
     "exception": false,
     "start_time": "2021-07-25T20:52:08.790156",
     "status": "completed"
    },
    "tags": []
   },
   "outputs": [],
   "source": [
    "#Perform DCT based dimension reduction on train set\n",
    "xtrain = np.zeros([len(Xtrain),n])\n",
    "for i in range(len(Xtrain)):\n",
    "    Itr = Xtrain[i]\n",
    "    s_tr = dct_reduce(Itr,n)\n",
    "    xtrain[i] = s_tr #truncated \n",
    "    "
   ]
  },
  {
   "cell_type": "code",
   "execution_count": 19,
   "id": "ee70349d",
   "metadata": {
    "execution": {
     "iopub.execute_input": "2021-07-25T20:52:18.287282Z",
     "iopub.status.busy": "2021-07-25T20:52:18.286606Z",
     "iopub.status.idle": "2021-07-25T20:52:20.588281Z",
     "shell.execute_reply": "2021-07-25T20:52:20.587567Z",
     "shell.execute_reply.started": "2021-07-25T19:32:41.11057Z"
    },
    "papermill": {
     "duration": 2.351089,
     "end_time": "2021-07-25T20:52:20.588449",
     "exception": false,
     "start_time": "2021-07-25T20:52:18.237360",
     "status": "completed"
    },
    "tags": []
   },
   "outputs": [],
   "source": [
    "#Perform DCT based dimension reduction on validation set\n",
    "xval = np.zeros([len(Xval),n])\n",
    "for i in range(len(Xval)):\n",
    "    Ival = Xval[i]\n",
    "    s_val = dct_reduce(Ival,n)\n",
    "    xval[i] = s_val"
   ]
  },
  {
   "cell_type": "code",
   "execution_count": 20,
   "id": "8cf76c9b",
   "metadata": {
    "execution": {
     "iopub.execute_input": "2021-07-25T20:52:20.683324Z",
     "iopub.status.busy": "2021-07-25T20:52:20.682635Z",
     "iopub.status.idle": "2021-07-25T20:52:28.290263Z",
     "shell.execute_reply": "2021-07-25T20:52:28.289641Z",
     "shell.execute_reply.started": "2021-07-25T19:32:43.419551Z"
    },
    "papermill": {
     "duration": 7.65716,
     "end_time": "2021-07-25T20:52:28.290437",
     "exception": false,
     "start_time": "2021-07-25T20:52:20.633277",
     "status": "completed"
    },
    "tags": []
   },
   "outputs": [],
   "source": [
    "#Perform DCT based dimension reduction on test set\n",
    "xtest = np.zeros([len(Xtest),n])\n",
    "for i in range(len(Xtest)):\n",
    "    Itest = Xtest[i]\n",
    "    s_test = dct_reduce(Itest,n)\n",
    "    xtest[i] = s_test"
   ]
  },
  {
   "cell_type": "markdown",
   "id": "f49d6ca3",
   "metadata": {
    "papermill": {
     "duration": 0.045796,
     "end_time": "2021-07-25T20:52:28.380714",
     "exception": false,
     "start_time": "2021-07-25T20:52:28.334918",
     "status": "completed"
    },
    "tags": []
   },
   "source": [
    "# **4. Performing Classification**"
   ]
  },
  {
   "cell_type": "markdown",
   "id": "78638fca",
   "metadata": {
    "papermill": {
     "duration": 0.044159,
     "end_time": "2021-07-25T20:52:28.470169",
     "exception": false,
     "start_time": "2021-07-25T20:52:28.426010",
     "status": "completed"
    },
    "tags": []
   },
   "source": [
    "### Using PCA for Classification"
   ]
  },
  {
   "cell_type": "code",
   "execution_count": 21,
   "id": "33965702",
   "metadata": {
    "execution": {
     "iopub.execute_input": "2021-07-25T20:52:28.567470Z",
     "iopub.status.busy": "2021-07-25T20:52:28.566727Z",
     "iopub.status.idle": "2021-07-25T20:52:28.570043Z",
     "shell.execute_reply": "2021-07-25T20:52:28.569518Z",
     "shell.execute_reply.started": "2021-07-25T19:32:51.202354Z"
    },
    "papermill": {
     "duration": 0.055221,
     "end_time": "2021-07-25T20:52:28.570200",
     "exception": false,
     "start_time": "2021-07-25T20:52:28.514979",
     "status": "completed"
    },
    "tags": []
   },
   "outputs": [],
   "source": [
    "def PCA_extract(xtrain,ytrain,q):\n",
    "    # q  - number of principal component components to be retained .\n",
    "    U = []\n",
    "    M = []\n",
    "    for i in range(ytrain.max()+1):\n",
    "        D = xtrain[np.where(ytrain == i)]  #get data for each digit\n",
    "        m = np.mean(D, axis=0) #calculate the mean of each column\n",
    "        C = D - m #centralize each data point\n",
    "        V = np.cov(C.T) #calculate covariance\n",
    "        # eigendecomposition of covariance matrix\n",
    "        values, vectors = largest_eigsh(V,q,which = 'LM') # we want q eigen vectors corresponding to q largest magnitude eigen values\n",
    "        U.append(vectors)\n",
    "        M.append(m)  \n",
    "    return U,M"
   ]
  },
  {
   "cell_type": "code",
   "execution_count": 22,
   "id": "01a91ca9",
   "metadata": {
    "execution": {
     "iopub.execute_input": "2021-07-25T20:52:28.663952Z",
     "iopub.status.busy": "2021-07-25T20:52:28.663201Z",
     "iopub.status.idle": "2021-07-25T20:52:28.971658Z",
     "shell.execute_reply": "2021-07-25T20:52:28.972594Z",
     "shell.execute_reply.started": "2021-07-25T19:32:51.212883Z"
    },
    "papermill": {
     "duration": 0.358053,
     "end_time": "2021-07-25T20:52:28.972892",
     "exception": false,
     "start_time": "2021-07-25T20:52:28.614839",
     "status": "completed"
    },
    "tags": []
   },
   "outputs": [],
   "source": [
    "q = 14\n",
    "U,M = PCA_extract(xtrain,ytrain,q)"
   ]
  },
  {
   "cell_type": "code",
   "execution_count": 23,
   "id": "43d2885d",
   "metadata": {
    "execution": {
     "iopub.execute_input": "2021-07-25T20:52:29.121071Z",
     "iopub.status.busy": "2021-07-25T20:52:29.120265Z",
     "iopub.status.idle": "2021-07-25T20:52:29.122335Z",
     "shell.execute_reply": "2021-07-25T20:52:29.122838Z",
     "shell.execute_reply.started": "2021-07-25T19:32:51.575868Z"
    },
    "papermill": {
     "duration": 0.070556,
     "end_time": "2021-07-25T20:52:29.123004",
     "exception": false,
     "start_time": "2021-07-25T20:52:29.052448",
     "status": "completed"
    },
    "tags": []
   },
   "outputs": [],
   "source": [
    "# Perform classification using PCA\n",
    "def PCA_classify(test,U,M):\n",
    "    e = np.zeros([len(test),10])\n",
    "    for i in range(len(test)):\n",
    "        for j in range(10):\n",
    "            Uq = U[j] #get the eigen vector corresponding to the class (n x q)\n",
    "            te = test[i] - M[j] # (n,)\n",
    "            f =  np.dot(Uq.T,te) #lower dimension of the point (q x n)*(n x 1) = q x 1\n",
    "            z = np.dot(f,Uq.T) # projecting low dimensional data point onto subspace of each class\n",
    "            d = np.linalg.norm(z - te) #distance between testing datapoint and its projection\n",
    "            e[i,j]= d\n",
    "    # identify the target class for data points \n",
    "    ypred = np.argmin(e,axis =1 ) \n",
    "    return ypred"
   ]
  },
  {
   "cell_type": "code",
   "execution_count": 24,
   "id": "16a77e00",
   "metadata": {
    "execution": {
     "iopub.execute_input": "2021-07-25T20:52:29.214786Z",
     "iopub.status.busy": "2021-07-25T20:52:29.214121Z",
     "iopub.status.idle": "2021-07-25T20:52:30.900298Z",
     "shell.execute_reply": "2021-07-25T20:52:30.900828Z",
     "shell.execute_reply.started": "2021-07-25T19:32:51.588397Z"
    },
    "papermill": {
     "duration": 1.733723,
     "end_time": "2021-07-25T20:52:30.901017",
     "exception": false,
     "start_time": "2021-07-25T20:52:29.167294",
     "status": "completed"
    },
    "tags": []
   },
   "outputs": [],
   "source": [
    "#classification on the validation set\n",
    "ypred = PCA_classify(xval,U,M)"
   ]
  },
  {
   "cell_type": "code",
   "execution_count": 25,
   "id": "b5abde03",
   "metadata": {
    "execution": {
     "iopub.execute_input": "2021-07-25T20:52:31.003902Z",
     "iopub.status.busy": "2021-07-25T20:52:31.003086Z",
     "iopub.status.idle": "2021-07-25T20:52:31.644135Z",
     "shell.execute_reply": "2021-07-25T20:52:31.643346Z",
     "shell.execute_reply.started": "2021-07-25T19:32:53.321112Z"
    },
    "papermill": {
     "duration": 0.690895,
     "end_time": "2021-07-25T20:52:31.644290",
     "exception": false,
     "start_time": "2021-07-25T20:52:30.953395",
     "status": "completed"
    },
    "tags": []
   },
   "outputs": [
    {
     "data": {
      "image/png": "[encoded data removed]",
      "text/plain": [
       "<Figure size 720x720 with 2 Axes>"
      ]
     },
     "metadata": {
      "needs_background": "light"
     },
     "output_type": "display_data"
    }
   ],
   "source": [
    "#plot confusion matrix\n",
    "cm = confusion_matrix(yval,ypred)\n",
    "plt.figure(figsize=(10,10))\n",
    "sns.heatmap(cm,cmap = 'Blues',annot = True,fmt = 'g')\n",
    "plt.xlabel('Predicted value')\n",
    "plt.ylabel('True')\n",
    "plt.show()"
   ]
  },
  {
   "cell_type": "code",
   "execution_count": 26,
   "id": "00f9d888",
   "metadata": {
    "execution": {
     "iopub.execute_input": "2021-07-25T20:52:31.741810Z",
     "iopub.status.busy": "2021-07-25T20:52:31.741162Z",
     "iopub.status.idle": "2021-07-25T20:52:31.746559Z",
     "shell.execute_reply": "2021-07-25T20:52:31.745923Z",
     "shell.execute_reply.started": "2021-07-25T19:32:53.91536Z"
    },
    "papermill": {
     "duration": 0.055809,
     "end_time": "2021-07-25T20:52:31.746699",
     "exception": false,
     "start_time": "2021-07-25T20:52:31.690890",
     "status": "completed"
    },
    "tags": []
   },
   "outputs": [
    {
     "name": "stdout",
     "output_type": "stream",
     "text": [
      "The accuracy of PCA based classifier on validation set is 94.75 %\n"
     ]
    }
   ],
   "source": [
    "accuracy = np.round(accuracy_score(yval,ypred),4)\n",
    "print(\"The accuracy of PCA based classifier on validation set is {} %\".format(accuracy*100))"
   ]
  },
  {
   "cell_type": "code",
   "execution_count": 27,
   "id": "df5da37a",
   "metadata": {
    "execution": {
     "iopub.execute_input": "2021-07-25T20:52:31.843809Z",
     "iopub.status.busy": "2021-07-25T20:52:31.843031Z",
     "iopub.status.idle": "2021-07-25T20:52:37.520639Z",
     "shell.execute_reply": "2021-07-25T20:52:37.520055Z",
     "shell.execute_reply.started": "2021-07-25T19:32:53.923438Z"
    },
    "papermill": {
     "duration": 5.727747,
     "end_time": "2021-07-25T20:52:37.520804",
     "exception": false,
     "start_time": "2021-07-25T20:52:31.793057",
     "status": "completed"
    },
    "tags": []
   },
   "outputs": [],
   "source": [
    "#classification on the test set\n",
    "ypred_t = PCA_classify(xtest,U,M)"
   ]
  },
  {
   "cell_type": "code",
   "execution_count": 28,
   "id": "5737f02d",
   "metadata": {
    "execution": {
     "iopub.execute_input": "2021-07-25T20:52:37.621792Z",
     "iopub.status.busy": "2021-07-25T20:52:37.621043Z",
     "iopub.status.idle": "2021-07-25T20:52:37.676868Z",
     "shell.execute_reply": "2021-07-25T20:52:37.677359Z",
     "shell.execute_reply.started": "2021-07-25T19:32:59.521674Z"
    },
    "papermill": {
     "duration": 0.109684,
     "end_time": "2021-07-25T20:52:37.677562",
     "exception": false,
     "start_time": "2021-07-25T20:52:37.567878",
     "status": "completed"
    },
    "tags": []
   },
   "outputs": [],
   "source": [
    "results = pd.Series(ypred_t,name=\"Label\")\n",
    "submission = pd.concat([pd.Series(range(1,28001),name = \"ImageId\"),results],axis = 1)\n",
    "submission.to_csv(\"dct_pca_mnist.csv\",index=False)"
   ]
  },
  {
   "cell_type": "markdown",
   "id": "9dd1d824",
   "metadata": {
    "papermill": {
     "duration": 0.046979,
     "end_time": "2021-07-25T20:52:37.770605",
     "exception": false,
     "start_time": "2021-07-25T20:52:37.723626",
     "status": "completed"
    },
    "tags": []
   },
   "source": [
    "### Using ANN for classification"
   ]
  },
  {
   "cell_type": "code",
   "execution_count": 29,
   "id": "d9e22548",
   "metadata": {
    "execution": {
     "iopub.execute_input": "2021-07-25T20:52:37.872434Z",
     "iopub.status.busy": "2021-07-25T20:52:37.871311Z",
     "iopub.status.idle": "2021-07-25T20:52:37.874641Z",
     "shell.execute_reply": "2021-07-25T20:52:37.873990Z",
     "shell.execute_reply.started": "2021-07-25T19:32:59.585099Z"
    },
    "papermill": {
     "duration": 0.058449,
     "end_time": "2021-07-25T20:52:37.874786",
     "exception": false,
     "start_time": "2021-07-25T20:52:37.816337",
     "status": "completed"
    },
    "tags": []
   },
   "outputs": [],
   "source": [
    "def plotLearningCurve(history,epochs):\n",
    "  epochRange = range(1,epochs+1)\n",
    "  fig , ax = plt.subplots(1,2,figsize = (10,5))\n",
    "  \n",
    "  ax[0].plot(epochRange,history.history['accuracy'],label = 'Training Accuracy')\n",
    "  ax[0].plot(epochRange,history.history['val_accuracy'],label = 'Validation Accuracy')\n",
    "  ax[0].set_title('Training and Validation accuracy')\n",
    "  ax[0].set_xlabel('Epoch')\n",
    "  ax[0].set_ylabel('Accuracy')\n",
    "  ax[0].legend()\n",
    "  ax[1].plot(epochRange,history.history['loss'],label = 'Training Loss')\n",
    "  ax[1].plot(epochRange,history.history['val_loss'],label = 'Validation Loss')\n",
    "  ax[1].set_title('Training and Validation loss')\n",
    "  ax[1].set_xlabel('Epoch')\n",
    "  ax[1].set_ylabel('Loss')\n",
    "  ax[1].legend()\n",
    "  fig.tight_layout()\n",
    "  plt.show()"
   ]
  },
  {
   "cell_type": "code",
   "execution_count": 30,
   "id": "38b4726a",
   "metadata": {
    "execution": {
     "iopub.execute_input": "2021-07-25T20:52:37.974261Z",
     "iopub.status.busy": "2021-07-25T20:52:37.973461Z",
     "iopub.status.idle": "2021-07-25T20:52:38.091118Z",
     "shell.execute_reply": "2021-07-25T20:52:38.090310Z",
     "shell.execute_reply.started": "2021-07-25T19:32:59.59677Z"
    },
    "papermill": {
     "duration": 0.170704,
     "end_time": "2021-07-25T20:52:38.091327",
     "exception": false,
     "start_time": "2021-07-25T20:52:37.920623",
     "status": "completed"
    },
    "tags": []
   },
   "outputs": [
    {
     "name": "stdout",
     "output_type": "stream",
     "text": [
      "Model: \"model\"\n",
      "_________________________________________________________________\n",
      "Layer (type)                 Output Shape              Param #   \n",
      "=================================================================\n",
      "input_1 (InputLayer)         [(None, 196)]             0         \n",
      "_________________________________________________________________\n",
      "dense (Dense)                (None, 256)               50432     \n",
      "_________________________________________________________________\n",
      "dropout (Dropout)            (None, 256)               0         \n",
      "_________________________________________________________________\n",
      "dense_1 (Dense)              (None, 128)               32896     \n",
      "_________________________________________________________________\n",
      "dropout_1 (Dropout)          (None, 128)               0         \n",
      "_________________________________________________________________\n",
      "dense_2 (Dense)              (None, 64)                8256      \n",
      "_________________________________________________________________\n",
      "dropout_2 (Dropout)          (None, 64)                0         \n",
      "_________________________________________________________________\n",
      "dense_3 (Dense)              (None, 32)                2080      \n",
      "_________________________________________________________________\n",
      "dropout_3 (Dropout)          (None, 32)                0         \n",
      "_________________________________________________________________\n",
      "dense_4 (Dense)              (None, 10)                330       \n",
      "=================================================================\n",
      "Total params: 93,994\n",
      "Trainable params: 93,994\n",
      "Non-trainable params: 0\n",
      "_________________________________________________________________\n"
     ]
    }
   ],
   "source": [
    "np.random.seed(12)\n",
    "i = Input(shape=len(xtrain.T))\n",
    "x = Dense(256, activation='relu')(i)\n",
    "x = Dropout(0.4)(x)\n",
    "x = Dense(128, activation='relu')(x)\n",
    "x = Dropout(0.3)(x)\n",
    "x = Dense(64, activation='relu')(x)\n",
    "x = Dropout(0.2)(x)\n",
    "x = Dense(32,activation = 'relu')(x)\n",
    "x = Dropout(0.1)(x)\n",
    "x = Dense(10, activation='softmax')(x)\n",
    "model = Model(i, x)\n",
    "model.summary()\n"
   ]
  },
  {
   "cell_type": "code",
   "execution_count": 31,
   "id": "9ae775dc",
   "metadata": {
    "execution": {
     "iopub.execute_input": "2021-07-25T20:52:38.199862Z",
     "iopub.status.busy": "2021-07-25T20:52:38.198787Z",
     "iopub.status.idle": "2021-07-25T20:52:38.206598Z",
     "shell.execute_reply": "2021-07-25T20:52:38.206008Z",
     "shell.execute_reply.started": "2021-07-25T19:32:59.72917Z"
    },
    "papermill": {
     "duration": 0.067704,
     "end_time": "2021-07-25T20:52:38.206741",
     "exception": false,
     "start_time": "2021-07-25T20:52:38.139037",
     "status": "completed"
    },
    "tags": []
   },
   "outputs": [],
   "source": [
    "model.compile(loss='sparse_categorical_crossentropy', optimizer=Adam(0.001),metrics=['accuracy']) # use categorical_crossentropy when one hot encoding is used"
   ]
  },
  {
   "cell_type": "code",
   "execution_count": 32,
   "id": "c927a4cb",
   "metadata": {
    "execution": {
     "iopub.execute_input": "2021-07-25T20:52:38.302942Z",
     "iopub.status.busy": "2021-07-25T20:52:38.302262Z",
     "iopub.status.idle": "2021-07-25T20:53:21.526811Z",
     "shell.execute_reply": "2021-07-25T20:53:21.527340Z",
     "shell.execute_reply.started": "2021-07-25T19:32:59.746281Z"
    },
    "papermill": {
     "duration": 43.274584,
     "end_time": "2021-07-25T20:53:21.527549",
     "exception": false,
     "start_time": "2021-07-25T20:52:38.252965",
     "status": "completed"
    },
    "tags": []
   },
   "outputs": [
    {
     "name": "stdout",
     "output_type": "stream",
     "text": [
      "Epoch 1/10\n",
      "2100/2100 [==============================] - 6s 2ms/step - loss: 0.8870 - accuracy: 0.7056 - val_loss: 0.1842 - val_accuracy: 0.9468\n",
      "Epoch 2/10\n",
      "2100/2100 [==============================] - 4s 2ms/step - loss: 0.2677 - accuracy: 0.9270 - val_loss: 0.1436 - val_accuracy: 0.9575\n",
      "Epoch 3/10\n",
      "2100/2100 [==============================] - 4s 2ms/step - loss: 0.2114 - accuracy: 0.9419 - val_loss: 0.1234 - val_accuracy: 0.9651\n",
      "Epoch 4/10\n",
      "2100/2100 [==============================] - 4s 2ms/step - loss: 0.1705 - accuracy: 0.9541 - val_loss: 0.1107 - val_accuracy: 0.9688\n",
      "Epoch 5/10\n",
      "2100/2100 [==============================] - 4s 2ms/step - loss: 0.1543 - accuracy: 0.9579 - val_loss: 0.1061 - val_accuracy: 0.9677\n",
      "Epoch 6/10\n",
      "2100/2100 [==============================] - 4s 2ms/step - loss: 0.1436 - accuracy: 0.9618 - val_loss: 0.1044 - val_accuracy: 0.9702\n",
      "Epoch 7/10\n",
      "2100/2100 [==============================] - 4s 2ms/step - loss: 0.1293 - accuracy: 0.9646 - val_loss: 0.0956 - val_accuracy: 0.9742\n",
      "Epoch 8/10\n",
      "2100/2100 [==============================] - 4s 2ms/step - loss: 0.1294 - accuracy: 0.9643 - val_loss: 0.0923 - val_accuracy: 0.9737\n",
      "Epoch 9/10\n",
      "2100/2100 [==============================] - 4s 2ms/step - loss: 0.1231 - accuracy: 0.9655 - val_loss: 0.0923 - val_accuracy: 0.9737\n",
      "Epoch 10/10\n",
      "2100/2100 [==============================] - 4s 2ms/step - loss: 0.1151 - accuracy: 0.9682 - val_loss: 0.0948 - val_accuracy: 0.9736\n"
     ]
    }
   ],
   "source": [
    " r  = model.fit(x=xtrain, \n",
    "          y=ytrain, \n",
    "          epochs=10,\n",
    "          batch_size = 16,\n",
    "          validation_data=(xval, yval),\n",
    "          )"
   ]
  },
  {
   "cell_type": "code",
   "execution_count": 33,
   "id": "8409856e",
   "metadata": {
    "execution": {
     "iopub.execute_input": "2021-07-25T20:53:22.068090Z",
     "iopub.status.busy": "2021-07-25T20:53:22.067434Z",
     "iopub.status.idle": "2021-07-25T20:53:22.492956Z",
     "shell.execute_reply": "2021-07-25T20:53:22.493443Z",
     "shell.execute_reply.started": "2021-07-25T19:33:39.382053Z"
    },
    "papermill": {
     "duration": 0.697865,
     "end_time": "2021-07-25T20:53:22.493631",
     "exception": false,
     "start_time": "2021-07-25T20:53:21.795766",
     "status": "completed"
    },
    "tags": []
   },
   "outputs": [
    {
     "data": {
      "image/png": "[encoded data removed]",
      "text/plain": [
       "<Figure size 720x360 with 2 Axes>"
      ]
     },
     "metadata": {
      "needs_background": "light"
     },
     "output_type": "display_data"
    }
   ],
   "source": [
    "plotLearningCurve(r,10)"
   ]
  },
  {
   "cell_type": "code",
   "execution_count": 34,
   "id": "96e697a3",
   "metadata": {
    "execution": {
     "iopub.execute_input": "2021-07-25T20:53:23.037097Z",
     "iopub.status.busy": "2021-07-25T20:53:23.036356Z",
     "iopub.status.idle": "2021-07-25T20:53:23.373873Z",
     "shell.execute_reply": "2021-07-25T20:53:23.373220Z",
     "shell.execute_reply.started": "2021-07-25T19:33:39.759561Z"
    },
    "papermill": {
     "duration": 0.60957,
     "end_time": "2021-07-25T20:53:23.374022",
     "exception": false,
     "start_time": "2021-07-25T20:53:22.764452",
     "status": "completed"
    },
    "tags": []
   },
   "outputs": [],
   "source": [
    "ypred = model.predict(xval)\n",
    "ypred = np.argmax(ypred,axis = 1) "
   ]
  },
  {
   "cell_type": "code",
   "execution_count": 35,
   "id": "b00bb71b",
   "metadata": {
    "execution": {
     "iopub.execute_input": "2021-07-25T20:53:23.921870Z",
     "iopub.status.busy": "2021-07-25T20:53:23.921180Z",
     "iopub.status.idle": "2021-07-25T20:53:24.568913Z",
     "shell.execute_reply": "2021-07-25T20:53:24.568186Z",
     "shell.execute_reply.started": "2021-07-25T19:33:40.094835Z"
    },
    "papermill": {
     "duration": 0.92489,
     "end_time": "2021-07-25T20:53:24.569077",
     "exception": false,
     "start_time": "2021-07-25T20:53:23.644187",
     "status": "completed"
    },
    "tags": []
   },
   "outputs": [
    {
     "data": {
      "image/png": "[encoded data removed]",
      "text/plain": [
       "<Figure size 720x720 with 2 Axes>"
      ]
     },
     "metadata": {
      "needs_background": "light"
     },
     "output_type": "display_data"
    }
   ],
   "source": [
    "#plot confusion matrix\n",
    "cm = confusion_matrix(yval,ypred)\n",
    "plt.figure(figsize=(10,10))\n",
    "sns.heatmap(cm,cmap = 'Blues',annot = True,fmt = 'g')\n",
    "plt.xlabel('Predicted value')\n",
    "plt.ylabel('True')\n",
    "plt.show()"
   ]
  },
  {
   "cell_type": "code",
   "execution_count": 36,
   "id": "2adc3fc4",
   "metadata": {
    "execution": {
     "iopub.execute_input": "2021-07-25T20:53:25.121713Z",
     "iopub.status.busy": "2021-07-25T20:53:25.121001Z",
     "iopub.status.idle": "2021-07-25T20:53:27.514503Z",
     "shell.execute_reply": "2021-07-25T20:53:27.513809Z",
     "shell.execute_reply.started": "2021-07-25T19:33:40.681221Z"
    },
    "papermill": {
     "duration": 2.670198,
     "end_time": "2021-07-25T20:53:27.514656",
     "exception": false,
     "start_time": "2021-07-25T20:53:24.844458",
     "status": "completed"
    },
    "tags": []
   },
   "outputs": [
    {
     "name": "stdout",
     "output_type": "stream",
     "text": [
      "1050/1050 [==============================] - 2s 2ms/step - loss: 0.0412 - accuracy: 0.9878\n",
      "Train score: [0.04115181788802147, 0.9877678751945496]\n",
      "263/263 [==============================] - 1s 2ms/step - loss: 0.0948 - accuracy: 0.9736\n",
      "Validation score: [0.09483513981103897, 0.9735714197158813]\n"
     ]
    }
   ],
   "source": [
    "print(\"Train score:\", model.evaluate(xtrain,ytrain))\n",
    "print(\"Validation score:\", model.evaluate(xval,yval))"
   ]
  },
  {
   "cell_type": "code",
   "execution_count": 37,
   "id": "45564c92",
   "metadata": {
    "execution": {
     "iopub.execute_input": "2021-07-25T20:53:28.091644Z",
     "iopub.status.busy": "2021-07-25T20:53:28.090807Z",
     "iopub.status.idle": "2021-07-25T20:53:28.096303Z",
     "shell.execute_reply": "2021-07-25T20:53:28.095302Z",
     "shell.execute_reply.started": "2021-07-25T19:33:42.901764Z"
    },
    "papermill": {
     "duration": 0.296582,
     "end_time": "2021-07-25T20:53:28.096476",
     "exception": false,
     "start_time": "2021-07-25T20:53:27.799894",
     "status": "completed"
    },
    "tags": []
   },
   "outputs": [
    {
     "name": "stdout",
     "output_type": "stream",
     "text": [
      "The accuracy of ANN on validation set is 97.36 %\n"
     ]
    }
   ],
   "source": [
    "accuracy = np.round(accuracy_score(yval,ypred),4)\n",
    "print(\"The accuracy of ANN on validation set is {} %\".format(accuracy*100))"
   ]
  },
  {
   "cell_type": "code",
   "execution_count": 38,
   "id": "5f1c0cdc",
   "metadata": {
    "execution": {
     "iopub.execute_input": "2021-07-25T20:53:28.727745Z",
     "iopub.status.busy": "2021-07-25T20:53:28.727069Z",
     "iopub.status.idle": "2021-07-25T20:53:29.758817Z",
     "shell.execute_reply": "2021-07-25T20:53:29.757475Z",
     "shell.execute_reply.started": "2021-07-25T19:33:42.909555Z"
    },
    "papermill": {
     "duration": 1.321339,
     "end_time": "2021-07-25T20:53:29.759010",
     "exception": false,
     "start_time": "2021-07-25T20:53:28.437671",
     "status": "completed"
    },
    "tags": []
   },
   "outputs": [],
   "source": [
    "ypred_t = model.predict(xtest)"
   ]
  },
  {
   "cell_type": "code",
   "execution_count": 39,
   "id": "cda2203c",
   "metadata": {
    "execution": {
     "iopub.execute_input": "2021-07-25T20:53:30.335629Z",
     "iopub.status.busy": "2021-07-25T20:53:30.334612Z",
     "iopub.status.idle": "2021-07-25T20:53:30.339486Z",
     "shell.execute_reply": "2021-07-25T20:53:30.339970Z",
     "shell.execute_reply.started": "2021-07-25T19:33:43.942344Z"
    },
    "papermill": {
     "duration": 0.294643,
     "end_time": "2021-07-25T20:53:30.340151",
     "exception": false,
     "start_time": "2021-07-25T20:53:30.045508",
     "status": "completed"
    },
    "tags": []
   },
   "outputs": [],
   "source": [
    "# select the indix with the maximum probability\n",
    "results = np.argmax(ypred_t,axis = 1)\n",
    "\n",
    "results = pd.Series(results,name=\"Label\")"
   ]
  },
  {
   "cell_type": "code",
   "execution_count": 40,
   "id": "10c6ccbb",
   "metadata": {
    "execution": {
     "iopub.execute_input": "2021-07-25T20:53:30.919229Z",
     "iopub.status.busy": "2021-07-25T20:53:30.917751Z",
     "iopub.status.idle": "2021-07-25T20:53:30.974553Z",
     "shell.execute_reply": "2021-07-25T20:53:30.973945Z",
     "shell.execute_reply.started": "2021-07-25T19:33:43.949987Z"
    },
    "papermill": {
     "duration": 0.35007,
     "end_time": "2021-07-25T20:53:30.974715",
     "exception": false,
     "start_time": "2021-07-25T20:53:30.624645",
     "status": "completed"
    },
    "tags": []
   },
   "outputs": [],
   "source": [
    "submission = pd.concat([pd.Series(range(1,28001),name = \"ImageId\"),results],axis = 1)\n",
    "\n",
    "submission.to_csv(\"dct_ann_mnist.csv\",index=False)"
   ]
  }
 ],
 "metadata": {
  "kernelspec": {
   "display_name": "Python 3",
   "language": "python",
   "name": "python3"
  },
  "language_info": {
   "codemirror_mode": {
    "name": "ipython",
    "version": 3
   },
   "file_extension": ".py",
   "mimetype": "text/x-python",
   "name": "python",
   "nbconvert_exporter": "python",
   "pygments_lexer": "ipython3",
   "version": "3.7.10"
  },
  "papermill": {
   "default_parameters": {},
   "duration": 110.964047,
   "end_time": "2021-07-25T20:53:33.665468",
   "environment_variables": {},
   "exception": null,
   "input_path": "__notebook__.ipynb",
   "output_path": "__notebook__.ipynb",
   "parameters": {},
   "start_time": "2021-07-25T20:51:42.701421",
   "version": "2.3.3"
  }
 },
 "nbformat": 4,
 "nbformat_minor": 5
}
