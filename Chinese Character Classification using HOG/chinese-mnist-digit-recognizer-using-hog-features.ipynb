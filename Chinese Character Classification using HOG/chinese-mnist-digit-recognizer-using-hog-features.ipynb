{
 "cells": [
  {
   "cell_type": "markdown",
   "id": "327bdaff",
   "metadata": {
    "_cell_guid": "b1076dfc-b9ad-4769-8c92-a6c4dae69d19",
    "_uuid": "8f2839f25d086af736a60e9eeb907d3b93b6e0e5",
    "execution": {
     "iopub.execute_input": "2021-07-29T20:50:36.450873Z",
     "iopub.status.busy": "2021-07-29T20:50:36.450523Z",
     "iopub.status.idle": "2021-07-29T20:50:36.462721Z",
     "shell.execute_reply": "2021-07-29T20:50:36.461437Z",
     "shell.execute_reply.started": "2021-07-29T20:50:36.450842Z"
    },
    "papermill": {
     "duration": 0.031079,
     "end_time": "2021-07-29T23:42:10.893773",
     "exception": false,
     "start_time": "2021-07-29T23:42:10.862694",
     "status": "completed"
    },
    "tags": []
   },
   "source": [
    "### Dataset Information\n",
    "\n",
    "The Chinese MNIST dataset consists of 15000 images, each representing one character from a set of 15 characters (grouped in samples, grouped in suites, with 10 samples/volunteer and 100 volunteers). \n",
    "\n",
    "The dataset contains the following:\n",
    "\n",
    "* an index file named chinese_mnist.csv\n",
    "* a folder with 15,000 jpg images, sized 64 x 64. \n",
    "\n",
    "The index file contains the following fields:  \n",
    "\n",
    "* suite_id - each suite corresponds to a set of handwritten samples by one volunteer,so in total we have 100 suits  \n",
    "* sample_id - Each sample contains a complete set of 15 characters for Chinese numbers.\n",
    "* code - Code used for each chinese character with values from 1 to 15.\n",
    "* value - The actual numerical value associated with the Chinese character for number.\n",
    "* character - The actual Chinese character.\n",
    "The files in the dataset are indexed using a file name by combining suite_id, sample_id and code. The pattern for each image is as follows:\n",
    "\n",
    "> \"input_{suite_id}_{sample_id}_{code}.jpg\"\n",
    "\n",
    "### Problem Statement\n",
    "Correctly classify the chinese characters from the dataset\n",
    "\n",
    "### Overview\n",
    "In this kernel, Histogram of Oriented Gradients (HOG) is used to extract features from Chinese characters. The HOG in this context not only helps in extracting robust and critical features of the characters but also reduces the overall dimension of features from 64 x 64 = 4096 to 54 x 54 = 2916 i.e. around 28 % reduction in the number of features. Following feature extraction using HOG, the transformed data is then fed to the ANN. An accuracy of around 91-92% is obtained on the test data which can be improved using hyperparameter optimization.\n",
    "\n",
    "### References\n",
    "N. Dalal and B. Triggs, \"Histograms of oriented gradients for human detection,\" 2005 IEEE Computer Society Conference on Computer Vision and Pattern Recognition (CVPR'05), 2005, pp. 886-893 vol. 1, doi: 10.1109/CVPR.2005.177.\n",
    "\n",
    "Please upvote if you like my work. Thank you!"
   ]
  },
  {
   "cell_type": "markdown",
   "id": "25a305da",
   "metadata": {
    "papermill": {
     "duration": 0.029408,
     "end_time": "2021-07-29T23:42:10.953992",
     "exception": false,
     "start_time": "2021-07-29T23:42:10.924584",
     "status": "completed"
    },
    "tags": []
   },
   "source": [
    "# **1. Importing Libraries**"
   ]
  },
  {
   "cell_type": "code",
   "execution_count": 1,
   "id": "1af945d1",
   "metadata": {
    "execution": {
     "iopub.execute_input": "2021-07-29T23:42:11.020393Z",
     "iopub.status.busy": "2021-07-29T23:42:11.018637Z",
     "iopub.status.idle": "2021-07-29T23:42:17.447420Z",
     "shell.execute_reply": "2021-07-29T23:42:17.446401Z",
     "shell.execute_reply.started": "2021-07-29T23:36:58.451944Z"
    },
    "papermill": {
     "duration": 6.46261,
     "end_time": "2021-07-29T23:42:17.447586",
     "exception": false,
     "start_time": "2021-07-29T23:42:10.984976",
     "status": "completed"
    },
    "tags": []
   },
   "outputs": [],
   "source": [
    "import os\n",
    "import numpy as np\n",
    "import pandas as pd\n",
    "import seaborn as sns\n",
    "import matplotlib.pyplot as plt\n",
    "import cv2\n",
    "from sklearn.preprocessing import LabelEncoder, OneHotEncoder\n",
    "import sklearn\n",
    "from skimage.feature import hog\n",
    "import skimage.io\n",
    "from sklearn.model_selection import train_test_split\n",
    "from sklearn.preprocessing import StandardScaler\n",
    "from sklearn.decomposition import PCA\n",
    "from scipy.sparse.linalg.eigen.arpack import eigsh as largest_eigsh\n",
    "from sklearn.metrics import confusion_matrix,classification_report,accuracy_score\n",
    "from tensorflow.keras.layers import Dense, Input, Conv1D,MaxPooling1D, GlobalMaxPooling1D, GaussianNoise, BatchNormalization,Flatten,Dropout\n",
    "from tensorflow.keras.models import Model,Sequential\n",
    "from tensorflow.keras.layers.experimental.preprocessing import Normalization\n",
    "from tensorflow.keras.callbacks import EarlyStopping\n",
    "from tensorflow.keras.layers import LeakyReLU\n",
    "from keras.utils.np_utils import to_categorical\n",
    "from tensorflow.keras.optimizers import RMSprop, Adam\n",
    "from sklearn.neural_network import MLPClassifier"
   ]
  },
  {
   "cell_type": "markdown",
   "id": "9cc77cc8",
   "metadata": {
    "papermill": {
     "duration": 0.029839,
     "end_time": "2021-07-29T23:42:17.508144",
     "exception": false,
     "start_time": "2021-07-29T23:42:17.478305",
     "status": "completed"
    },
    "tags": []
   },
   "source": [
    "# **2. Data Handling and Exploration**"
   ]
  },
  {
   "cell_type": "code",
   "execution_count": 2,
   "id": "cea6b90d",
   "metadata": {
    "execution": {
     "iopub.execute_input": "2021-07-29T23:42:17.571960Z",
     "iopub.status.busy": "2021-07-29T23:42:17.571403Z",
     "iopub.status.idle": "2021-07-29T23:42:17.584527Z",
     "shell.execute_reply": "2021-07-29T23:42:17.584989Z",
     "shell.execute_reply.started": "2021-07-29T23:36:58.836431Z"
    },
    "papermill": {
     "duration": 0.04704,
     "end_time": "2021-07-29T23:42:17.585122",
     "exception": false,
     "start_time": "2021-07-29T23:42:17.538082",
     "status": "completed"
    },
    "tags": []
   },
   "outputs": [
    {
     "data": {
      "text/plain": [
       "['chinese_mnist.csv', 'data', 'chinese_mnist.tfrecords']"
      ]
     },
     "execution_count": 2,
     "metadata": {},
     "output_type": "execute_result"
    }
   ],
   "source": [
    "#list the contents of the input directory\n",
    "os.listdir(\"../input/chinese-mnist\")"
   ]
  },
  {
   "cell_type": "code",
   "execution_count": 3,
   "id": "8421fbea",
   "metadata": {
    "execution": {
     "iopub.execute_input": "2021-07-29T23:42:17.649781Z",
     "iopub.status.busy": "2021-07-29T23:42:17.649164Z",
     "iopub.status.idle": "2021-07-29T23:42:17.673186Z",
     "shell.execute_reply": "2021-07-29T23:42:17.672619Z",
     "shell.execute_reply.started": "2021-07-29T23:36:59.043698Z"
    },
    "papermill": {
     "duration": 0.057543,
     "end_time": "2021-07-29T23:42:17.673299",
     "exception": false,
     "start_time": "2021-07-29T23:42:17.615756",
     "status": "completed"
    },
    "tags": []
   },
   "outputs": [],
   "source": [
    "#read the csv file\n",
    "data =pd.read_csv('../input/chinese-mnist/chinese_mnist.csv')"
   ]
  },
  {
   "cell_type": "code",
   "execution_count": 4,
   "id": "0506eb68",
   "metadata": {
    "execution": {
     "iopub.execute_input": "2021-07-29T23:42:17.755468Z",
     "iopub.status.busy": "2021-07-29T23:42:17.743515Z",
     "iopub.status.idle": "2021-07-29T23:42:17.759602Z",
     "shell.execute_reply": "2021-07-29T23:42:17.759115Z",
     "shell.execute_reply.started": "2021-07-29T23:36:59.245595Z"
    },
    "papermill": {
     "duration": 0.056214,
     "end_time": "2021-07-29T23:42:17.759725",
     "exception": false,
     "start_time": "2021-07-29T23:42:17.703511",
     "status": "completed"
    },
    "tags": []
   },
   "outputs": [
    {
     "name": "stdout",
     "output_type": "stream",
     "text": [
      "<class 'pandas.core.frame.DataFrame'>\n",
      "RangeIndex: 15000 entries, 0 to 14999\n",
      "Data columns (total 5 columns):\n",
      " #   Column     Non-Null Count  Dtype \n",
      "---  ------     --------------  ----- \n",
      " 0   suite_id   15000 non-null  int64 \n",
      " 1   sample_id  15000 non-null  int64 \n",
      " 2   code       15000 non-null  int64 \n",
      " 3   value      15000 non-null  int64 \n",
      " 4   character  15000 non-null  object\n",
      "dtypes: int64(4), object(1)\n",
      "memory usage: 586.1+ KB\n"
     ]
    }
   ],
   "source": [
    "data.info()"
   ]
  },
  {
   "cell_type": "code",
   "execution_count": 5,
   "id": "2e691230",
   "metadata": {
    "execution": {
     "iopub.execute_input": "2021-07-29T23:42:17.826027Z",
     "iopub.status.busy": "2021-07-29T23:42:17.825492Z",
     "iopub.status.idle": "2021-07-29T23:42:17.839536Z",
     "shell.execute_reply": "2021-07-29T23:42:17.839006Z",
     "shell.execute_reply.started": "2021-07-29T23:36:59.407975Z"
    },
    "papermill": {
     "duration": 0.048822,
     "end_time": "2021-07-29T23:42:17.839646",
     "exception": false,
     "start_time": "2021-07-29T23:42:17.790824",
     "status": "completed"
    },
    "tags": []
   },
   "outputs": [
    {
     "data": {
      "text/html": [
       "<div>\n",
       "<style scoped>\n",
       "    .dataframe tbody tr th:only-of-type {\n",
       "        vertical-align: middle;\n",
       "    }\n",
       "\n",
       "    .dataframe tbody tr th {\n",
       "        vertical-align: top;\n",
       "    }\n",
       "\n",
       "    .dataframe thead th {\n",
       "        text-align: right;\n",
       "    }\n",
       "</style>\n",
       "<table border=\"1\" class=\"dataframe\">\n",
       "  <thead>\n",
       "    <tr style=\"text-align: right;\">\n",
       "      <th></th>\n",
       "      <th>suite_id</th>\n",
       "      <th>sample_id</th>\n",
       "      <th>code</th>\n",
       "      <th>value</th>\n",
       "      <th>character</th>\n",
       "    </tr>\n",
       "  </thead>\n",
       "  <tbody>\n",
       "    <tr>\n",
       "      <th>2012</th>\n",
       "      <td>10</td>\n",
       "      <td>2</td>\n",
       "      <td>12</td>\n",
       "      <td>100</td>\n",
       "      <td>百</td>\n",
       "    </tr>\n",
       "    <tr>\n",
       "      <th>10433</th>\n",
       "      <td>48</td>\n",
       "      <td>3</td>\n",
       "      <td>5</td>\n",
       "      <td>4</td>\n",
       "      <td>四</td>\n",
       "    </tr>\n",
       "    <tr>\n",
       "      <th>419</th>\n",
       "      <td>46</td>\n",
       "      <td>9</td>\n",
       "      <td>10</td>\n",
       "      <td>9</td>\n",
       "      <td>九</td>\n",
       "    </tr>\n",
       "    <tr>\n",
       "      <th>11076</th>\n",
       "      <td>15</td>\n",
       "      <td>6</td>\n",
       "      <td>6</td>\n",
       "      <td>5</td>\n",
       "      <td>五</td>\n",
       "    </tr>\n",
       "    <tr>\n",
       "      <th>6</th>\n",
       "      <td>1</td>\n",
       "      <td>6</td>\n",
       "      <td>10</td>\n",
       "      <td>9</td>\n",
       "      <td>九</td>\n",
       "    </tr>\n",
       "  </tbody>\n",
       "</table>\n",
       "</div>"
      ],
      "text/plain": [
       "       suite_id  sample_id  code  value character\n",
       "2012         10          2    12    100         百\n",
       "10433        48          3     5      4         四\n",
       "419          46          9    10      9         九\n",
       "11076        15          6     6      5         五\n",
       "6             1          6    10      9         九"
      ]
     },
     "execution_count": 5,
     "metadata": {},
     "output_type": "execute_result"
    }
   ],
   "source": [
    "data.sample(1000).head() #randomly show the samples from the dataframe"
   ]
  },
  {
   "cell_type": "code",
   "execution_count": 6,
   "id": "859766de",
   "metadata": {
    "execution": {
     "iopub.execute_input": "2021-07-29T23:42:17.907095Z",
     "iopub.status.busy": "2021-07-29T23:42:17.906280Z",
     "iopub.status.idle": "2021-07-29T23:42:17.915923Z",
     "shell.execute_reply": "2021-07-29T23:42:17.916287Z",
     "shell.execute_reply.started": "2021-07-29T23:36:59.581261Z"
    },
    "papermill": {
     "duration": 0.046024,
     "end_time": "2021-07-29T23:42:17.916423",
     "exception": false,
     "start_time": "2021-07-29T23:42:17.870399",
     "status": "completed"
    },
    "tags": []
   },
   "outputs": [
    {
     "data": {
      "text/plain": [
       "value      character\n",
       "0          零            1000\n",
       "1          一            1000\n",
       "2          二            1000\n",
       "3          三            1000\n",
       "4          四            1000\n",
       "5          五            1000\n",
       "6          六            1000\n",
       "7          七            1000\n",
       "8          八            1000\n",
       "9          九            1000\n",
       "10         十            1000\n",
       "100        百            1000\n",
       "1000       千            1000\n",
       "10000      万            1000\n",
       "100000000  亿            1000\n",
       "dtype: int64"
      ]
     },
     "execution_count": 6,
     "metadata": {},
     "output_type": "execute_result"
    }
   ],
   "source": [
    "data.groupby([\"value\",\"character\"]).size()"
   ]
  },
  {
   "cell_type": "markdown",
   "id": "b824bcd8",
   "metadata": {
    "papermill": {
     "duration": 0.03093,
     "end_time": "2021-07-29T23:42:17.978340",
     "exception": false,
     "start_time": "2021-07-29T23:42:17.947410",
     "status": "completed"
    },
    "tags": []
   },
   "source": [
    "There are 1000 images per characters, which means that the dataset is balanced."
   ]
  },
  {
   "cell_type": "code",
   "execution_count": 7,
   "id": "3faceb90",
   "metadata": {
    "execution": {
     "iopub.execute_input": "2021-07-29T23:42:18.046141Z",
     "iopub.status.busy": "2021-07-29T23:42:18.045369Z",
     "iopub.status.idle": "2021-07-29T23:42:18.048072Z",
     "shell.execute_reply": "2021-07-29T23:42:18.047611Z",
     "shell.execute_reply.started": "2021-07-29T23:37:00.638269Z"
    },
    "papermill": {
     "duration": 0.038728,
     "end_time": "2021-07-29T23:42:18.048180",
     "exception": false,
     "start_time": "2021-07-29T23:42:18.009452",
     "status": "completed"
    },
    "tags": []
   },
   "outputs": [],
   "source": [
    "#function to identify missing data\n",
    "def missing_data(data):\n",
    "    null_total = data.isnull().sum().sort_values(ascending = False)\n",
    "    null_percent = (data.isnull().sum()/data.isnull().count()*100).sort_values(ascending = False)\n",
    "    data_miss = pd.concat([null_total, null_percent], axis=1, keys=['Total', 'Percent'])\n",
    "    return data_miss"
   ]
  },
  {
   "cell_type": "code",
   "execution_count": 8,
   "id": "b435d170",
   "metadata": {
    "execution": {
     "iopub.execute_input": "2021-07-29T23:42:18.116999Z",
     "iopub.status.busy": "2021-07-29T23:42:18.116235Z",
     "iopub.status.idle": "2021-07-29T23:42:18.143035Z",
     "shell.execute_reply": "2021-07-29T23:42:18.142606Z",
     "shell.execute_reply.started": "2021-07-29T23:37:02.524774Z"
    },
    "papermill": {
     "duration": 0.064015,
     "end_time": "2021-07-29T23:42:18.143154",
     "exception": false,
     "start_time": "2021-07-29T23:42:18.079139",
     "status": "completed"
    },
    "tags": []
   },
   "outputs": [
    {
     "data": {
      "text/html": [
       "<div>\n",
       "<style scoped>\n",
       "    .dataframe tbody tr th:only-of-type {\n",
       "        vertical-align: middle;\n",
       "    }\n",
       "\n",
       "    .dataframe tbody tr th {\n",
       "        vertical-align: top;\n",
       "    }\n",
       "\n",
       "    .dataframe thead th {\n",
       "        text-align: right;\n",
       "    }\n",
       "</style>\n",
       "<table border=\"1\" class=\"dataframe\">\n",
       "  <thead>\n",
       "    <tr style=\"text-align: right;\">\n",
       "      <th></th>\n",
       "      <th>Total</th>\n",
       "      <th>Percent</th>\n",
       "    </tr>\n",
       "  </thead>\n",
       "  <tbody>\n",
       "    <tr>\n",
       "      <th>suite_id</th>\n",
       "      <td>0</td>\n",
       "      <td>0.0</td>\n",
       "    </tr>\n",
       "    <tr>\n",
       "      <th>sample_id</th>\n",
       "      <td>0</td>\n",
       "      <td>0.0</td>\n",
       "    </tr>\n",
       "    <tr>\n",
       "      <th>code</th>\n",
       "      <td>0</td>\n",
       "      <td>0.0</td>\n",
       "    </tr>\n",
       "    <tr>\n",
       "      <th>value</th>\n",
       "      <td>0</td>\n",
       "      <td>0.0</td>\n",
       "    </tr>\n",
       "    <tr>\n",
       "      <th>character</th>\n",
       "      <td>0</td>\n",
       "      <td>0.0</td>\n",
       "    </tr>\n",
       "  </tbody>\n",
       "</table>\n",
       "</div>"
      ],
      "text/plain": [
       "           Total  Percent\n",
       "suite_id       0      0.0\n",
       "sample_id      0      0.0\n",
       "code           0      0.0\n",
       "value          0      0.0\n",
       "character      0      0.0"
      ]
     },
     "execution_count": 8,
     "metadata": {},
     "output_type": "execute_result"
    }
   ],
   "source": [
    "missing_data(data)"
   ]
  },
  {
   "cell_type": "markdown",
   "id": "bc6496ca",
   "metadata": {
    "papermill": {
     "duration": 0.030959,
     "end_time": "2021-07-29T23:42:18.206322",
     "exception": false,
     "start_time": "2021-07-29T23:42:18.175363",
     "status": "completed"
    },
    "tags": []
   },
   "source": [
    "There are no missing values in our dataset."
   ]
  },
  {
   "cell_type": "code",
   "execution_count": 9,
   "id": "7f41331e",
   "metadata": {
    "execution": {
     "iopub.execute_input": "2021-07-29T23:42:18.272433Z",
     "iopub.status.busy": "2021-07-29T23:42:18.271924Z",
     "iopub.status.idle": "2021-07-29T23:42:18.708576Z",
     "shell.execute_reply": "2021-07-29T23:42:18.708150Z",
     "shell.execute_reply.started": "2021-07-29T23:37:05.250165Z"
    },
    "papermill": {
     "duration": 0.471333,
     "end_time": "2021-07-29T23:42:18.708700",
     "exception": false,
     "start_time": "2021-07-29T23:42:18.237367",
     "status": "completed"
    },
    "tags": []
   },
   "outputs": [
    {
     "name": "stdout",
     "output_type": "stream",
     "text": [
      "Number of image files: 15000\n"
     ]
    }
   ],
   "source": [
    "image_files = list(os.listdir(\"../input/chinese-mnist/data/data\"))\n",
    "print(\"Number of image files: {}\".format(len(image_files)))"
   ]
  },
  {
   "cell_type": "code",
   "execution_count": 10,
   "id": "756cdb4a",
   "metadata": {
    "execution": {
     "iopub.execute_input": "2021-07-29T23:42:18.777386Z",
     "iopub.status.busy": "2021-07-29T23:42:18.776601Z",
     "iopub.status.idle": "2021-07-29T23:42:18.779481Z",
     "shell.execute_reply": "2021-07-29T23:42:18.779032Z",
     "shell.execute_reply.started": "2021-07-29T23:37:05.574753Z"
    },
    "papermill": {
     "duration": 0.038757,
     "end_time": "2021-07-29T23:42:18.779589",
     "exception": false,
     "start_time": "2021-07-29T23:42:18.740832",
     "status": "completed"
    },
    "tags": []
   },
   "outputs": [],
   "source": [
    "#function to create file name for each image in the input directory\n",
    "def create_image_file_name(x):\n",
    "    file_name = f\"input_{x[0]}_{x[1]}_{x[2]}.jpg\"\n",
    "    return file_name"
   ]
  },
  {
   "cell_type": "code",
   "execution_count": 11,
   "id": "01ab46f4",
   "metadata": {
    "execution": {
     "iopub.execute_input": "2021-07-29T23:42:18.846651Z",
     "iopub.status.busy": "2021-07-29T23:42:18.846038Z",
     "iopub.status.idle": "2021-07-29T23:42:19.060472Z",
     "shell.execute_reply": "2021-07-29T23:42:19.060018Z",
     "shell.execute_reply.started": "2021-07-29T23:37:07.508753Z"
    },
    "papermill": {
     "duration": 0.249561,
     "end_time": "2021-07-29T23:42:19.060599",
     "exception": false,
     "start_time": "2021-07-29T23:42:18.811038",
     "status": "completed"
    },
    "tags": []
   },
   "outputs": [],
   "source": [
    "data[\"image_file\"] = data.apply(create_image_file_name, axis=1) #append column for file names to original data"
   ]
  },
  {
   "cell_type": "code",
   "execution_count": 12,
   "id": "cb1b08d4",
   "metadata": {
    "execution": {
     "iopub.execute_input": "2021-07-29T23:42:19.128393Z",
     "iopub.status.busy": "2021-07-29T23:42:19.127572Z",
     "iopub.status.idle": "2021-07-29T23:42:19.130253Z",
     "shell.execute_reply": "2021-07-29T23:42:19.129846Z",
     "shell.execute_reply.started": "2021-07-29T23:37:07.904406Z"
    },
    "papermill": {
     "duration": 0.037986,
     "end_time": "2021-07-29T23:42:19.130362",
     "exception": false,
     "start_time": "2021-07-29T23:42:19.092376",
     "status": "completed"
    },
    "tags": []
   },
   "outputs": [],
   "source": [
    "#function to get image size\n",
    "def image_sizes(file_name):\n",
    "    image = skimage.io.imread(\"../input/chinese-mnist/data/data/\" + file_name)\n",
    "    return list(image.shape)"
   ]
  },
  {
   "cell_type": "code",
   "execution_count": 13,
   "id": "710d49de",
   "metadata": {
    "execution": {
     "iopub.execute_input": "2021-07-29T23:42:19.199749Z",
     "iopub.status.busy": "2021-07-29T23:42:19.199242Z",
     "iopub.status.idle": "2021-07-29T23:43:52.862160Z",
     "shell.execute_reply": "2021-07-29T23:43:52.862967Z",
     "shell.execute_reply.started": "2021-07-29T23:37:08.316703Z"
    },
    "papermill": {
     "duration": 93.701201,
     "end_time": "2021-07-29T23:43:52.863303",
     "exception": false,
     "start_time": "2021-07-29T23:42:19.162102",
     "status": "completed"
    },
    "tags": []
   },
   "outputs": [
    {
     "data": {
      "text/html": [
       "<div>\n",
       "<style scoped>\n",
       "    .dataframe tbody tr th:only-of-type {\n",
       "        vertical-align: middle;\n",
       "    }\n",
       "\n",
       "    .dataframe tbody tr th {\n",
       "        vertical-align: top;\n",
       "    }\n",
       "\n",
       "    .dataframe thead th {\n",
       "        text-align: right;\n",
       "    }\n",
       "</style>\n",
       "<table border=\"1\" class=\"dataframe\">\n",
       "  <thead>\n",
       "    <tr style=\"text-align: right;\">\n",
       "      <th></th>\n",
       "      <th>suite_id</th>\n",
       "      <th>sample_id</th>\n",
       "      <th>code</th>\n",
       "      <th>value</th>\n",
       "      <th>character</th>\n",
       "      <th>image_file</th>\n",
       "      <th>w</th>\n",
       "      <th>h</th>\n",
       "    </tr>\n",
       "  </thead>\n",
       "  <tbody>\n",
       "    <tr>\n",
       "      <th>0</th>\n",
       "      <td>1</td>\n",
       "      <td>1</td>\n",
       "      <td>10</td>\n",
       "      <td>9</td>\n",
       "      <td>九</td>\n",
       "      <td>input_1_1_10.jpg</td>\n",
       "      <td>64</td>\n",
       "      <td>64</td>\n",
       "    </tr>\n",
       "    <tr>\n",
       "      <th>1</th>\n",
       "      <td>1</td>\n",
       "      <td>10</td>\n",
       "      <td>10</td>\n",
       "      <td>9</td>\n",
       "      <td>九</td>\n",
       "      <td>input_1_10_10.jpg</td>\n",
       "      <td>64</td>\n",
       "      <td>64</td>\n",
       "    </tr>\n",
       "    <tr>\n",
       "      <th>2</th>\n",
       "      <td>1</td>\n",
       "      <td>2</td>\n",
       "      <td>10</td>\n",
       "      <td>9</td>\n",
       "      <td>九</td>\n",
       "      <td>input_1_2_10.jpg</td>\n",
       "      <td>64</td>\n",
       "      <td>64</td>\n",
       "    </tr>\n",
       "    <tr>\n",
       "      <th>3</th>\n",
       "      <td>1</td>\n",
       "      <td>3</td>\n",
       "      <td>10</td>\n",
       "      <td>9</td>\n",
       "      <td>九</td>\n",
       "      <td>input_1_3_10.jpg</td>\n",
       "      <td>64</td>\n",
       "      <td>64</td>\n",
       "    </tr>\n",
       "    <tr>\n",
       "      <th>4</th>\n",
       "      <td>1</td>\n",
       "      <td>4</td>\n",
       "      <td>10</td>\n",
       "      <td>9</td>\n",
       "      <td>九</td>\n",
       "      <td>input_1_4_10.jpg</td>\n",
       "      <td>64</td>\n",
       "      <td>64</td>\n",
       "    </tr>\n",
       "  </tbody>\n",
       "</table>\n",
       "</div>"
      ],
      "text/plain": [
       "   suite_id  sample_id  code  value character         image_file   w   h\n",
       "0         1          1    10      9         九   input_1_1_10.jpg  64  64\n",
       "1         1         10    10      9         九  input_1_10_10.jpg  64  64\n",
       "2         1          2    10      9         九   input_1_2_10.jpg  64  64\n",
       "3         1          3    10      9         九   input_1_3_10.jpg  64  64\n",
       "4         1          4    10      9         九   input_1_4_10.jpg  64  64"
      ]
     },
     "execution_count": 13,
     "metadata": {},
     "output_type": "execute_result"
    }
   ],
   "source": [
    "image_size = np.stack(data['image_file'].apply(image_sizes))\n",
    "image_size_df = pd.DataFrame(image_size,columns=['w','h'])\n",
    "data = pd.concat([data,image_size_df],axis=1, sort=False)\n",
    "data.head() #data after adding new columns "
   ]
  },
  {
   "cell_type": "code",
   "execution_count": 14,
   "id": "e3835136",
   "metadata": {
    "execution": {
     "iopub.execute_input": "2021-07-29T23:43:53.011210Z",
     "iopub.status.busy": "2021-07-29T23:43:53.008309Z",
     "iopub.status.idle": "2021-07-29T23:43:53.021742Z",
     "shell.execute_reply": "2021-07-29T23:43:53.022272Z",
     "shell.execute_reply.started": "2021-07-29T23:37:21.913181Z"
    },
    "papermill": {
     "duration": 0.093403,
     "end_time": "2021-07-29T23:43:53.022423",
     "exception": false,
     "start_time": "2021-07-29T23:43:52.929020",
     "status": "completed"
    },
    "tags": []
   },
   "outputs": [
    {
     "name": "stdout",
     "output_type": "stream",
     "text": [
      "There are 15000 matching image names\n"
     ]
    }
   ],
   "source": [
    "file_names = list(data['image_file'])\n",
    "print(\"There are {} matching image names\".format(len(set(file_names).intersection(image_files))))"
   ]
  },
  {
   "cell_type": "code",
   "execution_count": 15,
   "id": "f84795ba",
   "metadata": {
    "execution": {
     "iopub.execute_input": "2021-07-29T23:43:53.151832Z",
     "iopub.status.busy": "2021-07-29T23:43:53.150644Z",
     "iopub.status.idle": "2021-07-29T23:43:53.169418Z",
     "shell.execute_reply": "2021-07-29T23:43:53.170104Z",
     "shell.execute_reply.started": "2021-07-29T23:37:21.926833Z"
    },
    "papermill": {
     "duration": 0.083868,
     "end_time": "2021-07-29T23:43:53.170326",
     "exception": false,
     "start_time": "2021-07-29T23:43:53.086458",
     "status": "completed"
    },
    "tags": []
   },
   "outputs": [
    {
     "name": "stdout",
     "output_type": "stream",
     "text": [
      "There are 0 duplicate rows present in the dataset\n"
     ]
    }
   ],
   "source": [
    "num_duplicates = data.duplicated().sum() #identify duplicates\n",
    "print('There are {} duplicate rows present in the dataset'.format(num_duplicates))"
   ]
  },
  {
   "cell_type": "code",
   "execution_count": 16,
   "id": "4b554214",
   "metadata": {
    "execution": {
     "iopub.execute_input": "2021-07-29T23:43:53.294822Z",
     "iopub.status.busy": "2021-07-29T23:43:53.293866Z",
     "iopub.status.idle": "2021-07-29T23:43:53.297921Z",
     "shell.execute_reply": "2021-07-29T23:43:53.298492Z",
     "shell.execute_reply.started": "2021-07-29T23:37:21.947436Z"
    },
    "papermill": {
     "duration": 0.072238,
     "end_time": "2021-07-29T23:43:53.298666",
     "exception": false,
     "start_time": "2021-07-29T23:43:53.226428",
     "status": "completed"
    },
    "tags": []
   },
   "outputs": [
    {
     "name": "stdout",
     "output_type": "stream",
     "text": [
      "Number of suites in the dataset: 100\n",
      "Unique samples in the dataset: [1, 2, 3, 4, 5, 6, 7, 8, 9, 10]\n"
     ]
    }
   ],
   "source": [
    "#creating dataset\n",
    "print(\"Number of suites in the dataset: {}\".format(data.suite_id.nunique()))\n",
    "print(\"Unique samples in the dataset: {}\".format(sorted(data.sample_id.unique())))"
   ]
  },
  {
   "cell_type": "code",
   "execution_count": 17,
   "id": "0bbf23aa",
   "metadata": {
    "execution": {
     "iopub.execute_input": "2021-07-29T23:43:53.379634Z",
     "iopub.status.busy": "2021-07-29T23:43:53.378686Z",
     "iopub.status.idle": "2021-07-29T23:43:53.382818Z",
     "shell.execute_reply": "2021-07-29T23:43:53.383525Z",
     "shell.execute_reply.started": "2021-07-29T23:37:21.956310Z"
    },
    "papermill": {
     "duration": 0.048787,
     "end_time": "2021-07-29T23:43:53.383737",
     "exception": false,
     "start_time": "2021-07-29T23:43:53.334950",
     "status": "completed"
    },
    "tags": []
   },
   "outputs": [
    {
     "name": "stdout",
     "output_type": "stream",
     "text": [
      "Unique character values: [0, 1, 2, 3, 4, 5, 6, 7, 8, 9, 10, 100, 1000, 10000, 100000000]\n"
     ]
    }
   ],
   "source": [
    "char_value=sorted(data['value'].unique())\n",
    "print(\"Unique character values: {}\".format(char_value))"
   ]
  },
  {
   "cell_type": "code",
   "execution_count": 18,
   "id": "7a5fcf8f",
   "metadata": {
    "execution": {
     "iopub.execute_input": "2021-07-29T23:43:53.461385Z",
     "iopub.status.busy": "2021-07-29T23:43:53.460682Z",
     "iopub.status.idle": "2021-07-29T23:43:53.464773Z",
     "shell.execute_reply": "2021-07-29T23:43:53.465529Z",
     "shell.execute_reply.started": "2021-07-29T23:37:21.965117Z"
    },
    "papermill": {
     "duration": 0.044522,
     "end_time": "2021-07-29T23:43:53.465719",
     "exception": false,
     "start_time": "2021-07-29T23:43:53.421197",
     "status": "completed"
    },
    "tags": []
   },
   "outputs": [],
   "source": [
    "#create a function to read images\n",
    "def read_image(image_file_name):\n",
    "    image = skimage.io.imread(\"../input/chinese-mnist/data/data/\" + image_file_name)\n",
    "    return image"
   ]
  },
  {
   "cell_type": "code",
   "execution_count": 19,
   "id": "065b5ba7",
   "metadata": {
    "execution": {
     "iopub.execute_input": "2021-07-29T23:43:53.549790Z",
     "iopub.status.busy": "2021-07-29T23:43:53.548893Z",
     "iopub.status.idle": "2021-07-29T23:44:10.591529Z",
     "shell.execute_reply": "2021-07-29T23:44:10.591049Z",
     "shell.execute_reply.started": "2021-07-29T23:37:21.972648Z"
    },
    "papermill": {
     "duration": 17.084282,
     "end_time": "2021-07-29T23:44:10.591667",
     "exception": false,
     "start_time": "2021-07-29T23:43:53.507385",
     "status": "completed"
    },
    "tags": []
   },
   "outputs": [],
   "source": [
    "# get images and labels\n",
    "X = np.stack(data['image_file'].apply(read_image)) #image data\n",
    "y = data['value'].to_numpy() #target_labels"
   ]
  },
  {
   "cell_type": "code",
   "execution_count": 20,
   "id": "d11d1350",
   "metadata": {
    "execution": {
     "iopub.execute_input": "2021-07-29T23:44:10.662680Z",
     "iopub.status.busy": "2021-07-29T23:44:10.661872Z",
     "iopub.status.idle": "2021-07-29T23:44:10.664694Z",
     "shell.execute_reply": "2021-07-29T23:44:10.664307Z",
     "shell.execute_reply.started": "2021-07-29T23:37:31.976563Z"
    },
    "papermill": {
     "duration": 0.039762,
     "end_time": "2021-07-29T23:44:10.664833",
     "exception": false,
     "start_time": "2021-07-29T23:44:10.625071",
     "status": "completed"
    },
    "tags": []
   },
   "outputs": [],
   "source": [
    "#encoding our labels\n",
    "le = LabelEncoder()\n",
    "y_enc = le.fit_transform(y)"
   ]
  },
  {
   "cell_type": "code",
   "execution_count": 21,
   "id": "05f651d9",
   "metadata": {
    "execution": {
     "iopub.execute_input": "2021-07-29T23:44:10.734933Z",
     "iopub.status.busy": "2021-07-29T23:44:10.733726Z",
     "iopub.status.idle": "2021-07-29T23:44:10.738503Z",
     "shell.execute_reply": "2021-07-29T23:44:10.738876Z",
     "shell.execute_reply.started": "2021-07-29T23:37:31.983432Z"
    },
    "papermill": {
     "duration": 0.041428,
     "end_time": "2021-07-29T23:44:10.739004",
     "exception": false,
     "start_time": "2021-07-29T23:44:10.697576",
     "status": "completed"
    },
    "tags": []
   },
   "outputs": [
    {
     "data": {
      "text/plain": [
       "array([        0,         1,         2,         3,         4,         5,\n",
       "               6,         7,         8,         9,        10,       100,\n",
       "            1000,     10000, 100000000])"
      ]
     },
     "execution_count": 21,
     "metadata": {},
     "output_type": "execute_result"
    }
   ],
   "source": [
    "np.unique(y)"
   ]
  },
  {
   "cell_type": "code",
   "execution_count": 22,
   "id": "561f287d",
   "metadata": {
    "execution": {
     "iopub.execute_input": "2021-07-29T23:44:10.809620Z",
     "iopub.status.busy": "2021-07-29T23:44:10.808389Z",
     "iopub.status.idle": "2021-07-29T23:44:10.813286Z",
     "shell.execute_reply": "2021-07-29T23:44:10.812900Z",
     "shell.execute_reply.started": "2021-07-29T23:37:31.995705Z"
    },
    "papermill": {
     "duration": 0.041229,
     "end_time": "2021-07-29T23:44:10.813390",
     "exception": false,
     "start_time": "2021-07-29T23:44:10.772161",
     "status": "completed"
    },
    "tags": []
   },
   "outputs": [
    {
     "data": {
      "text/plain": [
       "array([ 0,  1,  2,  3,  4,  5,  6,  7,  8,  9, 10, 11, 12, 13, 14])"
      ]
     },
     "execution_count": 22,
     "metadata": {},
     "output_type": "execute_result"
    }
   ],
   "source": [
    "np.unique(y_enc)"
   ]
  },
  {
   "cell_type": "code",
   "execution_count": 23,
   "id": "61abec91",
   "metadata": {
    "execution": {
     "iopub.execute_input": "2021-07-29T23:44:10.889562Z",
     "iopub.status.busy": "2021-07-29T23:44:10.888782Z",
     "iopub.status.idle": "2021-07-29T23:44:10.892664Z",
     "shell.execute_reply": "2021-07-29T23:44:10.893044Z",
     "shell.execute_reply.started": "2021-07-29T23:37:32.005332Z"
    },
    "papermill": {
     "duration": 0.046595,
     "end_time": "2021-07-29T23:44:10.893171",
     "exception": false,
     "start_time": "2021-07-29T23:44:10.846576",
     "status": "completed"
    },
    "tags": []
   },
   "outputs": [
    {
     "name": "stdout",
     "output_type": "stream",
     "text": [
      "---------- Overview of the Dataset ----------\n",
      "Size of each image: 64 x 64\n",
      "Number of pixels in each image: 4096\n",
      "Number of classes: 15\n",
      "Total number of images: 15000\n"
     ]
    }
   ],
   "source": [
    "#Overview of the dataset\n",
    "num_pixels = X.shape[1]**2\n",
    "img_dim = np.sqrt(num_pixels).astype(int)\n",
    "num_classes = len(set(y))\n",
    "num_samples = len(X)\n",
    "print(10*\"-\",\"Overview of the Dataset\",10*\"-\")\n",
    "print(\"Size of each image: {} x {}\".format(img_dim,img_dim))\n",
    "print(\"Number of pixels in each image:\",num_pixels)\n",
    "print(\"Number of classes:\",num_classes)\n",
    "print(\"Total number of images:\",num_samples)\n"
   ]
  },
  {
   "cell_type": "code",
   "execution_count": 24,
   "id": "b23d725b",
   "metadata": {
    "execution": {
     "iopub.execute_input": "2021-07-29T23:44:10.966542Z",
     "iopub.status.busy": "2021-07-29T23:44:10.965629Z",
     "iopub.status.idle": "2021-07-29T23:44:11.117252Z",
     "shell.execute_reply": "2021-07-29T23:44:11.116791Z",
     "shell.execute_reply.started": "2021-07-29T23:37:32.023004Z"
    },
    "papermill": {
     "duration": 0.190226,
     "end_time": "2021-07-29T23:44:11.117383",
     "exception": false,
     "start_time": "2021-07-29T23:44:10.927157",
     "status": "completed"
    },
    "tags": []
   },
   "outputs": [],
   "source": [
    "#Perform normalization\n",
    "X = X/255.0 #perform normalization to reduce illumination differences"
   ]
  },
  {
   "cell_type": "code",
   "execution_count": 25,
   "id": "7e1c4daf",
   "metadata": {
    "execution": {
     "iopub.execute_input": "2021-07-29T23:44:11.211476Z",
     "iopub.status.busy": "2021-07-29T23:44:11.210670Z",
     "iopub.status.idle": "2021-07-29T23:44:11.851397Z",
     "shell.execute_reply": "2021-07-29T23:44:11.850912Z",
     "shell.execute_reply.started": "2021-07-29T23:37:32.188530Z"
    },
    "papermill": {
     "duration": 0.699634,
     "end_time": "2021-07-29T23:44:11.851514",
     "exception": false,
     "start_time": "2021-07-29T23:44:11.151880",
     "status": "completed"
    },
    "tags": []
   },
   "outputs": [
    {
     "data": {
      "image/png": "[encoded data removed]",
      "text/plain": [
       "<Figure size 1440x432 with 15 Axes>"
      ]
     },
     "metadata": {
      "needs_background": "light"
     },
     "output_type": "display_data"
    }
   ],
   "source": [
    "#Plotting images for each sign\n",
    "plt.figure(figsize=(20,6))\n",
    "\n",
    "for i,j in enumerate([6000,7000,8000,9000,10000,11000,12000,13000,14000,0,1000,2000,3000,4000,5000]):\n",
    "    plt.subplot(3,5,i+1)\n",
    "    plt.subplots_adjust(top = 2, bottom = 1)\n",
    "    img = X[j]\n",
    "    plt.imshow(img,cmap = 'gray')\n",
    "    plt.title(y[j])\n",
    "    plt.axis('off')\n",
    "plt.suptitle('Images from the dataset',fontsize = 20)\n",
    "plt.show()"
   ]
  },
  {
   "cell_type": "markdown",
   "id": "d09c447f",
   "metadata": {
    "execution": {
     "iopub.execute_input": "2021-07-29T21:11:55.001701Z",
     "iopub.status.busy": "2021-07-29T21:11:55.001388Z",
     "iopub.status.idle": "2021-07-29T21:11:55.005317Z",
     "shell.execute_reply": "2021-07-29T21:11:55.004302Z",
     "shell.execute_reply.started": "2021-07-29T21:11:55.001671Z"
    },
    "papermill": {
     "duration": 0.036021,
     "end_time": "2021-07-29T23:44:11.924099",
     "exception": false,
     "start_time": "2021-07-29T23:44:11.888078",
     "status": "completed"
    },
    "tags": []
   },
   "source": [
    "# **4. HOG for feature extraction and dimension reduction**"
   ]
  },
  {
   "cell_type": "markdown",
   "id": "e29fb0d7",
   "metadata": {
    "papermill": {
     "duration": 0.035686,
     "end_time": "2021-07-29T23:44:11.996337",
     "exception": false,
     "start_time": "2021-07-29T23:44:11.960651",
     "status": "completed"
    },
    "tags": []
   },
   "source": [
    "Histogram of Oriented Gradients (HOG) is a feature descriptor that helps us finding the explicit and robust local features of an image. A feature descriptor is a representation of an image or an image patch that is a simplified version obtained by extracting useful information and throwing away extraneous information from the original image. In the HOG feature descriptor, the distribution (histograms) of directions of gradients (oriented gradients) are used as features. Gradients (x and y derivatives) of an image are useful because the magnitude of gradients is large around edges/corners which contain abrupt changes in intensity which contains lot of information regarding the object shape as compared to flatter regions. In HOG,feature extraction is performed by first dividng the complete image into smaller regions and calculating the gradients and orientation for each of these regions. This is followed by normalization over blocks of cells to reduce lighting variation since gradients of image are sensitive to overall lighting. \n"
   ]
  },
  {
   "cell_type": "code",
   "execution_count": 26,
   "id": "b519fa29",
   "metadata": {
    "execution": {
     "iopub.execute_input": "2021-07-29T23:44:12.074568Z",
     "iopub.status.busy": "2021-07-29T23:44:12.073674Z",
     "iopub.status.idle": "2021-07-29T23:44:12.076287Z",
     "shell.execute_reply": "2021-07-29T23:44:12.075892Z",
     "shell.execute_reply.started": "2021-07-29T23:37:36.562350Z"
    },
    "papermill": {
     "duration": 0.04421,
     "end_time": "2021-07-29T23:44:12.076400",
     "exception": false,
     "start_time": "2021-07-29T23:44:12.032190",
     "status": "completed"
    },
    "tags": []
   },
   "outputs": [],
   "source": [
    "# function to extract HOG features \n",
    "def HOG_features(data):\n",
    "    sample_size = data.shape[0]\n",
    "    hog_features = []\n",
    "    for i in range(sample_size):\n",
    "        image = data[i]\n",
    "        feature = hog(image, orientations=9, pixels_per_cell=(8, 8), cells_per_block=(3, 3))\n",
    "        hog_features.append(feature)\n",
    "    return np.array(hog_features)"
   ]
  },
  {
   "cell_type": "markdown",
   "id": "fe6eaa67",
   "metadata": {
    "papermill": {
     "duration": 0.036018,
     "end_time": "2021-07-29T23:44:12.148745",
     "exception": false,
     "start_time": "2021-07-29T23:44:12.112727",
     "status": "completed"
    },
    "tags": []
   },
   "source": [
    "* **orientations** refers to the number of bins for the histogram.\n",
    "* **pixels_per_cell** refers the patch size or size of the cell for which we create the histograms. \n",
    "* **cells_per_block** refers to the size of the block over which we normalize the histogram and is represented in number of cells included in each block."
   ]
  },
  {
   "cell_type": "code",
   "execution_count": 27,
   "id": "7428230c",
   "metadata": {
    "execution": {
     "iopub.execute_input": "2021-07-29T23:44:12.225156Z",
     "iopub.status.busy": "2021-07-29T23:44:12.224366Z",
     "iopub.status.idle": "2021-07-29T23:44:35.239472Z",
     "shell.execute_reply": "2021-07-29T23:44:35.238885Z",
     "shell.execute_reply.started": "2021-07-29T23:37:37.312108Z"
    },
    "papermill": {
     "duration": 23.054947,
     "end_time": "2021-07-29T23:44:35.239609",
     "exception": false,
     "start_time": "2021-07-29T23:44:12.184662",
     "status": "completed"
    },
    "tags": []
   },
   "outputs": [],
   "source": [
    "#Extract hog features\n",
    "X_hog = HOG_features(X)"
   ]
  },
  {
   "cell_type": "code",
   "execution_count": 28,
   "id": "e38c9741",
   "metadata": {
    "execution": {
     "iopub.execute_input": "2021-07-29T23:44:35.317927Z",
     "iopub.status.busy": "2021-07-29T23:44:35.317158Z",
     "iopub.status.idle": "2021-07-29T23:44:35.319978Z",
     "shell.execute_reply": "2021-07-29T23:44:35.319519Z",
     "shell.execute_reply.started": "2021-07-29T23:40:51.341499Z"
    },
    "papermill": {
     "duration": 0.043764,
     "end_time": "2021-07-29T23:44:35.320098",
     "exception": false,
     "start_time": "2021-07-29T23:44:35.276334",
     "status": "completed"
    },
    "tags": []
   },
   "outputs": [],
   "source": [
    "dim = np.sqrt(X_hog.shape[1]).astype(int)\n",
    "hog_images = X_hog.reshape(-1,dim,dim)\n",
    "perc_red = np.round((1- X_hog.shape[1]/num_pixels)*100,2)"
   ]
  },
  {
   "cell_type": "code",
   "execution_count": 29,
   "id": "271ffae6",
   "metadata": {
    "execution": {
     "iopub.execute_input": "2021-07-29T23:44:35.396866Z",
     "iopub.status.busy": "2021-07-29T23:44:35.396189Z",
     "iopub.status.idle": "2021-07-29T23:44:35.399143Z",
     "shell.execute_reply": "2021-07-29T23:44:35.399856Z",
     "shell.execute_reply.started": "2021-07-29T23:40:54.347052Z"
    },
    "papermill": {
     "duration": 0.043905,
     "end_time": "2021-07-29T23:44:35.400047",
     "exception": false,
     "start_time": "2021-07-29T23:44:35.356142",
     "status": "completed"
    },
    "tags": []
   },
   "outputs": [
    {
     "name": "stdout",
     "output_type": "stream",
     "text": [
      "The percentage reduction in size of the features is: 28.81 %\n"
     ]
    }
   ],
   "source": [
    "print('The percentage reduction in size of the features is: {} %'.format(perc_red))"
   ]
  },
  {
   "cell_type": "code",
   "execution_count": 30,
   "id": "e9fbd197",
   "metadata": {
    "execution": {
     "iopub.execute_input": "2021-07-29T23:44:35.499043Z",
     "iopub.status.busy": "2021-07-29T23:44:35.498197Z",
     "iopub.status.idle": "2021-07-29T23:44:36.413502Z",
     "shell.execute_reply": "2021-07-29T23:44:36.413977Z"
    },
    "papermill": {
     "duration": 0.976118,
     "end_time": "2021-07-29T23:44:36.414130",
     "exception": false,
     "start_time": "2021-07-29T23:44:35.438012",
     "status": "completed"
    },
    "tags": []
   },
   "outputs": [
    {
     "data": {
      "image/png": "[encoded data removed]",
      "text/plain": [
       "<Figure size 1440x432 with 15 Axes>"
      ]
     },
     "metadata": {
      "needs_background": "light"
     },
     "output_type": "display_data"
    }
   ],
   "source": [
    "#some image processing to be done at a later stage.\n",
    "#Plotting images for each sign\n",
    "plt.figure(figsize=(20,6))\n",
    "\n",
    "for i,j in enumerate([6000,7000,8000,9000,10000,11000,12000,13000,14000,0,1000,2000,3000,4000,5000]):\n",
    "    plt.subplot(3,5,i+1)\n",
    "    plt.subplots_adjust(top = 2, bottom = 1)\n",
    "    plt.imshow(hog_images[i],cmap = 'gray')\n",
    "    plt.title(y[j])\n",
    "    plt.axis('off')\n",
    "plt.suptitle('HOG of images from the dataset',fontsize = 20)\n",
    "plt.show()"
   ]
  },
  {
   "cell_type": "code",
   "execution_count": 31,
   "id": "0627ab63",
   "metadata": {
    "execution": {
     "iopub.execute_input": "2021-07-29T23:44:36.501971Z",
     "iopub.status.busy": "2021-07-29T23:44:36.501146Z",
     "iopub.status.idle": "2021-07-29T23:44:36.503474Z",
     "shell.execute_reply": "2021-07-29T23:44:36.503963Z"
    },
    "papermill": {
     "duration": 0.048495,
     "end_time": "2021-07-29T23:44:36.504093",
     "exception": false,
     "start_time": "2021-07-29T23:44:36.455598",
     "status": "completed"
    },
    "tags": []
   },
   "outputs": [],
   "source": [
    "def get_data(X,y):\n",
    "    #Splitting the data into training and test set\n",
    "    y = to_categorical(y)\n",
    "    Xtrain,Xtest,ytrain,ytest = train_test_split(X,y,test_size = 0.2,random_state = 2)\n",
    "    #Splitting the training data into training and validation set\n",
    "    Xtrain,Xval,ytrain,yval = train_test_split(Xtrain,ytrain,test_size = 0.2,random_state = 2)\n",
    "    return Xtrain,Xval,Xtest,ytrain,yval,ytest"
   ]
  },
  {
   "cell_type": "code",
   "execution_count": 32,
   "id": "9ebb4eda",
   "metadata": {
    "execution": {
     "iopub.execute_input": "2021-07-29T23:44:36.591387Z",
     "iopub.status.busy": "2021-07-29T23:44:36.590617Z",
     "iopub.status.idle": "2021-07-29T23:44:36.804526Z",
     "shell.execute_reply": "2021-07-29T23:44:36.805370Z"
    },
    "papermill": {
     "duration": 0.260153,
     "end_time": "2021-07-29T23:44:36.805580",
     "exception": false,
     "start_time": "2021-07-29T23:44:36.545427",
     "status": "completed"
    },
    "tags": []
   },
   "outputs": [],
   "source": [
    "Xtrain,Xval,Xtest,ytrain,yval,ytest = get_data(X_hog,y_enc)"
   ]
  },
  {
   "cell_type": "code",
   "execution_count": 33,
   "id": "15841dee",
   "metadata": {
    "execution": {
     "iopub.execute_input": "2021-07-29T23:44:36.946490Z",
     "iopub.status.busy": "2021-07-29T23:44:36.945637Z",
     "iopub.status.idle": "2021-07-29T23:44:36.949794Z",
     "shell.execute_reply": "2021-07-29T23:44:36.950481Z"
    },
    "papermill": {
     "duration": 0.079331,
     "end_time": "2021-07-29T23:44:36.950674",
     "exception": false,
     "start_time": "2021-07-29T23:44:36.871343",
     "status": "completed"
    },
    "tags": []
   },
   "outputs": [
    {
     "name": "stdout",
     "output_type": "stream",
     "text": [
      "Number of samples in training set:9600\n",
      "Number of samples in validation set:2400\n",
      "Number of samples in testing set:3000\n"
     ]
    }
   ],
   "source": [
    "print(\"Number of samples in training set:{}\".format(len(ytrain)))\n",
    "print(\"Number of samples in validation set:{}\".format(len(yval)))\n",
    "print(\"Number of samples in testing set:{}\".format(len(ytest)))"
   ]
  },
  {
   "cell_type": "markdown",
   "id": "8a5696ca",
   "metadata": {
    "papermill": {
     "duration": 0.068109,
     "end_time": "2021-07-29T23:44:37.087758",
     "exception": false,
     "start_time": "2021-07-29T23:44:37.019649",
     "status": "completed"
    },
    "tags": []
   },
   "source": [
    "# **4. Performing Classification using ANN**"
   ]
  },
  {
   "cell_type": "code",
   "execution_count": 34,
   "id": "68fe10d2",
   "metadata": {
    "execution": {
     "iopub.execute_input": "2021-07-29T23:44:37.237491Z",
     "iopub.status.busy": "2021-07-29T23:44:37.234959Z",
     "iopub.status.idle": "2021-07-29T23:44:37.240870Z",
     "shell.execute_reply": "2021-07-29T23:44:37.241256Z"
    },
    "papermill": {
     "duration": 0.084624,
     "end_time": "2021-07-29T23:44:37.241394",
     "exception": false,
     "start_time": "2021-07-29T23:44:37.156770",
     "status": "completed"
    },
    "tags": []
   },
   "outputs": [],
   "source": [
    "def plotLearningCurve(history,epochs):\n",
    "  epochRange = range(1,epochs+1)\n",
    "  fig , ax = plt.subplots(1,2,figsize = (10,5))\n",
    "  \n",
    "  ax[0].plot(epochRange,history.history['accuracy'],label = 'Training Accuracy')\n",
    "  ax[0].plot(epochRange,history.history['val_accuracy'],label = 'Validation Accuracy')\n",
    "  ax[0].set_title('Training and Validation accuracy')\n",
    "  ax[0].set_xlabel('Epoch')\n",
    "  ax[0].set_ylabel('Accuracy')\n",
    "  ax[0].legend()\n",
    "  ax[1].plot(epochRange,history.history['loss'],label = 'Training Loss')\n",
    "  ax[1].plot(epochRange,history.history['val_loss'],label = 'Validation Loss')\n",
    "  ax[1].set_title('Training and Validation loss')\n",
    "  ax[1].set_xlabel('Epoch')\n",
    "  ax[1].set_ylabel('Loss')\n",
    "  ax[1].legend()\n",
    "  fig.tight_layout()\n",
    "  plt.show()"
   ]
  },
  {
   "cell_type": "code",
   "execution_count": 35,
   "id": "673e6707",
   "metadata": {
    "execution": {
     "iopub.execute_input": "2021-07-29T23:44:37.333149Z",
     "iopub.status.busy": "2021-07-29T23:44:37.332459Z",
     "iopub.status.idle": "2021-07-29T23:44:39.200564Z",
     "shell.execute_reply": "2021-07-29T23:44:39.201243Z"
    },
    "papermill": {
     "duration": 1.918232,
     "end_time": "2021-07-29T23:44:39.201395",
     "exception": false,
     "start_time": "2021-07-29T23:44:37.283163",
     "status": "completed"
    },
    "tags": []
   },
   "outputs": [
    {
     "name": "stdout",
     "output_type": "stream",
     "text": [
      "Model: \"model\"\n",
      "_________________________________________________________________\n",
      "Layer (type)                 Output Shape              Param #   \n",
      "=================================================================\n",
      "input_1 (InputLayer)         [(None, 2916)]            0         \n",
      "_________________________________________________________________\n",
      "dense (Dense)                (None, 256)               746752    \n",
      "_________________________________________________________________\n",
      "dropout (Dropout)            (None, 256)               0         \n",
      "_________________________________________________________________\n",
      "dense_1 (Dense)              (None, 128)               32896     \n",
      "_________________________________________________________________\n",
      "dropout_1 (Dropout)          (None, 128)               0         \n",
      "_________________________________________________________________\n",
      "dense_2 (Dense)              (None, 64)                8256      \n",
      "_________________________________________________________________\n",
      "dropout_2 (Dropout)          (None, 64)                0         \n",
      "_________________________________________________________________\n",
      "dense_3 (Dense)              (None, 32)                2080      \n",
      "_________________________________________________________________\n",
      "dropout_3 (Dropout)          (None, 32)                0         \n",
      "_________________________________________________________________\n",
      "flatten (Flatten)            (None, 32)                0         \n",
      "_________________________________________________________________\n",
      "dense_4 (Dense)              (None, 15)                495       \n",
      "=================================================================\n",
      "Total params: 790,479\n",
      "Trainable params: 790,479\n",
      "Non-trainable params: 0\n",
      "_________________________________________________________________\n"
     ]
    }
   ],
   "source": [
    "np.random.seed(12)\n",
    "i = Input(shape=len(Xtrain.T))\n",
    "x = Dense(256, activation=LeakyReLU(0.05))(i)\n",
    "x = Dropout(0.2)(x)\n",
    "x = Dense(128, activation=LeakyReLU(0.05))(x)\n",
    "x = Dropout(0.2)(x)\n",
    "x = Dense(64, activation=LeakyReLU(0.05))(x)\n",
    "x = Dropout(0.2)(x)\n",
    "x = Dense(32,activation=LeakyReLU(0.05))(x)\n",
    "x = Dropout(0.2)(x)\n",
    "x = Flatten()(x)\n",
    "x = Dense(15, activation='softmax')(x)\n",
    "model = Model(i, x)\n",
    "model.summary()\n"
   ]
  },
  {
   "cell_type": "code",
   "execution_count": 36,
   "id": "a90a73c9",
   "metadata": {
    "execution": {
     "iopub.execute_input": "2021-07-29T23:44:39.299962Z",
     "iopub.status.busy": "2021-07-29T23:44:39.296652Z",
     "iopub.status.idle": "2021-07-29T23:44:39.303190Z",
     "shell.execute_reply": "2021-07-29T23:44:39.302778Z"
    },
    "papermill": {
     "duration": 0.059152,
     "end_time": "2021-07-29T23:44:39.303301",
     "exception": false,
     "start_time": "2021-07-29T23:44:39.244149",
     "status": "completed"
    },
    "tags": []
   },
   "outputs": [],
   "source": [
    "model.compile(loss='categorical_crossentropy', optimizer=Adam(0.001),metrics=['accuracy']) # use categorical_crossentropy when one hot encoding is used"
   ]
  },
  {
   "cell_type": "code",
   "execution_count": 37,
   "id": "b4d26b66",
   "metadata": {
    "execution": {
     "iopub.execute_input": "2021-07-29T23:44:39.392646Z",
     "iopub.status.busy": "2021-07-29T23:44:39.392018Z",
     "iopub.status.idle": "2021-07-29T23:46:10.276562Z",
     "shell.execute_reply": "2021-07-29T23:46:10.277509Z"
    },
    "papermill": {
     "duration": 90.931589,
     "end_time": "2021-07-29T23:46:10.277674",
     "exception": false,
     "start_time": "2021-07-29T23:44:39.346085",
     "status": "completed"
    },
    "tags": []
   },
   "outputs": [
    {
     "name": "stdout",
     "output_type": "stream",
     "text": [
      "Epoch 1/100\n",
      "300/300 [==============================] - 3s 5ms/step - loss: 2.1249 - accuracy: 0.2793 - val_loss: 0.7651 - val_accuracy: 0.7342\n",
      "Epoch 2/100\n",
      "300/300 [==============================] - 1s 3ms/step - loss: 0.8512 - accuracy: 0.7046 - val_loss: 0.5545 - val_accuracy: 0.8050\n",
      "Epoch 3/100\n",
      "300/300 [==============================] - 1s 3ms/step - loss: 0.5956 - accuracy: 0.7869 - val_loss: 0.4272 - val_accuracy: 0.8575\n",
      "Epoch 4/100\n",
      "300/300 [==============================] - 1s 3ms/step - loss: 0.4596 - accuracy: 0.8414 - val_loss: 0.4738 - val_accuracy: 0.8263\n",
      "Epoch 5/100\n",
      "300/300 [==============================] - 1s 3ms/step - loss: 0.3935 - accuracy: 0.8665 - val_loss: 0.4024 - val_accuracy: 0.8592\n",
      "Epoch 6/100\n",
      "300/300 [==============================] - 1s 3ms/step - loss: 0.3696 - accuracy: 0.8715 - val_loss: 0.3278 - val_accuracy: 0.8846\n",
      "Epoch 7/100\n",
      "300/300 [==============================] - 1s 3ms/step - loss: 0.3149 - accuracy: 0.9003 - val_loss: 0.3892 - val_accuracy: 0.8671\n",
      "Epoch 8/100\n",
      "300/300 [==============================] - 1s 4ms/step - loss: 0.2700 - accuracy: 0.9108 - val_loss: 0.3265 - val_accuracy: 0.8921\n",
      "Epoch 9/100\n",
      "300/300 [==============================] - 1s 3ms/step - loss: 0.2591 - accuracy: 0.9157 - val_loss: 0.3040 - val_accuracy: 0.8921\n",
      "Epoch 10/100\n",
      "300/300 [==============================] - 1s 3ms/step - loss: 0.2154 - accuracy: 0.9267 - val_loss: 0.3205 - val_accuracy: 0.8854\n",
      "Epoch 11/100\n",
      "300/300 [==============================] - 1s 3ms/step - loss: 0.2092 - accuracy: 0.9286 - val_loss: 0.3237 - val_accuracy: 0.8929\n",
      "Epoch 12/100\n",
      "300/300 [==============================] - 1s 3ms/step - loss: 0.2163 - accuracy: 0.9336 - val_loss: 0.2888 - val_accuracy: 0.9058\n",
      "Epoch 13/100\n",
      "300/300 [==============================] - 1s 4ms/step - loss: 0.1756 - accuracy: 0.9444 - val_loss: 0.3363 - val_accuracy: 0.8917\n",
      "Epoch 14/100\n",
      "300/300 [==============================] - 1s 3ms/step - loss: 0.1706 - accuracy: 0.9461 - val_loss: 0.3117 - val_accuracy: 0.9021\n",
      "Epoch 15/100\n",
      "300/300 [==============================] - 1s 3ms/step - loss: 0.1667 - accuracy: 0.9477 - val_loss: 0.3152 - val_accuracy: 0.9013\n",
      "Epoch 16/100\n",
      "300/300 [==============================] - 1s 3ms/step - loss: 0.1482 - accuracy: 0.9501 - val_loss: 0.3406 - val_accuracy: 0.8979\n",
      "Epoch 17/100\n",
      "300/300 [==============================] - 1s 3ms/step - loss: 0.1474 - accuracy: 0.9534 - val_loss: 0.3266 - val_accuracy: 0.9000\n",
      "Epoch 18/100\n",
      "300/300 [==============================] - 1s 3ms/step - loss: 0.1368 - accuracy: 0.9591 - val_loss: 0.2936 - val_accuracy: 0.9096\n",
      "Epoch 19/100\n",
      "300/300 [==============================] - 1s 3ms/step - loss: 0.1284 - accuracy: 0.9608 - val_loss: 0.3028 - val_accuracy: 0.9067\n",
      "Epoch 20/100\n",
      "300/300 [==============================] - 1s 3ms/step - loss: 0.1164 - accuracy: 0.9644 - val_loss: 0.3292 - val_accuracy: 0.9000\n",
      "Epoch 21/100\n",
      "300/300 [==============================] - 1s 3ms/step - loss: 0.1237 - accuracy: 0.9598 - val_loss: 0.3320 - val_accuracy: 0.9008\n",
      "Epoch 22/100\n",
      "300/300 [==============================] - 1s 3ms/step - loss: 0.1166 - accuracy: 0.9623 - val_loss: 0.3564 - val_accuracy: 0.9112\n",
      "Epoch 23/100\n",
      "300/300 [==============================] - 1s 3ms/step - loss: 0.1136 - accuracy: 0.9635 - val_loss: 0.3691 - val_accuracy: 0.8992\n",
      "Epoch 24/100\n",
      "300/300 [==============================] - 1s 3ms/step - loss: 0.1527 - accuracy: 0.9511 - val_loss: 0.3277 - val_accuracy: 0.9054\n",
      "Epoch 25/100\n",
      "300/300 [==============================] - 1s 3ms/step - loss: 0.1041 - accuracy: 0.9668 - val_loss: 0.3634 - val_accuracy: 0.9058\n",
      "Epoch 26/100\n",
      "300/300 [==============================] - 1s 3ms/step - loss: 0.0954 - accuracy: 0.9692 - val_loss: 0.3588 - val_accuracy: 0.9017\n",
      "Epoch 27/100\n",
      "300/300 [==============================] - 1s 3ms/step - loss: 0.0968 - accuracy: 0.9682 - val_loss: 0.3352 - val_accuracy: 0.9075\n",
      "Epoch 28/100\n",
      "300/300 [==============================] - 1s 3ms/step - loss: 0.0896 - accuracy: 0.9691 - val_loss: 0.3464 - val_accuracy: 0.9062\n",
      "Epoch 29/100\n",
      "300/300 [==============================] - 1s 3ms/step - loss: 0.0921 - accuracy: 0.9714 - val_loss: 0.3247 - val_accuracy: 0.9038\n",
      "Epoch 30/100\n",
      "300/300 [==============================] - 1s 3ms/step - loss: 0.1071 - accuracy: 0.9648 - val_loss: 0.3801 - val_accuracy: 0.9046\n",
      "Epoch 31/100\n",
      "300/300 [==============================] - 1s 3ms/step - loss: 0.0801 - accuracy: 0.9725 - val_loss: 0.3547 - val_accuracy: 0.9033\n",
      "Epoch 32/100\n",
      "300/300 [==============================] - 1s 4ms/step - loss: 0.0839 - accuracy: 0.9742 - val_loss: 0.3288 - val_accuracy: 0.9096\n",
      "Epoch 33/100\n",
      "300/300 [==============================] - 1s 3ms/step - loss: 0.0875 - accuracy: 0.9765 - val_loss: 0.3219 - val_accuracy: 0.9142\n",
      "Epoch 34/100\n",
      "300/300 [==============================] - 1s 3ms/step - loss: 0.0720 - accuracy: 0.9766 - val_loss: 0.3419 - val_accuracy: 0.9121\n",
      "Epoch 35/100\n",
      "300/300 [==============================] - 1s 3ms/step - loss: 0.0967 - accuracy: 0.9719 - val_loss: 0.3512 - val_accuracy: 0.9187\n",
      "Epoch 36/100\n",
      "300/300 [==============================] - 1s 3ms/step - loss: 0.0855 - accuracy: 0.9750 - val_loss: 0.3379 - val_accuracy: 0.9233\n",
      "Epoch 37/100\n",
      "300/300 [==============================] - 1s 3ms/step - loss: 0.0794 - accuracy: 0.9726 - val_loss: 0.3626 - val_accuracy: 0.9104\n",
      "Epoch 38/100\n",
      "300/300 [==============================] - 1s 3ms/step - loss: 0.0718 - accuracy: 0.9773 - val_loss: 0.3492 - val_accuracy: 0.9167\n",
      "Epoch 39/100\n",
      "300/300 [==============================] - 1s 3ms/step - loss: 0.0608 - accuracy: 0.9809 - val_loss: 0.3492 - val_accuracy: 0.9133\n",
      "Epoch 40/100\n",
      "300/300 [==============================] - 1s 3ms/step - loss: 0.0799 - accuracy: 0.9773 - val_loss: 0.3992 - val_accuracy: 0.9004\n",
      "Epoch 41/100\n",
      "300/300 [==============================] - 1s 3ms/step - loss: 0.0766 - accuracy: 0.9773 - val_loss: 0.3555 - val_accuracy: 0.9121\n",
      "Epoch 42/100\n",
      "300/300 [==============================] - 1s 3ms/step - loss: 0.0661 - accuracy: 0.9804 - val_loss: 0.3884 - val_accuracy: 0.9083\n",
      "Epoch 43/100\n",
      "300/300 [==============================] - 1s 3ms/step - loss: 0.0629 - accuracy: 0.9805 - val_loss: 0.4233 - val_accuracy: 0.9017\n",
      "Epoch 44/100\n",
      "300/300 [==============================] - 1s 3ms/step - loss: 0.0685 - accuracy: 0.9781 - val_loss: 0.3984 - val_accuracy: 0.9158\n",
      "Epoch 45/100\n",
      "300/300 [==============================] - 1s 3ms/step - loss: 0.0681 - accuracy: 0.9812 - val_loss: 0.3799 - val_accuracy: 0.9187\n",
      "Epoch 46/100\n",
      "300/300 [==============================] - 1s 3ms/step - loss: 0.0676 - accuracy: 0.9808 - val_loss: 0.3477 - val_accuracy: 0.9129\n",
      "Epoch 47/100\n",
      "300/300 [==============================] - 1s 3ms/step - loss: 0.0531 - accuracy: 0.9847 - val_loss: 0.4043 - val_accuracy: 0.9083\n",
      "Epoch 48/100\n",
      "300/300 [==============================] - 1s 3ms/step - loss: 0.0758 - accuracy: 0.9777 - val_loss: 0.4133 - val_accuracy: 0.9096\n",
      "Epoch 49/100\n",
      "300/300 [==============================] - 1s 4ms/step - loss: 0.0625 - accuracy: 0.9782 - val_loss: 0.3942 - val_accuracy: 0.9075\n",
      "Epoch 50/100\n",
      "300/300 [==============================] - 1s 3ms/step - loss: 0.0531 - accuracy: 0.9831 - val_loss: 0.4123 - val_accuracy: 0.9112\n",
      "Epoch 51/100\n",
      "300/300 [==============================] - 1s 3ms/step - loss: 0.0693 - accuracy: 0.9791 - val_loss: 0.4260 - val_accuracy: 0.9087\n",
      "Epoch 52/100\n",
      "300/300 [==============================] - 1s 3ms/step - loss: 0.0597 - accuracy: 0.9808 - val_loss: 0.4080 - val_accuracy: 0.9137\n",
      "Epoch 53/100\n",
      "300/300 [==============================] - 1s 3ms/step - loss: 0.0608 - accuracy: 0.9832 - val_loss: 0.3703 - val_accuracy: 0.9142\n",
      "Epoch 54/100\n",
      "300/300 [==============================] - 1s 3ms/step - loss: 0.0538 - accuracy: 0.9844 - val_loss: 0.3993 - val_accuracy: 0.9087\n",
      "Epoch 55/100\n",
      "300/300 [==============================] - 1s 3ms/step - loss: 0.0538 - accuracy: 0.9841 - val_loss: 0.4144 - val_accuracy: 0.9104\n",
      "Epoch 56/100\n",
      "300/300 [==============================] - 1s 3ms/step - loss: 0.0602 - accuracy: 0.9810 - val_loss: 0.4407 - val_accuracy: 0.9075\n",
      "Epoch 57/100\n",
      "300/300 [==============================] - 1s 4ms/step - loss: 0.0507 - accuracy: 0.9838 - val_loss: 0.5018 - val_accuracy: 0.8950\n",
      "Epoch 58/100\n",
      "300/300 [==============================] - 1s 3ms/step - loss: 0.0609 - accuracy: 0.9799 - val_loss: 0.4234 - val_accuracy: 0.9092\n",
      "Epoch 59/100\n",
      "300/300 [==============================] - 1s 3ms/step - loss: 0.0490 - accuracy: 0.9830 - val_loss: 0.4134 - val_accuracy: 0.9117\n",
      "Epoch 60/100\n",
      "300/300 [==============================] - 1s 3ms/step - loss: 0.0557 - accuracy: 0.9832 - val_loss: 0.4548 - val_accuracy: 0.9100\n",
      "Epoch 61/100\n",
      "300/300 [==============================] - 1s 3ms/step - loss: 0.0376 - accuracy: 0.9879 - val_loss: 0.4172 - val_accuracy: 0.9087\n",
      "Epoch 62/100\n",
      "300/300 [==============================] - 1s 3ms/step - loss: 0.0679 - accuracy: 0.9783 - val_loss: 0.4205 - val_accuracy: 0.9112\n",
      "Epoch 63/100\n",
      "300/300 [==============================] - 1s 3ms/step - loss: 0.0406 - accuracy: 0.9884 - val_loss: 0.4484 - val_accuracy: 0.9125\n",
      "Epoch 64/100\n",
      "300/300 [==============================] - 1s 3ms/step - loss: 0.0407 - accuracy: 0.9880 - val_loss: 0.4506 - val_accuracy: 0.9100\n",
      "Epoch 65/100\n",
      "300/300 [==============================] - 1s 3ms/step - loss: 0.0507 - accuracy: 0.9850 - val_loss: 0.4324 - val_accuracy: 0.9137\n",
      "Epoch 66/100\n",
      "300/300 [==============================] - 1s 3ms/step - loss: 0.0438 - accuracy: 0.9868 - val_loss: 0.4429 - val_accuracy: 0.9096\n",
      "Epoch 67/100\n",
      "300/300 [==============================] - 1s 3ms/step - loss: 0.0433 - accuracy: 0.9868 - val_loss: 0.4471 - val_accuracy: 0.9029\n",
      "Epoch 68/100\n",
      "300/300 [==============================] - 1s 3ms/step - loss: 0.0632 - accuracy: 0.9815 - val_loss: 0.4497 - val_accuracy: 0.9071\n",
      "Epoch 69/100\n",
      "300/300 [==============================] - 1s 3ms/step - loss: 0.0438 - accuracy: 0.9842 - val_loss: 0.4559 - val_accuracy: 0.9079\n",
      "Epoch 70/100\n",
      "300/300 [==============================] - 1s 3ms/step - loss: 0.0471 - accuracy: 0.9865 - val_loss: 0.4424 - val_accuracy: 0.9096\n",
      "Epoch 71/100\n",
      "300/300 [==============================] - 1s 3ms/step - loss: 0.0721 - accuracy: 0.9817 - val_loss: 0.4312 - val_accuracy: 0.9067\n",
      "Epoch 72/100\n",
      "300/300 [==============================] - 1s 3ms/step - loss: 0.0372 - accuracy: 0.9891 - val_loss: 0.4534 - val_accuracy: 0.9092\n",
      "Epoch 73/100\n",
      "300/300 [==============================] - 1s 3ms/step - loss: 0.0414 - accuracy: 0.9876 - val_loss: 0.4274 - val_accuracy: 0.9142\n",
      "Epoch 74/100\n",
      "300/300 [==============================] - 1s 3ms/step - loss: 0.0476 - accuracy: 0.9862 - val_loss: 0.4673 - val_accuracy: 0.9079\n",
      "Epoch 75/100\n",
      "300/300 [==============================] - 1s 3ms/step - loss: 0.0429 - accuracy: 0.9864 - val_loss: 0.4093 - val_accuracy: 0.9100\n",
      "Epoch 76/100\n",
      "300/300 [==============================] - 1s 3ms/step - loss: 0.0432 - accuracy: 0.9871 - val_loss: 0.4662 - val_accuracy: 0.9121\n",
      "Epoch 77/100\n",
      "300/300 [==============================] - 1s 3ms/step - loss: 0.0488 - accuracy: 0.9879 - val_loss: 0.4634 - val_accuracy: 0.9146\n",
      "Epoch 78/100\n",
      "300/300 [==============================] - 1s 3ms/step - loss: 0.0439 - accuracy: 0.9864 - val_loss: 0.4611 - val_accuracy: 0.9121\n",
      "Epoch 79/100\n",
      "300/300 [==============================] - 1s 3ms/step - loss: 0.0466 - accuracy: 0.9863 - val_loss: 0.4134 - val_accuracy: 0.9171\n",
      "Epoch 80/100\n",
      "300/300 [==============================] - 1s 3ms/step - loss: 0.0500 - accuracy: 0.9860 - val_loss: 0.4167 - val_accuracy: 0.9133\n",
      "Epoch 81/100\n",
      "300/300 [==============================] - 1s 3ms/step - loss: 0.0391 - accuracy: 0.9883 - val_loss: 0.4825 - val_accuracy: 0.9100\n",
      "Epoch 82/100\n",
      "300/300 [==============================] - 1s 3ms/step - loss: 0.0503 - accuracy: 0.9848 - val_loss: 0.4586 - val_accuracy: 0.9104\n",
      "Epoch 83/100\n",
      "300/300 [==============================] - 1s 3ms/step - loss: 0.0426 - accuracy: 0.9884 - val_loss: 0.5154 - val_accuracy: 0.9092\n",
      "Epoch 84/100\n",
      "300/300 [==============================] - 1s 3ms/step - loss: 0.0274 - accuracy: 0.9910 - val_loss: 0.5047 - val_accuracy: 0.9158\n",
      "Epoch 85/100\n",
      "300/300 [==============================] - 1s 4ms/step - loss: 0.0394 - accuracy: 0.9881 - val_loss: 0.5063 - val_accuracy: 0.8975\n",
      "Epoch 86/100\n",
      "300/300 [==============================] - 1s 4ms/step - loss: 0.0389 - accuracy: 0.9891 - val_loss: 0.5116 - val_accuracy: 0.9083\n",
      "Epoch 87/100\n",
      "300/300 [==============================] - 1s 3ms/step - loss: 0.0734 - accuracy: 0.9822 - val_loss: 0.4621 - val_accuracy: 0.9146\n",
      "Epoch 88/100\n",
      "300/300 [==============================] - 1s 3ms/step - loss: 0.0465 - accuracy: 0.9882 - val_loss: 0.4738 - val_accuracy: 0.9108\n",
      "Epoch 89/100\n",
      "300/300 [==============================] - 1s 3ms/step - loss: 0.0402 - accuracy: 0.9879 - val_loss: 0.4920 - val_accuracy: 0.9117\n",
      "Epoch 90/100\n",
      "300/300 [==============================] - 1s 3ms/step - loss: 0.0321 - accuracy: 0.9907 - val_loss: 0.4327 - val_accuracy: 0.9187\n",
      "Epoch 91/100\n",
      "300/300 [==============================] - 1s 3ms/step - loss: 0.0305 - accuracy: 0.9901 - val_loss: 0.4470 - val_accuracy: 0.9162\n",
      "Epoch 92/100\n",
      "300/300 [==============================] - 1s 3ms/step - loss: 0.0346 - accuracy: 0.9904 - val_loss: 0.4538 - val_accuracy: 0.9104\n",
      "Epoch 93/100\n",
      "300/300 [==============================] - 1s 3ms/step - loss: 0.0397 - accuracy: 0.9870 - val_loss: 0.4642 - val_accuracy: 0.9092\n",
      "Epoch 94/100\n",
      "300/300 [==============================] - 1s 3ms/step - loss: 0.0553 - accuracy: 0.9861 - val_loss: 0.4235 - val_accuracy: 0.9112\n",
      "Epoch 95/100\n",
      "300/300 [==============================] - 1s 3ms/step - loss: 0.0347 - accuracy: 0.9885 - val_loss: 0.4795 - val_accuracy: 0.9112\n",
      "Epoch 96/100\n",
      "300/300 [==============================] - 1s 3ms/step - loss: 0.0283 - accuracy: 0.9917 - val_loss: 0.4990 - val_accuracy: 0.9146\n",
      "Epoch 97/100\n",
      "300/300 [==============================] - 1s 3ms/step - loss: 0.0328 - accuracy: 0.9929 - val_loss: 0.5150 - val_accuracy: 0.9200\n",
      "Epoch 98/100\n",
      "300/300 [==============================] - 1s 3ms/step - loss: 0.0296 - accuracy: 0.9909 - val_loss: 0.4930 - val_accuracy: 0.9058\n",
      "Epoch 99/100\n",
      "300/300 [==============================] - 1s 3ms/step - loss: 0.0387 - accuracy: 0.9885 - val_loss: 0.5383 - val_accuracy: 0.9062\n",
      "Epoch 100/100\n",
      "300/300 [==============================] - 1s 3ms/step - loss: 0.0379 - accuracy: 0.9886 - val_loss: 0.4747 - val_accuracy: 0.9125\n"
     ]
    }
   ],
   "source": [
    " r  = model.fit(x=Xtrain, \n",
    "          y=ytrain, \n",
    "          epochs=100,\n",
    "          validation_data=(Xval, yval),\n",
    "          )"
   ]
  },
  {
   "cell_type": "code",
   "execution_count": 38,
   "id": "0055d7e4",
   "metadata": {
    "execution": {
     "iopub.execute_input": "2021-07-29T23:46:11.217531Z",
     "iopub.status.busy": "2021-07-29T23:46:11.217001Z",
     "iopub.status.idle": "2021-07-29T23:46:12.106198Z",
     "shell.execute_reply": "2021-07-29T23:46:12.106787Z"
    },
    "papermill": {
     "duration": 1.356717,
     "end_time": "2021-07-29T23:46:12.106975",
     "exception": false,
     "start_time": "2021-07-29T23:46:10.750258",
     "status": "completed"
    },
    "tags": []
   },
   "outputs": [
    {
     "name": "stdout",
     "output_type": "stream",
     "text": [
      "300/300 [==============================] - 1s 2ms/step - loss: 0.0033 - accuracy: 0.9992\n",
      "Train score: [0.003271335270255804, 0.9991666674613953]\n",
      "75/75 [==============================] - 0s 2ms/step - loss: 0.4747 - accuracy: 0.9125\n",
      "Validation score: [0.47470396757125854, 0.9125000238418579]\n"
     ]
    }
   ],
   "source": [
    "print(\"Train score:\", model.evaluate(Xtrain,ytrain))\n",
    "print(\"Validation score:\", model.evaluate(Xval,yval))"
   ]
  },
  {
   "cell_type": "code",
   "execution_count": 39,
   "id": "ddded9ed",
   "metadata": {
    "execution": {
     "iopub.execute_input": "2021-07-29T23:46:13.008235Z",
     "iopub.status.busy": "2021-07-29T23:46:13.006956Z",
     "iopub.status.idle": "2021-07-29T23:46:13.386623Z",
     "shell.execute_reply": "2021-07-29T23:46:13.386204Z"
    },
    "papermill": {
     "duration": 0.839421,
     "end_time": "2021-07-29T23:46:13.386761",
     "exception": false,
     "start_time": "2021-07-29T23:46:12.547340",
     "status": "completed"
    },
    "tags": []
   },
   "outputs": [
    {
     "data": {
      "image/png": "[encoded data removed]",
      "text/plain": [
       "<Figure size 720x360 with 2 Axes>"
      ]
     },
     "metadata": {
      "needs_background": "light"
     },
     "output_type": "display_data"
    }
   ],
   "source": [
    "plotLearningCurve(r,100)"
   ]
  },
  {
   "cell_type": "code",
   "execution_count": 40,
   "id": "1aed34d8",
   "metadata": {
    "execution": {
     "iopub.execute_input": "2021-07-29T23:46:14.322792Z",
     "iopub.status.busy": "2021-07-29T23:46:14.321762Z",
     "iopub.status.idle": "2021-07-29T23:46:14.556917Z",
     "shell.execute_reply": "2021-07-29T23:46:14.555830Z"
    },
    "papermill": {
     "duration": 0.684235,
     "end_time": "2021-07-29T23:46:14.557047",
     "exception": false,
     "start_time": "2021-07-29T23:46:13.872812",
     "status": "completed"
    },
    "tags": []
   },
   "outputs": [],
   "source": [
    "ypred = model.predict(Xtest)\n",
    "ypred = np.argmax(ypred,axis = 1) \n",
    "\n",
    "ytest_labels = np.argmax(ytest,axis = -1) "
   ]
  },
  {
   "cell_type": "code",
   "execution_count": 41,
   "id": "a390d310",
   "metadata": {
    "execution": {
     "iopub.execute_input": "2021-07-29T23:46:15.448241Z",
     "iopub.status.busy": "2021-07-29T23:46:15.447440Z",
     "iopub.status.idle": "2021-07-29T23:46:16.588306Z",
     "shell.execute_reply": "2021-07-29T23:46:16.587495Z"
    },
    "papermill": {
     "duration": 1.587057,
     "end_time": "2021-07-29T23:46:16.588476",
     "exception": false,
     "start_time": "2021-07-29T23:46:15.001419",
     "status": "completed"
    },
    "tags": []
   },
   "outputs": [
    {
     "data": {
      "image/png": "[encoded data removed]",
      "text/plain": [
       "<Figure size 720x720 with 2 Axes>"
      ]
     },
     "metadata": {
      "needs_background": "light"
     },
     "output_type": "display_data"
    }
   ],
   "source": [
    "#plot confusion matrix\n",
    "cm = confusion_matrix(ytest_labels,ypred)\n",
    "plt.figure(figsize=(10,10))\n",
    "sns.heatmap(cm,cmap = 'Blues',annot = True,fmt = 'g')\n",
    "plt.xlabel('Predicted value')\n",
    "plt.ylabel('True')\n",
    "plt.show()"
   ]
  },
  {
   "cell_type": "code",
   "execution_count": 42,
   "id": "f6d6827d",
   "metadata": {
    "execution": {
     "iopub.execute_input": "2021-07-29T23:46:17.482759Z",
     "iopub.status.busy": "2021-07-29T23:46:17.482026Z",
     "iopub.status.idle": "2021-07-29T23:46:17.485503Z",
     "shell.execute_reply": "2021-07-29T23:46:17.486088Z"
    },
    "papermill": {
     "duration": 0.449404,
     "end_time": "2021-07-29T23:46:17.486271",
     "exception": false,
     "start_time": "2021-07-29T23:46:17.036867",
     "status": "completed"
    },
    "tags": []
   },
   "outputs": [
    {
     "name": "stdout",
     "output_type": "stream",
     "text": [
      "The accuracy of ANN on test set is 92.03 %\n"
     ]
    }
   ],
   "source": [
    "accuracy = np.round(accuracy_score(ytest_labels,ypred),4)\n",
    "print(\"The accuracy of ANN on test set is {} %\".format(accuracy*100))"
   ]
  }
 ],
 "metadata": {
  "kernelspec": {
   "display_name": "Python 3",
   "language": "python",
   "name": "python3"
  },
  "language_info": {
   "codemirror_mode": {
    "name": "ipython",
    "version": 3
   },
   "file_extension": ".py",
   "mimetype": "text/x-python",
   "name": "python",
   "nbconvert_exporter": "python",
   "pygments_lexer": "ipython3",
   "version": "3.7.10"
  },
  "papermill": {
   "default_parameters": {},
   "duration": 255.808269,
   "end_time": "2021-07-29T23:46:20.048888",
   "environment_variables": {},
   "exception": null,
   "input_path": "__notebook__.ipynb",
   "output_path": "__notebook__.ipynb",
   "parameters": {},
   "start_time": "2021-07-29T23:42:04.240619",
   "version": "2.3.3"
  }
 },
 "nbformat": 4,
 "nbformat_minor": 5
}
