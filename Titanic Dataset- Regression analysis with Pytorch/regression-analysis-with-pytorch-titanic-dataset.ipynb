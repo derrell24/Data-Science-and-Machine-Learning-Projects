{
 "cells": [
  {
   "cell_type": "markdown",
   "id": "7d54af6d",
   "metadata": {
    "_cell_guid": "b1076dfc-b9ad-4769-8c92-a6c4dae69d19",
    "_uuid": "8f2839f25d086af736a60e9eeb907d3b93b6e0e5",
    "papermill": {
     "duration": 0.058628,
     "end_time": "2021-11-01T07:23:25.645355",
     "exception": false,
     "start_time": "2021-11-01T07:23:25.586727",
     "status": "completed"
    },
    "tags": []
   },
   "source": [
    "# Problem Statement\n",
    "To predict whether the person survived sinking from the features in the given data."
   ]
  },
  {
   "cell_type": "markdown",
   "id": "e8dd2f45",
   "metadata": {
    "papermill": {
     "duration": 0.056846,
     "end_time": "2021-11-01T07:23:25.761013",
     "exception": false,
     "start_time": "2021-11-01T07:23:25.704167",
     "status": "completed"
    },
    "tags": []
   },
   "source": [
    "# Perform standard imports"
   ]
  },
  {
   "cell_type": "code",
   "execution_count": 1,
   "id": "771480b5",
   "metadata": {
    "execution": {
     "iopub.execute_input": "2021-11-01T07:23:25.883422Z",
     "iopub.status.busy": "2021-11-01T07:23:25.882237Z",
     "iopub.status.idle": "2021-11-01T07:23:28.493327Z",
     "shell.execute_reply": "2021-11-01T07:23:28.492473Z",
     "shell.execute_reply.started": "2021-11-01T07:02:54.452518Z"
    },
    "papermill": {
     "duration": 2.675657,
     "end_time": "2021-11-01T07:23:28.493534",
     "exception": false,
     "start_time": "2021-11-01T07:23:25.817877",
     "status": "completed"
    },
    "tags": []
   },
   "outputs": [],
   "source": [
    "import torch\n",
    "import torch.nn as nn  # we'll use this a lot going forward!\n",
    "import pandas as pd\n",
    "import numpy as np\n",
    "import seaborn as sns\n",
    "import matplotlib.pyplot as plt\n",
    "%matplotlib inline\n",
    "from torch.utils.data import DataLoader, TensorDataset, random_split\n",
    "import torch.nn.functional as F\n",
    "from sklearn.metrics import confusion_matrix"
   ]
  },
  {
   "cell_type": "markdown",
   "id": "fc19b842",
   "metadata": {
    "papermill": {
     "duration": 0.057691,
     "end_time": "2021-11-01T07:23:28.608213",
     "exception": false,
     "start_time": "2021-11-01T07:23:28.550522",
     "status": "completed"
    },
    "tags": []
   },
   "source": [
    "# Data import"
   ]
  },
  {
   "cell_type": "code",
   "execution_count": 2,
   "id": "21d2bc8e",
   "metadata": {
    "execution": {
     "iopub.execute_input": "2021-11-01T07:23:28.727586Z",
     "iopub.status.busy": "2021-11-01T07:23:28.726829Z",
     "iopub.status.idle": "2021-11-01T07:23:29.028469Z",
     "shell.execute_reply": "2021-11-01T07:23:29.027584Z",
     "shell.execute_reply.started": "2021-11-01T07:02:54.461258Z"
    },
    "papermill": {
     "duration": 0.363538,
     "end_time": "2021-11-01T07:23:29.028655",
     "exception": false,
     "start_time": "2021-11-01T07:23:28.665117",
     "status": "completed"
    },
    "tags": []
   },
   "outputs": [],
   "source": [
    "train_data = pd.read_csv('https://storage.googleapis.com/tf-datasets/titanic/train.csv')\n",
    "test_data = pd.read_csv('https://storage.googleapis.com/tf-datasets/titanic/eval.csv')"
   ]
  },
  {
   "cell_type": "code",
   "execution_count": 3,
   "id": "2de2c571",
   "metadata": {
    "execution": {
     "iopub.execute_input": "2021-11-01T07:23:29.236324Z",
     "iopub.status.busy": "2021-11-01T07:23:29.235512Z",
     "iopub.status.idle": "2021-11-01T07:23:29.260877Z",
     "shell.execute_reply": "2021-11-01T07:23:29.261401Z",
     "shell.execute_reply.started": "2021-11-01T07:02:55.259380Z"
    },
    "papermill": {
     "duration": 0.086469,
     "end_time": "2021-11-01T07:23:29.261601",
     "exception": false,
     "start_time": "2021-11-01T07:23:29.175132",
     "status": "completed"
    },
    "tags": []
   },
   "outputs": [
    {
     "data": {
      "text/html": [
       "<div>\n",
       "<style scoped>\n",
       "    .dataframe tbody tr th:only-of-type {\n",
       "        vertical-align: middle;\n",
       "    }\n",
       "\n",
       "    .dataframe tbody tr th {\n",
       "        vertical-align: top;\n",
       "    }\n",
       "\n",
       "    .dataframe thead th {\n",
       "        text-align: right;\n",
       "    }\n",
       "</style>\n",
       "<table border=\"1\" class=\"dataframe\">\n",
       "  <thead>\n",
       "    <tr style=\"text-align: right;\">\n",
       "      <th></th>\n",
       "      <th>survived</th>\n",
       "      <th>sex</th>\n",
       "      <th>age</th>\n",
       "      <th>n_siblings_spouses</th>\n",
       "      <th>parch</th>\n",
       "      <th>fare</th>\n",
       "      <th>class</th>\n",
       "      <th>deck</th>\n",
       "      <th>embark_town</th>\n",
       "      <th>alone</th>\n",
       "    </tr>\n",
       "  </thead>\n",
       "  <tbody>\n",
       "    <tr>\n",
       "      <th>0</th>\n",
       "      <td>0</td>\n",
       "      <td>male</td>\n",
       "      <td>22.0</td>\n",
       "      <td>1</td>\n",
       "      <td>0</td>\n",
       "      <td>7.2500</td>\n",
       "      <td>Third</td>\n",
       "      <td>unknown</td>\n",
       "      <td>Southampton</td>\n",
       "      <td>n</td>\n",
       "    </tr>\n",
       "    <tr>\n",
       "      <th>1</th>\n",
       "      <td>1</td>\n",
       "      <td>female</td>\n",
       "      <td>38.0</td>\n",
       "      <td>1</td>\n",
       "      <td>0</td>\n",
       "      <td>71.2833</td>\n",
       "      <td>First</td>\n",
       "      <td>C</td>\n",
       "      <td>Cherbourg</td>\n",
       "      <td>n</td>\n",
       "    </tr>\n",
       "    <tr>\n",
       "      <th>2</th>\n",
       "      <td>1</td>\n",
       "      <td>female</td>\n",
       "      <td>26.0</td>\n",
       "      <td>0</td>\n",
       "      <td>0</td>\n",
       "      <td>7.9250</td>\n",
       "      <td>Third</td>\n",
       "      <td>unknown</td>\n",
       "      <td>Southampton</td>\n",
       "      <td>y</td>\n",
       "    </tr>\n",
       "    <tr>\n",
       "      <th>3</th>\n",
       "      <td>1</td>\n",
       "      <td>female</td>\n",
       "      <td>35.0</td>\n",
       "      <td>1</td>\n",
       "      <td>0</td>\n",
       "      <td>53.1000</td>\n",
       "      <td>First</td>\n",
       "      <td>C</td>\n",
       "      <td>Southampton</td>\n",
       "      <td>n</td>\n",
       "    </tr>\n",
       "    <tr>\n",
       "      <th>4</th>\n",
       "      <td>0</td>\n",
       "      <td>male</td>\n",
       "      <td>28.0</td>\n",
       "      <td>0</td>\n",
       "      <td>0</td>\n",
       "      <td>8.4583</td>\n",
       "      <td>Third</td>\n",
       "      <td>unknown</td>\n",
       "      <td>Queenstown</td>\n",
       "      <td>y</td>\n",
       "    </tr>\n",
       "  </tbody>\n",
       "</table>\n",
       "</div>"
      ],
      "text/plain": [
       "   survived     sex   age  n_siblings_spouses  parch     fare  class     deck  \\\n",
       "0         0    male  22.0                   1      0   7.2500  Third  unknown   \n",
       "1         1  female  38.0                   1      0  71.2833  First        C   \n",
       "2         1  female  26.0                   0      0   7.9250  Third  unknown   \n",
       "3         1  female  35.0                   1      0  53.1000  First        C   \n",
       "4         0    male  28.0                   0      0   8.4583  Third  unknown   \n",
       "\n",
       "   embark_town alone  \n",
       "0  Southampton     n  \n",
       "1    Cherbourg     n  \n",
       "2  Southampton     y  \n",
       "3  Southampton     n  \n",
       "4   Queenstown     y  "
      ]
     },
     "execution_count": 3,
     "metadata": {},
     "output_type": "execute_result"
    }
   ],
   "source": [
    "train_data.head()"
   ]
  },
  {
   "cell_type": "code",
   "execution_count": 4,
   "id": "8fa85dc1",
   "metadata": {
    "execution": {
     "iopub.execute_input": "2021-11-01T07:23:29.385250Z",
     "iopub.status.busy": "2021-11-01T07:23:29.384470Z",
     "iopub.status.idle": "2021-11-01T07:23:29.387283Z",
     "shell.execute_reply": "2021-11-01T07:23:29.387943Z",
     "shell.execute_reply.started": "2021-11-01T07:02:57.930159Z"
    },
    "papermill": {
     "duration": 0.066954,
     "end_time": "2021-11-01T07:23:29.388163",
     "exception": false,
     "start_time": "2021-11-01T07:23:29.321209",
     "status": "completed"
    },
    "tags": []
   },
   "outputs": [
    {
     "data": {
      "text/plain": [
       "(264, 10)"
      ]
     },
     "execution_count": 4,
     "metadata": {},
     "output_type": "execute_result"
    }
   ],
   "source": [
    "train_data.shape\n",
    "test_data.shape"
   ]
  },
  {
   "cell_type": "code",
   "execution_count": 5,
   "id": "5127dd0a",
   "metadata": {
    "execution": {
     "iopub.execute_input": "2021-11-01T07:23:29.510137Z",
     "iopub.status.busy": "2021-11-01T07:23:29.509256Z",
     "iopub.status.idle": "2021-11-01T07:23:29.527152Z",
     "shell.execute_reply": "2021-11-01T07:23:29.528246Z",
     "shell.execute_reply.started": "2021-11-01T07:02:58.403764Z"
    },
    "papermill": {
     "duration": 0.080704,
     "end_time": "2021-11-01T07:23:29.528545",
     "exception": false,
     "start_time": "2021-11-01T07:23:29.447841",
     "status": "completed"
    },
    "tags": []
   },
   "outputs": [
    {
     "name": "stdout",
     "output_type": "stream",
     "text": [
      "The non-numerical columns in the training dataset are: \n",
      "['sex' 'class' 'deck' 'embark_town' 'alone']\n"
     ]
    }
   ],
   "source": [
    "#identifying categorical columns \n",
    "cat_cols = train_data.select_dtypes(include=object).columns.values\n",
    "print('The non-numerical columns in the training dataset are: ')\n",
    "print(cat_cols)"
   ]
  },
  {
   "cell_type": "markdown",
   "id": "09fa626c",
   "metadata": {
    "papermill": {
     "duration": 0.058862,
     "end_time": "2021-11-01T07:23:29.647214",
     "exception": false,
     "start_time": "2021-11-01T07:23:29.588352",
     "status": "completed"
    },
    "tags": []
   },
   "source": [
    "# Exploratory analysis"
   ]
  },
  {
   "cell_type": "code",
   "execution_count": 6,
   "id": "5a30c4ec",
   "metadata": {
    "execution": {
     "iopub.execute_input": "2021-11-01T07:23:29.768472Z",
     "iopub.status.busy": "2021-11-01T07:23:29.767686Z",
     "iopub.status.idle": "2021-11-01T07:23:29.776468Z",
     "shell.execute_reply": "2021-11-01T07:23:29.776985Z",
     "shell.execute_reply.started": "2021-11-01T07:02:59.351906Z"
    },
    "papermill": {
     "duration": 0.071395,
     "end_time": "2021-11-01T07:23:29.777217",
     "exception": false,
     "start_time": "2021-11-01T07:23:29.705822",
     "status": "completed"
    },
    "tags": []
   },
   "outputs": [
    {
     "name": "stdout",
     "output_type": "stream",
     "text": [
      "Total probability of survival for all passengers -->  0.3876\n"
     ]
    }
   ],
   "source": [
    "print(\"Total probability of survival for all passengers -->  {:.4f}\".format(train_data.survived.mean()))"
   ]
  },
  {
   "cell_type": "code",
   "execution_count": 7,
   "id": "82967d8d",
   "metadata": {
    "execution": {
     "iopub.execute_input": "2021-11-01T07:23:29.901475Z",
     "iopub.status.busy": "2021-11-01T07:23:29.900700Z",
     "iopub.status.idle": "2021-11-01T07:23:29.931415Z",
     "shell.execute_reply": "2021-11-01T07:23:29.932029Z",
     "shell.execute_reply.started": "2021-11-01T07:02:59.807100Z"
    },
    "papermill": {
     "duration": 0.094682,
     "end_time": "2021-11-01T07:23:29.932253",
     "exception": false,
     "start_time": "2021-11-01T07:23:29.837571",
     "status": "completed"
    },
    "tags": []
   },
   "outputs": [
    {
     "name": "stdout",
     "output_type": "stream",
     "text": [
      "Survival probability for female in first class: 0.9710\n",
      "Survival probability for female in second class:0.9091\n",
      "Survival probability for female in third class: 0.5591\n",
      "\n",
      "Survival probability for male in first class: 0.3778\n",
      "Survival probability for male in second class: 0.1111\n",
      "Survival probability for male in third class: 0.1290\n"
     ]
    }
   ],
   "source": [
    "print(\"Survival probability for female in first class: {:.4f}\".format(len(train_data[(train_data[\"survived\"]==1) & (train_data[\"sex\"]==\"female\") & (train_data[\"class\"]=='First')].index) / len(train_data[(train_data[\"sex\"]==\"female\") & (train_data[\"class\"]=='First')].index)))\n",
    "print(\"Survival probability for female in second class:{:.4f}\".format(len(train_data[(train_data[\"survived\"]==1) & (train_data[\"sex\"]==\"female\") & (train_data[\"class\"]=='Second')].index) / len(train_data[(train_data[\"sex\"]==\"female\") & (train_data[\"class\"]=='Second')].index)))\n",
    "print(\"Survival probability for female in third class: {:.4f}\".format(len(train_data[(train_data[\"survived\"]==1) & (train_data[\"sex\"]==\"female\") & (train_data[\"class\"]=='Third')].index) / len(train_data[(train_data[\"sex\"]==\"female\") & (train_data[\"class\"]=='Third')].index)))\n",
    "print(\"\")\n",
    "print(\"Survival probability for male in first class: {:.4f}\".format(len(train_data[(train_data[\"survived\"]==1) & (train_data[\"sex\"]==\"male\") & (train_data[\"class\"]=='First')].index) / len(train_data[(train_data[\"sex\"]==\"male\") & (train_data[\"class\"]=='First')].index)))\n",
    "print(\"Survival probability for male in second class: {:.4f}\".format(len(train_data[(train_data[\"survived\"]==1) & (train_data[\"sex\"]==\"male\") & (train_data[\"class\"]=='Second')].index) / len(train_data[(train_data[\"sex\"]==\"male\") & (train_data[\"class\"]=='Second')].index)))\n",
    "print(\"Survival probability for male in third class: {:.4f}\".format(len(train_data[(train_data[\"survived\"]==1) & (train_data[\"sex\"]==\"male\") & (train_data[\"class\"]=='Third')].index) / len(train_data[(train_data[\"sex\"]==\"male\") & (train_data[\"class\"]=='Third')].index)))"
   ]
  },
  {
   "cell_type": "code",
   "execution_count": 8,
   "id": "e7c1ea0a",
   "metadata": {
    "execution": {
     "iopub.execute_input": "2021-11-01T07:23:30.058432Z",
     "iopub.status.busy": "2021-11-01T07:23:30.057632Z",
     "iopub.status.idle": "2021-11-01T07:23:30.070662Z",
     "shell.execute_reply": "2021-11-01T07:23:30.071603Z",
     "shell.execute_reply.started": "2021-11-01T07:03:00.164890Z"
    },
    "papermill": {
     "duration": 0.077703,
     "end_time": "2021-11-01T07:23:30.071914",
     "exception": false,
     "start_time": "2021-11-01T07:23:29.994211",
     "status": "completed"
    },
    "tags": []
   },
   "outputs": [
    {
     "name": "stdout",
     "output_type": "stream",
     "text": [
      "Average fare of all passengers: 34.3854\n",
      "Average fare for First class:  89.0598\n",
      "Average fare for Second class:  20.5946\n",
      "Average fare for Third class:  14.0282\n"
     ]
    }
   ],
   "source": [
    "print(\"Average fare of all passengers: {:.4f}\".format(train_data.fare.mean()))\n",
    "# How much you have to pay for the different classes in average?? (price unit is £/pounds)\n",
    "print(\"Average fare for First class:  {:.4f}\".format(train_data[train_data[\"class\"]=='First'].fare.mean()))\n",
    "print(\"Average fare for Second class:  {:.4f}\".format(train_data[train_data[\"class\"]=='Second'].fare.mean()))\n",
    "print(\"Average fare for Third class:  {:.4f}\".format(train_data[train_data[\"class\"]=='Third'].fare.mean()))"
   ]
  },
  {
   "cell_type": "code",
   "execution_count": 9,
   "id": "4b469813",
   "metadata": {
    "execution": {
     "iopub.execute_input": "2021-11-01T07:23:30.201596Z",
     "iopub.status.busy": "2021-11-01T07:23:30.197366Z",
     "iopub.status.idle": "2021-11-01T07:23:30.205333Z",
     "shell.execute_reply": "2021-11-01T07:23:30.204621Z",
     "shell.execute_reply.started": "2021-11-01T07:03:01.185508Z"
    },
    "papermill": {
     "duration": 0.072319,
     "end_time": "2021-11-01T07:23:30.205519",
     "exception": false,
     "start_time": "2021-11-01T07:23:30.133200",
     "status": "completed"
    },
    "tags": []
   },
   "outputs": [
    {
     "name": "stdout",
     "output_type": "stream",
     "text": [
      "Average age of all passengers: 29.6\n",
      "Age of oldest passenger: 80.0\n",
      "Age of youngest passenger: 0.8\n"
     ]
    }
   ],
   "source": [
    "# average age of all passengers\n",
    "print(\"Average age of all passengers: {0:.1f}\".format(train_data.age.mean()))\n",
    "print(\"Age of oldest passenger: {:.1f}\".format(train_data.age.max()))\n",
    "print(\"Age of youngest passenger: {:.1f}\".format(train_data.age.min()))"
   ]
  },
  {
   "cell_type": "code",
   "execution_count": 10,
   "id": "0b6d615c",
   "metadata": {
    "execution": {
     "iopub.execute_input": "2021-11-01T07:23:30.337931Z",
     "iopub.status.busy": "2021-11-01T07:23:30.337103Z",
     "iopub.status.idle": "2021-11-01T07:23:30.553595Z",
     "shell.execute_reply": "2021-11-01T07:23:30.554208Z",
     "shell.execute_reply.started": "2021-11-01T07:03:01.779889Z"
    },
    "papermill": {
     "duration": 0.285866,
     "end_time": "2021-11-01T07:23:30.554428",
     "exception": false,
     "start_time": "2021-11-01T07:23:30.268562",
     "status": "completed"
    },
    "tags": []
   },
   "outputs": [
    {
     "name": "stderr",
     "output_type": "stream",
     "text": [
      "/opt/conda/lib/python3.7/site-packages/seaborn/_decorators.py:43: FutureWarning: Pass the following variable as a keyword arg: x. From version 0.12, the only valid positional argument will be `data`, and passing other arguments without an explicit keyword will result in an error or misinterpretation.\n",
      "  FutureWarning\n"
     ]
    },
    {
     "data": {
      "text/plain": [
       "Text(0.5, 1.0, 'No. of survivors and dead')"
      ]
     },
     "execution_count": 10,
     "metadata": {},
     "output_type": "execute_result"
    },
    {
     "data": {
      "image/png": "[encoded data removed]",
      "text/plain": [
       "<Figure size 432x288 with 1 Axes>"
      ]
     },
     "metadata": {
      "needs_background": "light"
     },
     "output_type": "display_data"
    }
   ],
   "source": [
    "sns.countplot(train_data.survived)\n",
    "plt.title(\"No. of survivors and dead\")"
   ]
  },
  {
   "cell_type": "code",
   "execution_count": 11,
   "id": "0cdff0c8",
   "metadata": {
    "execution": {
     "iopub.execute_input": "2021-11-01T07:23:30.684512Z",
     "iopub.status.busy": "2021-11-01T07:23:30.683336Z",
     "iopub.status.idle": "2021-11-01T07:23:30.857322Z",
     "shell.execute_reply": "2021-11-01T07:23:30.857901Z",
     "shell.execute_reply.started": "2021-11-01T07:03:10.888928Z"
    },
    "papermill": {
     "duration": 0.24154,
     "end_time": "2021-11-01T07:23:30.858139",
     "exception": false,
     "start_time": "2021-11-01T07:23:30.616599",
     "status": "completed"
    },
    "tags": []
   },
   "outputs": [
    {
     "data": {
      "image/png": "[encoded data removed]",
      "text/plain": [
       "<Figure size 432x288 with 1 Axes>"
      ]
     },
     "metadata": {
      "needs_background": "light"
     },
     "output_type": "display_data"
    }
   ],
   "source": [
    "sns.countplot(x=\"survived\", hue=\"sex\", data=train_data)\n",
    "plt.title(\"No. of people survived and died according to sex\")\n",
    "plt.show()"
   ]
  },
  {
   "cell_type": "code",
   "execution_count": 12,
   "id": "b091be73",
   "metadata": {
    "execution": {
     "iopub.execute_input": "2021-11-01T07:23:30.989200Z",
     "iopub.status.busy": "2021-11-01T07:23:30.988107Z",
     "iopub.status.idle": "2021-11-01T07:23:31.163915Z",
     "shell.execute_reply": "2021-11-01T07:23:31.163107Z",
     "shell.execute_reply.started": "2021-11-01T07:03:11.351060Z"
    },
    "papermill": {
     "duration": 0.24305,
     "end_time": "2021-11-01T07:23:31.164103",
     "exception": false,
     "start_time": "2021-11-01T07:23:30.921053",
     "status": "completed"
    },
    "tags": []
   },
   "outputs": [
    {
     "data": {
      "image/png": "[encoded data removed]",
      "text/plain": [
       "<Figure size 432x288 with 1 Axes>"
      ]
     },
     "metadata": {
      "needs_background": "light"
     },
     "output_type": "display_data"
    }
   ],
   "source": [
    "sns.countplot(x=\"survived\", hue=\"class\", data=train_data)\n",
    "plt.title(\"No. of people survived from class\")\n",
    "plt.show()"
   ]
  },
  {
   "cell_type": "code",
   "execution_count": 13,
   "id": "e1bbb10f",
   "metadata": {
    "execution": {
     "iopub.execute_input": "2021-11-01T07:23:31.294391Z",
     "iopub.status.busy": "2021-11-01T07:23:31.293538Z",
     "iopub.status.idle": "2021-11-01T07:23:31.599692Z",
     "shell.execute_reply": "2021-11-01T07:23:31.600258Z",
     "shell.execute_reply.started": "2021-11-01T07:03:11.830009Z"
    },
    "papermill": {
     "duration": 0.372866,
     "end_time": "2021-11-01T07:23:31.600470",
     "exception": false,
     "start_time": "2021-11-01T07:23:31.227604",
     "status": "completed"
    },
    "tags": []
   },
   "outputs": [
    {
     "name": "stderr",
     "output_type": "stream",
     "text": [
      "/opt/conda/lib/python3.7/site-packages/seaborn/distributions.py:2619: FutureWarning: `distplot` is a deprecated function and will be removed in a future version. Please adapt your code to use either `displot` (a figure-level function with similar flexibility) or `histplot` (an axes-level function for histograms).\n",
      "  warnings.warn(msg, FutureWarning)\n"
     ]
    },
    {
     "data": {
      "image/png": "[encoded data removed]",
      "text/plain": [
       "<Figure size 432x288 with 1 Axes>"
      ]
     },
     "metadata": {
      "needs_background": "light"
     },
     "output_type": "display_data"
    }
   ],
   "source": [
    "#fare distribution\n",
    "sns.distplot(train_data.fare)\n",
    "plt.title('Fare Distribution')\n",
    "plt.show()\n"
   ]
  },
  {
   "cell_type": "code",
   "execution_count": 14,
   "id": "2fee744f",
   "metadata": {
    "execution": {
     "iopub.execute_input": "2021-11-01T07:23:31.755233Z",
     "iopub.status.busy": "2021-11-01T07:23:31.743464Z",
     "iopub.status.idle": "2021-11-01T07:23:31.965118Z",
     "shell.execute_reply": "2021-11-01T07:23:31.964483Z",
     "shell.execute_reply.started": "2021-11-01T07:03:12.352769Z"
    },
    "papermill": {
     "duration": 0.300594,
     "end_time": "2021-11-01T07:23:31.965494",
     "exception": false,
     "start_time": "2021-11-01T07:23:31.664900",
     "status": "completed"
    },
    "tags": []
   },
   "outputs": [
    {
     "name": "stderr",
     "output_type": "stream",
     "text": [
      "/opt/conda/lib/python3.7/site-packages/seaborn/distributions.py:2619: FutureWarning: `distplot` is a deprecated function and will be removed in a future version. Please adapt your code to use either `displot` (a figure-level function with similar flexibility) or `histplot` (an axes-level function for histograms).\n",
      "  warnings.warn(msg, FutureWarning)\n"
     ]
    },
    {
     "data": {
      "image/png": "[encoded data removed]",
      "text/plain": [
       "<Figure size 432x288 with 1 Axes>"
      ]
     },
     "metadata": {
      "needs_background": "light"
     },
     "output_type": "display_data"
    }
   ],
   "source": [
    "#fare distribution\n",
    "sns.distplot(train_data.age)\n",
    "plt.title('Age Distribution')\n",
    "plt.show()\n"
   ]
  },
  {
   "cell_type": "code",
   "execution_count": 15,
   "id": "3dd7dfeb",
   "metadata": {
    "execution": {
     "iopub.execute_input": "2021-11-01T07:23:32.138105Z",
     "iopub.status.busy": "2021-11-01T07:23:32.114919Z",
     "iopub.status.idle": "2021-11-01T07:23:32.373524Z",
     "shell.execute_reply": "2021-11-01T07:23:32.374116Z",
     "shell.execute_reply.started": "2021-11-01T07:03:12.924520Z"
    },
    "papermill": {
     "duration": 0.334652,
     "end_time": "2021-11-01T07:23:32.374322",
     "exception": false,
     "start_time": "2021-11-01T07:23:32.039670",
     "status": "completed"
    },
    "tags": []
   },
   "outputs": [
    {
     "name": "stderr",
     "output_type": "stream",
     "text": [
      "/opt/conda/lib/python3.7/site-packages/seaborn/distributions.py:2619: FutureWarning: `distplot` is a deprecated function and will be removed in a future version. Please adapt your code to use either `displot` (a figure-level function with similar flexibility) or `histplot` (an axes-level function for histograms).\n",
      "  warnings.warn(msg, FutureWarning)\n"
     ]
    },
    {
     "data": {
      "image/png": "[encoded data removed]",
      "text/plain": [
       "<Figure size 432x288 with 1 Axes>"
      ]
     },
     "metadata": {
      "needs_background": "light"
     },
     "output_type": "display_data"
    }
   ],
   "source": [
    "sns.distplot(train_data[\"n_siblings_spouses\"], kde=False)\n",
    "plt.title(\"Number of siblings and spouses on board of each passenger\")\n",
    "plt.show()"
   ]
  },
  {
   "cell_type": "code",
   "execution_count": 16,
   "id": "1f7c6173",
   "metadata": {
    "execution": {
     "iopub.execute_input": "2021-11-01T07:23:32.546826Z",
     "iopub.status.busy": "2021-11-01T07:23:32.517711Z",
     "iopub.status.idle": "2021-11-01T07:23:32.717134Z",
     "shell.execute_reply": "2021-11-01T07:23:32.717694Z",
     "shell.execute_reply.started": "2021-11-01T07:03:13.447159Z"
    },
    "papermill": {
     "duration": 0.27646,
     "end_time": "2021-11-01T07:23:32.717950",
     "exception": false,
     "start_time": "2021-11-01T07:23:32.441490",
     "status": "completed"
    },
    "tags": []
   },
   "outputs": [
    {
     "data": {
      "image/png": "[encoded data removed]",
      "text/plain": [
       "<Figure size 432x288 with 1 Axes>"
      ]
     },
     "metadata": {
      "needs_background": "light"
     },
     "output_type": "display_data"
    }
   ],
   "source": [
    "sns.distplot(train_data.parch, kde=False)\n",
    "plt.title(\"Number of siblings and spouses on board of each passenger\")\n",
    "plt.show()"
   ]
  },
  {
   "cell_type": "markdown",
   "id": "dc824620",
   "metadata": {
    "execution": {
     "iopub.execute_input": "2021-10-31T20:24:29.103852Z",
     "iopub.status.busy": "2021-10-31T20:24:29.103052Z",
     "iopub.status.idle": "2021-10-31T20:24:29.110096Z",
     "shell.execute_reply": "2021-10-31T20:24:29.109489Z",
     "shell.execute_reply.started": "2021-10-31T20:24:29.103815Z"
    },
    "papermill": {
     "duration": 0.066854,
     "end_time": "2021-11-01T07:23:32.853196",
     "exception": false,
     "start_time": "2021-11-01T07:23:32.786342",
     "status": "completed"
    },
    "tags": []
   },
   "source": [
    "# Preparing data"
   ]
  },
  {
   "cell_type": "code",
   "execution_count": 17,
   "id": "1da51620",
   "metadata": {
    "execution": {
     "iopub.execute_input": "2021-11-01T07:23:32.998005Z",
     "iopub.status.busy": "2021-11-01T07:23:32.997209Z",
     "iopub.status.idle": "2021-11-01T07:23:32.999071Z",
     "shell.execute_reply": "2021-11-01T07:23:32.999607Z",
     "shell.execute_reply.started": "2021-11-01T07:03:14.570156Z"
    },
    "papermill": {
     "duration": 0.078952,
     "end_time": "2021-11-01T07:23:32.999830",
     "exception": false,
     "start_time": "2021-11-01T07:23:32.920878",
     "status": "completed"
    },
    "tags": []
   },
   "outputs": [],
   "source": [
    "def dataframe_to_arrays(dataframe,normalize = True):\n",
    "    # Make a copy of the original dataframe\n",
    "    df = dataframe.copy(deep=True)\n",
    "    input_cols = df.columns.values[1:]\n",
    "    output_cols = df.columns.values[:1]\n",
    "    # Convert non-numeric categorical columns to numbers\n",
    "    cat_cols = df.select_dtypes(include=object).columns.values\n",
    "    for col in cat_cols:\n",
    "        df[col] = df[col].astype('category').cat.codes #give numerical codes\n",
    "    if normalize:\n",
    "        for col in input_cols:\n",
    "            df[col] = (df[col] - df[col].min()) / (df[col].max() - df[col].min())\n",
    "    # Extract input & outputs as numpy arrays\n",
    "    X = df[input_cols].to_numpy()\n",
    "    y = df[output_cols].to_numpy().reshape(-1,1)\n",
    "    return X,y"
   ]
  },
  {
   "cell_type": "code",
   "execution_count": 18,
   "id": "3194196f",
   "metadata": {
    "execution": {
     "iopub.execute_input": "2021-11-01T07:23:33.137714Z",
     "iopub.status.busy": "2021-11-01T07:23:33.137055Z",
     "iopub.status.idle": "2021-11-01T07:23:33.167732Z",
     "shell.execute_reply": "2021-11-01T07:23:33.168342Z",
     "shell.execute_reply.started": "2021-11-01T07:03:15.106786Z"
    },
    "papermill": {
     "duration": 0.101766,
     "end_time": "2021-11-01T07:23:33.168598",
     "exception": false,
     "start_time": "2021-11-01T07:23:33.066832",
     "status": "completed"
    },
    "tags": []
   },
   "outputs": [],
   "source": [
    "Xtrain,ytrain = dataframe_to_arrays(train_data)\n",
    "Xtest,ytest = dataframe_to_arrays(test_data)"
   ]
  },
  {
   "cell_type": "code",
   "execution_count": 19,
   "id": "1089b898",
   "metadata": {
    "execution": {
     "iopub.execute_input": "2021-11-01T07:23:33.307502Z",
     "iopub.status.busy": "2021-11-01T07:23:33.306665Z",
     "iopub.status.idle": "2021-11-01T07:23:33.408965Z",
     "shell.execute_reply": "2021-11-01T07:23:33.408361Z",
     "shell.execute_reply.started": "2021-11-01T07:03:15.648400Z"
    },
    "papermill": {
     "duration": 0.173061,
     "end_time": "2021-11-01T07:23:33.409142",
     "exception": false,
     "start_time": "2021-11-01T07:23:33.236081",
     "status": "completed"
    },
    "tags": []
   },
   "outputs": [
    {
     "name": "stdout",
     "output_type": "stream",
     "text": [
      "Training size: 627\n",
      "Labels: tensor([0., 1.])\n",
      "Counts: tensor([384, 243])\n"
     ]
    }
   ],
   "source": [
    "#Converting to tensors\n",
    "X_train = torch.FloatTensor(Xtrain)\n",
    "X_test = torch.FloatTensor(Xtest)\n",
    "y_train = torch.FloatTensor(ytrain)\n",
    "y_test = torch.FloatTensor(ytest)\n",
    "print(f'Training size: {len(y_train)}')\n",
    "labels, counts = y_train.unique(return_counts=True)\n",
    "print(f'Labels: {labels}\\nCounts: {counts}')"
   ]
  },
  {
   "cell_type": "code",
   "execution_count": 20,
   "id": "0eb58931",
   "metadata": {
    "execution": {
     "iopub.execute_input": "2021-11-01T07:23:33.549281Z",
     "iopub.status.busy": "2021-11-01T07:23:33.548557Z",
     "iopub.status.idle": "2021-11-01T07:23:33.552361Z",
     "shell.execute_reply": "2021-11-01T07:23:33.552927Z",
     "shell.execute_reply.started": "2021-11-01T07:03:16.141134Z"
    },
    "papermill": {
     "duration": 0.074944,
     "end_time": "2021-11-01T07:23:33.553130",
     "exception": false,
     "start_time": "2021-11-01T07:23:33.478186",
     "status": "completed"
    },
    "tags": []
   },
   "outputs": [],
   "source": [
    "#Creating tensor dataset\n",
    "train_dataset = TensorDataset(X_train, y_train)\n",
    "test_dataset = TensorDataset(X_test, y_test)"
   ]
  },
  {
   "cell_type": "code",
   "execution_count": 21,
   "id": "1b0400e4",
   "metadata": {
    "execution": {
     "iopub.execute_input": "2021-11-01T07:23:33.693547Z",
     "iopub.status.busy": "2021-11-01T07:23:33.692843Z",
     "iopub.status.idle": "2021-11-01T07:23:33.707775Z",
     "shell.execute_reply": "2021-11-01T07:23:33.707143Z",
     "shell.execute_reply.started": "2021-11-01T07:03:16.816074Z"
    },
    "papermill": {
     "duration": 0.086971,
     "end_time": "2021-11-01T07:23:33.707948",
     "exception": false,
     "start_time": "2021-11-01T07:23:33.620977",
     "status": "completed"
    },
    "tags": []
   },
   "outputs": [
    {
     "data": {
      "text/plain": [
       "(565, 62)"
      ]
     },
     "execution_count": 21,
     "metadata": {},
     "output_type": "execute_result"
    }
   ],
   "source": [
    "#split train set into train set and validation set\n",
    "split = 0.1\n",
    "val_size = int(split*len(train_dataset))\n",
    "train_size = len(train_dataset) - val_size\n",
    "train_ds, val_ds = random_split(train_dataset, [train_size, val_size])\n",
    "len(train_ds), len(val_ds)"
   ]
  },
  {
   "cell_type": "code",
   "execution_count": 22,
   "id": "08ebea85",
   "metadata": {
    "execution": {
     "iopub.execute_input": "2021-11-01T07:23:33.852864Z",
     "iopub.status.busy": "2021-11-01T07:23:33.851832Z",
     "iopub.status.idle": "2021-11-01T07:23:33.854410Z",
     "shell.execute_reply": "2021-11-01T07:23:33.853876Z",
     "shell.execute_reply.started": "2021-11-01T07:03:17.461416Z"
    },
    "papermill": {
     "duration": 0.077794,
     "end_time": "2021-11-01T07:23:33.854595",
     "exception": false,
     "start_time": "2021-11-01T07:23:33.776801",
     "status": "completed"
    },
    "tags": []
   },
   "outputs": [],
   "source": [
    "#batch size for data loading\n",
    "batch_size = 32\n",
    "train_loader = DataLoader(train_ds, batch_size, shuffle=True)\n",
    "val_loader = DataLoader(val_ds, batch_size)"
   ]
  },
  {
   "cell_type": "code",
   "execution_count": 23,
   "id": "421a14b7",
   "metadata": {
    "execution": {
     "iopub.execute_input": "2021-11-01T07:23:34.000138Z",
     "iopub.status.busy": "2021-11-01T07:23:33.999159Z",
     "iopub.status.idle": "2021-11-01T07:23:34.002632Z",
     "shell.execute_reply": "2021-11-01T07:23:34.003160Z",
     "shell.execute_reply.started": "2021-11-01T07:03:18.118934Z"
    },
    "papermill": {
     "duration": 0.078073,
     "end_time": "2021-11-01T07:23:34.003371",
     "exception": false,
     "start_time": "2021-11-01T07:23:33.925298",
     "status": "completed"
    },
    "tags": []
   },
   "outputs": [
    {
     "data": {
      "text/plain": [
       "(9, 1)"
      ]
     },
     "execution_count": 23,
     "metadata": {},
     "output_type": "execute_result"
    }
   ],
   "source": [
    "number_of_features = (Xtrain.shape[1])\n",
    "number_of_outputs = (ytrain.shape[1])\n",
    "number_of_features,number_of_outputs"
   ]
  },
  {
   "cell_type": "markdown",
   "id": "160a18b1",
   "metadata": {
    "papermill": {
     "duration": 0.06767,
     "end_time": "2021-11-01T07:23:34.141731",
     "exception": false,
     "start_time": "2021-11-01T07:23:34.074061",
     "status": "completed"
    },
    "tags": []
   },
   "source": [
    "# Performing regression modelling with Pytorch"
   ]
  },
  {
   "cell_type": "code",
   "execution_count": 24,
   "id": "650cf231",
   "metadata": {
    "execution": {
     "iopub.execute_input": "2021-11-01T07:23:34.285170Z",
     "iopub.status.busy": "2021-11-01T07:23:34.284033Z",
     "iopub.status.idle": "2021-11-01T07:23:34.286550Z",
     "shell.execute_reply": "2021-11-01T07:23:34.286022Z",
     "shell.execute_reply.started": "2021-11-01T07:03:52.704814Z"
    },
    "papermill": {
     "duration": 0.076754,
     "end_time": "2021-11-01T07:23:34.286730",
     "exception": false,
     "start_time": "2021-11-01T07:23:34.209976",
     "status": "completed"
    },
    "tags": []
   },
   "outputs": [],
   "source": [
    "def accuracy(preds, targets):\n",
    "    return torch.tensor(torch.sum(preds.round() == targets).item() / len(preds))"
   ]
  },
  {
   "cell_type": "markdown",
   "id": "c8a6d55a",
   "metadata": {
    "papermill": {
     "duration": 0.068477,
     "end_time": "2021-11-01T07:23:34.424395",
     "exception": false,
     "start_time": "2021-11-01T07:23:34.355918",
     "status": "completed"
    },
    "tags": []
   },
   "source": [
    "## Linear regression model"
   ]
  },
  {
   "cell_type": "markdown",
   "id": "c2adb370",
   "metadata": {
    "papermill": {
     "duration": 0.067427,
     "end_time": "2021-11-01T07:23:34.559942",
     "exception": false,
     "start_time": "2021-11-01T07:23:34.492515",
     "status": "completed"
    },
    "tags": []
   },
   "source": [
    "### Creating the model"
   ]
  },
  {
   "cell_type": "code",
   "execution_count": 25,
   "id": "1f0cd8a7",
   "metadata": {
    "execution": {
     "iopub.execute_input": "2021-11-01T07:23:34.705964Z",
     "iopub.status.busy": "2021-11-01T07:23:34.704737Z",
     "iopub.status.idle": "2021-11-01T07:23:34.710400Z",
     "shell.execute_reply": "2021-11-01T07:23:34.710978Z",
     "shell.execute_reply.started": "2021-11-01T07:03:54.274748Z"
    },
    "papermill": {
     "duration": 0.083624,
     "end_time": "2021-11-01T07:23:34.711226",
     "exception": false,
     "start_time": "2021-11-01T07:23:34.627602",
     "status": "completed"
    },
    "tags": []
   },
   "outputs": [],
   "source": [
    "class Titanic_Model_1(nn.Module):\n",
    "    def __init__(self, in_features, out_features):\n",
    "        super().__init__()\n",
    "        self.linear = nn.Linear(in_features, out_features)\n",
    "        \n",
    "    def forward(self, x):\n",
    "        y_pred = self.linear(x)\n",
    "        return y_pred\n",
    "    \n",
    "    \n",
    "    def training_step(self, batch):\n",
    "        inputs, targets = batch \n",
    "        # Generate predictions \n",
    "        y_pred = self(inputs)        \n",
    "        # Calcuate loss\n",
    "        loss = F.mse_loss(y_pred, targets)                          \n",
    "        return loss\n",
    "    \n",
    "    def validation_step(self, batch):\n",
    "        inputs, targets = batch\n",
    "        # Generate predictions\n",
    "        y_pred = self(inputs)       \n",
    "        # Calcuate loss\n",
    "        loss = F.mse_loss(y_pred, targets)                           \n",
    "        return {'val_loss': loss.detach()}\n",
    "        \n",
    "    def validation_epoch_end(self, outputs):\n",
    "        batch_losses = [x['val_loss'] for x in outputs]\n",
    "        epoch_loss = torch.stack(batch_losses).mean() \n",
    "        return {'val_loss': epoch_loss.item()}\n",
    "    \n",
    "    def epoch_end(self, epoch, result, num_epochs):\n",
    "        print(\"Epoch [{}], val_loss: {:.4f}\".format(epoch+1,result['val_loss']))"
   ]
  },
  {
   "cell_type": "code",
   "execution_count": 26,
   "id": "0a4eb35e",
   "metadata": {
    "execution": {
     "iopub.execute_input": "2021-11-01T07:23:34.854200Z",
     "iopub.status.busy": "2021-11-01T07:23:34.853134Z",
     "iopub.status.idle": "2021-11-01T07:23:34.873683Z",
     "shell.execute_reply": "2021-11-01T07:23:34.872675Z",
     "shell.execute_reply.started": "2021-11-01T07:03:54.746578Z"
    },
    "papermill": {
     "duration": 0.093074,
     "end_time": "2021-11-01T07:23:34.874095",
     "exception": false,
     "start_time": "2021-11-01T07:23:34.781021",
     "status": "completed"
    },
    "tags": []
   },
   "outputs": [
    {
     "name": "stdout",
     "output_type": "stream",
     "text": [
      "torch.Size([1, 9]) torch.Size([1])\n"
     ]
    },
    {
     "data": {
      "text/plain": [
       "[Parameter containing:\n",
       " tensor([[-0.3135,  0.1761, -0.3325,  0.1749,  0.3216,  0.0171, -0.0834, -0.3094,\n",
       "           0.1834]], requires_grad=True),\n",
       " Parameter containing:\n",
       " tensor([-0.2123], requires_grad=True)]"
      ]
     },
     "execution_count": 26,
     "metadata": {},
     "output_type": "execute_result"
    }
   ],
   "source": [
    "model = Titanic_Model_1(number_of_features,number_of_outputs)\n",
    "print(model.linear.weight.shape, model.linear.bias.shape)\n",
    "list(model.parameters())"
   ]
  },
  {
   "cell_type": "code",
   "execution_count": 27,
   "id": "1e9f537d",
   "metadata": {
    "execution": {
     "iopub.execute_input": "2021-11-01T07:23:35.026235Z",
     "iopub.status.busy": "2021-11-01T07:23:35.025145Z",
     "iopub.status.idle": "2021-11-01T07:23:35.031920Z",
     "shell.execute_reply": "2021-11-01T07:23:35.030916Z",
     "shell.execute_reply.started": "2021-11-01T07:03:55.616924Z"
    },
    "papermill": {
     "duration": 0.086848,
     "end_time": "2021-11-01T07:23:35.032207",
     "exception": false,
     "start_time": "2021-11-01T07:23:34.945359",
     "status": "completed"
    },
    "tags": []
   },
   "outputs": [
    {
     "data": {
      "text/plain": [
       "Index(['sex', 'age', 'n_siblings_spouses', 'parch', 'fare', 'class', 'deck',\n",
       "       'embark_town', 'alone'],\n",
       "      dtype='object')"
      ]
     },
     "execution_count": 27,
     "metadata": {},
     "output_type": "execute_result"
    }
   ],
   "source": [
    "train_data.columns[1:]"
   ]
  },
  {
   "cell_type": "markdown",
   "id": "e0a869ef",
   "metadata": {
    "papermill": {
     "duration": 0.073853,
     "end_time": "2021-11-01T07:23:35.202494",
     "exception": false,
     "start_time": "2021-11-01T07:23:35.128641",
     "status": "completed"
    },
    "tags": []
   },
   "source": [
    "## Training the model"
   ]
  },
  {
   "cell_type": "code",
   "execution_count": 28,
   "id": "74071a29",
   "metadata": {
    "execution": {
     "iopub.execute_input": "2021-11-01T07:23:35.361601Z",
     "iopub.status.busy": "2021-11-01T07:23:35.356956Z",
     "iopub.status.idle": "2021-11-01T07:23:35.365398Z",
     "shell.execute_reply": "2021-11-01T07:23:35.364568Z",
     "shell.execute_reply.started": "2021-11-01T07:03:56.877856Z"
    },
    "papermill": {
     "duration": 0.089774,
     "end_time": "2021-11-01T07:23:35.365575",
     "exception": false,
     "start_time": "2021-11-01T07:23:35.275801",
     "status": "completed"
    },
    "tags": []
   },
   "outputs": [],
   "source": [
    "def evaluate(model, val_loader):\n",
    "    outputs = [model.validation_step(batch) for batch in val_loader]\n",
    "    return model.validation_epoch_end(outputs)\n",
    "\n",
    "def get_lr(optimizer):\n",
    "    for param_group in optimizer.param_groups:\n",
    "        return param_group['lr']\n",
    "\n",
    "def fit(epochs, lr, model, train_loader, val_loader, weight_decay = 0, grad_clip = None,opt_func=torch.optim.SGD):\n",
    "    history = []\n",
    "    #Setting up optimizer\n",
    "    optimizer = opt_func(model.parameters(), lr, weight_decay = weight_decay)\n",
    "    #Learning rate scheduler\n",
    "    sched = torch.optim.lr_scheduler.OneCycleLR(optimizer, lr, epochs=epochs, \n",
    "                                                steps_per_epoch=len(train_loader))\n",
    "    for epoch in range(epochs):\n",
    "        # Training Phase \n",
    "        model.train()\n",
    "        train_losses = []\n",
    "        lrs = []\n",
    "        for batch in train_loader:\n",
    "            loss = model.training_step(batch)\n",
    "            train_losses.append(loss)\n",
    "            loss.backward()\n",
    "            # Gradient clipping\n",
    "            if grad_clip: \n",
    "                nn.utils.clip_grad_value_(model.parameters(), grad_clip)\n",
    "            #update parameters\n",
    "            optimizer.step()\n",
    "            #make gradient of all model parameters zero to avoid compounding\n",
    "            optimizer.zero_grad()\n",
    "            # Record & update learning rate\n",
    "            lrs.append(get_lr(optimizer))\n",
    "            sched.step()\n",
    "            \n",
    "        # Validation phase\n",
    "        result = evaluate(model, val_loader)\n",
    "        result['train_loss'] = torch.stack(train_losses).mean().item()\n",
    "        result['lrs'] = lrs\n",
    "        model.epoch_end(epoch,result,epochs)\n",
    "        history.append(result)\n",
    "    return history"
   ]
  },
  {
   "cell_type": "code",
   "execution_count": 29,
   "id": "02ebea20",
   "metadata": {
    "execution": {
     "iopub.execute_input": "2021-11-01T07:23:35.513198Z",
     "iopub.status.busy": "2021-11-01T07:23:35.512385Z",
     "iopub.status.idle": "2021-11-01T07:23:35.547546Z",
     "shell.execute_reply": "2021-11-01T07:23:35.548126Z",
     "shell.execute_reply.started": "2021-11-01T07:03:57.622986Z"
    },
    "papermill": {
     "duration": 0.111302,
     "end_time": "2021-11-01T07:23:35.548388",
     "exception": false,
     "start_time": "2021-11-01T07:23:35.437086",
     "status": "completed"
    },
    "tags": []
   },
   "outputs": [
    {
     "name": "stdout",
     "output_type": "stream",
     "text": [
      "{'val_loss': 0.8798947334289551}\n"
     ]
    }
   ],
   "source": [
    "result = evaluate(model, val_loader) \n",
    "print(result)"
   ]
  },
  {
   "cell_type": "code",
   "execution_count": 30,
   "id": "4164cdda",
   "metadata": {
    "execution": {
     "iopub.execute_input": "2021-11-01T07:23:35.694562Z",
     "iopub.status.busy": "2021-11-01T07:23:35.693660Z",
     "iopub.status.idle": "2021-11-01T07:23:37.409712Z",
     "shell.execute_reply": "2021-11-01T07:23:37.409014Z",
     "shell.execute_reply.started": "2021-11-01T07:03:58.607122Z"
    },
    "papermill": {
     "duration": 1.791022,
     "end_time": "2021-11-01T07:23:37.409898",
     "exception": false,
     "start_time": "2021-11-01T07:23:35.618876",
     "status": "completed"
    },
    "tags": []
   },
   "outputs": [
    {
     "name": "stdout",
     "output_type": "stream",
     "text": [
      "Epoch [1], val_loss: 0.3569\n",
      "Epoch [2], val_loss: 0.3274\n",
      "Epoch [3], val_loss: 0.2543\n",
      "Epoch [4], val_loss: 0.1863\n",
      "Epoch [5], val_loss: 0.1432\n",
      "Epoch [6], val_loss: 0.1236\n",
      "Epoch [7], val_loss: 0.1166\n",
      "Epoch [8], val_loss: 0.1189\n",
      "Epoch [9], val_loss: 0.1204\n",
      "Epoch [10], val_loss: 0.1190\n",
      "Epoch [11], val_loss: 0.1204\n",
      "Epoch [12], val_loss: 0.1348\n",
      "Epoch [13], val_loss: 0.1437\n",
      "Epoch [14], val_loss: 0.1430\n",
      "Epoch [15], val_loss: 0.1223\n",
      "Epoch [16], val_loss: 0.1142\n",
      "Epoch [17], val_loss: 0.1159\n",
      "Epoch [18], val_loss: 0.1333\n",
      "Epoch [19], val_loss: 0.1238\n",
      "Epoch [20], val_loss: 0.1159\n",
      "Epoch [21], val_loss: 0.1153\n",
      "Epoch [22], val_loss: 0.1256\n",
      "Epoch [23], val_loss: 0.1238\n",
      "Epoch [24], val_loss: 0.1248\n",
      "Epoch [25], val_loss: 0.1257\n",
      "Epoch [26], val_loss: 0.1275\n",
      "Epoch [27], val_loss: 0.1247\n",
      "Epoch [28], val_loss: 0.1215\n",
      "Epoch [29], val_loss: 0.1378\n",
      "Epoch [30], val_loss: 0.1270\n",
      "Epoch [31], val_loss: 0.1413\n",
      "Epoch [32], val_loss: 0.1172\n",
      "Epoch [33], val_loss: 0.1203\n",
      "Epoch [34], val_loss: 0.1346\n",
      "Epoch [35], val_loss: 0.1434\n",
      "Epoch [36], val_loss: 0.1224\n",
      "Epoch [37], val_loss: 0.1161\n",
      "Epoch [38], val_loss: 0.1297\n",
      "Epoch [39], val_loss: 0.1113\n",
      "Epoch [40], val_loss: 0.1192\n",
      "Epoch [41], val_loss: 0.1148\n",
      "Epoch [42], val_loss: 0.1257\n",
      "Epoch [43], val_loss: 0.1235\n",
      "Epoch [44], val_loss: 0.1294\n",
      "Epoch [45], val_loss: 0.1233\n",
      "Epoch [46], val_loss: 0.1217\n",
      "Epoch [47], val_loss: 0.1235\n",
      "Epoch [48], val_loss: 0.1347\n",
      "Epoch [49], val_loss: 0.1197\n",
      "Epoch [50], val_loss: 0.2195\n",
      "Epoch [51], val_loss: 0.1927\n",
      "Epoch [52], val_loss: 0.1319\n",
      "Epoch [53], val_loss: 0.1567\n",
      "Epoch [54], val_loss: 0.1256\n",
      "Epoch [55], val_loss: 0.1193\n",
      "Epoch [56], val_loss: 0.1181\n",
      "Epoch [57], val_loss: 0.1181\n",
      "Epoch [58], val_loss: 0.1141\n",
      "Epoch [59], val_loss: 0.1522\n",
      "Epoch [60], val_loss: 0.1476\n",
      "Epoch [61], val_loss: 0.1362\n",
      "Epoch [62], val_loss: 0.1191\n",
      "Epoch [63], val_loss: 0.1199\n",
      "Epoch [64], val_loss: 0.1362\n",
      "Epoch [65], val_loss: 0.1210\n",
      "Epoch [66], val_loss: 0.1138\n",
      "Epoch [67], val_loss: 0.1194\n",
      "Epoch [68], val_loss: 0.1190\n",
      "Epoch [69], val_loss: 0.1196\n",
      "Epoch [70], val_loss: 0.1186\n",
      "Epoch [71], val_loss: 0.1169\n",
      "Epoch [72], val_loss: 0.1191\n",
      "Epoch [73], val_loss: 0.1191\n",
      "Epoch [74], val_loss: 0.1202\n",
      "Epoch [75], val_loss: 0.1260\n",
      "Epoch [76], val_loss: 0.1179\n",
      "Epoch [77], val_loss: 0.1178\n",
      "Epoch [78], val_loss: 0.1162\n",
      "Epoch [79], val_loss: 0.1159\n",
      "Epoch [80], val_loss: 0.1155\n",
      "Epoch [81], val_loss: 0.1181\n",
      "Epoch [82], val_loss: 0.1173\n",
      "Epoch [83], val_loss: 0.1223\n",
      "Epoch [84], val_loss: 0.1134\n",
      "Epoch [85], val_loss: 0.1154\n",
      "Epoch [86], val_loss: 0.1158\n",
      "Epoch [87], val_loss: 0.1148\n",
      "Epoch [88], val_loss: 0.1167\n",
      "Epoch [89], val_loss: 0.1163\n",
      "Epoch [90], val_loss: 0.1163\n",
      "Epoch [91], val_loss: 0.1155\n",
      "Epoch [92], val_loss: 0.1154\n",
      "Epoch [93], val_loss: 0.1174\n",
      "Epoch [94], val_loss: 0.1159\n",
      "Epoch [95], val_loss: 0.1159\n",
      "Epoch [96], val_loss: 0.1163\n",
      "Epoch [97], val_loss: 0.1164\n",
      "Epoch [98], val_loss: 0.1163\n",
      "Epoch [99], val_loss: 0.1163\n",
      "Epoch [100], val_loss: 0.1163\n"
     ]
    }
   ],
   "source": [
    "epochs = 100\n",
    "lr = 0.1\n",
    "grad_clip = 0.2\n",
    "weight_decay = 1e-2\n",
    "opt_func = torch.optim.SGD\n",
    "\n",
    "history= fit(epochs, lr, model, train_loader, val_loader,weight_decay,grad_clip,opt_func)"
   ]
  },
  {
   "cell_type": "code",
   "execution_count": 31,
   "id": "c2e6542d",
   "metadata": {
    "execution": {
     "iopub.execute_input": "2021-11-01T07:23:37.566875Z",
     "iopub.status.busy": "2021-11-01T07:23:37.566004Z",
     "iopub.status.idle": "2021-11-01T07:23:37.569893Z",
     "shell.execute_reply": "2021-11-01T07:23:37.569297Z",
     "shell.execute_reply.started": "2021-11-01T07:04:04.182332Z"
    },
    "papermill": {
     "duration": 0.086629,
     "end_time": "2021-11-01T07:23:37.570087",
     "exception": false,
     "start_time": "2021-11-01T07:23:37.483458",
     "status": "completed"
    },
    "tags": []
   },
   "outputs": [],
   "source": [
    "def plot_accuracies(history):\n",
    "    accuracies = [x['val_acc'] for x in history]\n",
    "    plt.plot(accuracies, '-x')\n",
    "    plt.xlabel('epoch')\n",
    "    plt.ylabel('accuracy')\n",
    "    plt.title('Accuracy vs. No. of epochs');\n",
    "\n",
    "def plot_losses(history):\n",
    "    train_losses = [x['train_loss'] for x in history]\n",
    "    val_losses = [x['val_loss'] for x in history]\n",
    "    plt.plot(train_losses, '-b')\n",
    "    plt.plot(val_losses, '-r')\n",
    "    plt.xlabel('epoch')\n",
    "    plt.ylabel('loss')\n",
    "    plt.legend(['Training', 'Validation'])\n",
    "    plt.title('Loss vs. No. of epochs');\n",
    "\n",
    "def plot_lrs(history):\n",
    "    lrs = np.concatenate([x.get('lrs', []) for x in history])\n",
    "    plt.plot(lrs)\n",
    "    plt.xlabel('Batch no.')\n",
    "    plt.ylabel('Learning rate')\n",
    "    plt.title('Learning Rate vs. Batch no.');"
   ]
  },
  {
   "cell_type": "code",
   "execution_count": 32,
   "id": "540884e8",
   "metadata": {
    "execution": {
     "iopub.execute_input": "2021-11-01T07:23:37.720292Z",
     "iopub.status.busy": "2021-11-01T07:23:37.719518Z",
     "iopub.status.idle": "2021-11-01T07:23:37.930426Z",
     "shell.execute_reply": "2021-11-01T07:23:37.929834Z",
     "shell.execute_reply.started": "2021-11-01T07:04:05.283346Z"
    },
    "papermill": {
     "duration": 0.286577,
     "end_time": "2021-11-01T07:23:37.930592",
     "exception": false,
     "start_time": "2021-11-01T07:23:37.644015",
     "status": "completed"
    },
    "tags": []
   },
   "outputs": [
    {
     "data": {
      "image/png": "[encoded data removed]",
      "text/plain": [
       "<Figure size 432x288 with 1 Axes>"
      ]
     },
     "metadata": {
      "needs_background": "light"
     },
     "output_type": "display_data"
    }
   ],
   "source": [
    "plot_losses(history)"
   ]
  },
  {
   "cell_type": "code",
   "execution_count": 33,
   "id": "05430225",
   "metadata": {
    "execution": {
     "iopub.execute_input": "2021-11-01T07:23:38.085738Z",
     "iopub.status.busy": "2021-11-01T07:23:38.084986Z",
     "iopub.status.idle": "2021-11-01T07:23:38.271650Z",
     "shell.execute_reply": "2021-11-01T07:23:38.270985Z",
     "shell.execute_reply.started": "2021-11-01T07:04:06.533873Z"
    },
    "papermill": {
     "duration": 0.265846,
     "end_time": "2021-11-01T07:23:38.271841",
     "exception": false,
     "start_time": "2021-11-01T07:23:38.005995",
     "status": "completed"
    },
    "tags": []
   },
   "outputs": [
    {
     "data": {
      "image/png": "[encoded data removed]",
      "text/plain": [
       "<Figure size 432x288 with 1 Axes>"
      ]
     },
     "metadata": {
      "needs_background": "light"
     },
     "output_type": "display_data"
    }
   ],
   "source": [
    "plot_lrs(history)"
   ]
  },
  {
   "cell_type": "markdown",
   "id": "25a5850b",
   "metadata": {
    "papermill": {
     "duration": 0.074254,
     "end_time": "2021-11-01T07:23:38.421520",
     "exception": false,
     "start_time": "2021-11-01T07:23:38.347266",
     "status": "completed"
    },
    "tags": []
   },
   "source": [
    "## Save model"
   ]
  },
  {
   "cell_type": "code",
   "execution_count": 34,
   "id": "4e3b5672",
   "metadata": {
    "execution": {
     "iopub.execute_input": "2021-11-01T07:23:38.575158Z",
     "iopub.status.busy": "2021-11-01T07:23:38.574406Z",
     "iopub.status.idle": "2021-11-01T07:23:38.581350Z",
     "shell.execute_reply": "2021-11-01T07:23:38.581864Z",
     "shell.execute_reply.started": "2021-11-01T07:04:08.047934Z"
    },
    "papermill": {
     "duration": 0.086047,
     "end_time": "2021-11-01T07:23:38.582094",
     "exception": false,
     "start_time": "2021-11-01T07:23:38.496047",
     "status": "completed"
    },
    "tags": []
   },
   "outputs": [
    {
     "data": {
      "text/plain": [
       "{'val_loss': 0.11625543981790543}"
      ]
     },
     "execution_count": 34,
     "metadata": {},
     "output_type": "execute_result"
    }
   ],
   "source": [
    "result = evaluate(model, val_loader)\n",
    "result"
   ]
  },
  {
   "cell_type": "code",
   "execution_count": 35,
   "id": "13af07aa",
   "metadata": {
    "execution": {
     "iopub.execute_input": "2021-11-01T07:23:38.745716Z",
     "iopub.status.busy": "2021-11-01T07:23:38.745001Z",
     "iopub.status.idle": "2021-11-01T07:23:38.747894Z",
     "shell.execute_reply": "2021-11-01T07:23:38.748377Z",
     "shell.execute_reply.started": "2021-11-01T07:04:09.025246Z"
    },
    "papermill": {
     "duration": 0.088341,
     "end_time": "2021-11-01T07:23:38.748589",
     "exception": false,
     "start_time": "2021-11-01T07:23:38.660248",
     "status": "completed"
    },
    "tags": []
   },
   "outputs": [],
   "source": [
    "torch.save(model.state_dict(), 'titanic-linear.pth')"
   ]
  },
  {
   "cell_type": "code",
   "execution_count": 36,
   "id": "c771a570",
   "metadata": {
    "execution": {
     "iopub.execute_input": "2021-11-01T07:23:38.909260Z",
     "iopub.status.busy": "2021-11-01T07:23:38.908042Z",
     "iopub.status.idle": "2021-11-01T07:23:38.914867Z",
     "shell.execute_reply": "2021-11-01T07:23:38.915356Z",
     "shell.execute_reply.started": "2021-11-01T07:04:10.498769Z"
    },
    "papermill": {
     "duration": 0.090048,
     "end_time": "2021-11-01T07:23:38.915580",
     "exception": false,
     "start_time": "2021-11-01T07:23:38.825532",
     "status": "completed"
    },
    "tags": []
   },
   "outputs": [
    {
     "data": {
      "text/plain": [
       "OrderedDict([('linear.weight',\n",
       "              tensor([[-0.5110, -0.2263, -0.2314, -0.0679,  0.1927, -0.2293,  0.0064, -0.0431,\n",
       "                       -0.0318]])),\n",
       "             ('linear.bias', tensor([0.9917]))])"
      ]
     },
     "execution_count": 36,
     "metadata": {},
     "output_type": "execute_result"
    }
   ],
   "source": [
    "model.state_dict()"
   ]
  },
  {
   "cell_type": "code",
   "execution_count": 37,
   "id": "2e9ba883",
   "metadata": {
    "execution": {
     "iopub.execute_input": "2021-11-01T07:23:39.074576Z",
     "iopub.status.busy": "2021-11-01T07:23:39.073426Z",
     "iopub.status.idle": "2021-11-01T07:23:39.080545Z",
     "shell.execute_reply": "2021-11-01T07:23:39.079810Z",
     "shell.execute_reply.started": "2021-11-01T07:04:11.382142Z"
    },
    "papermill": {
     "duration": 0.088795,
     "end_time": "2021-11-01T07:23:39.080715",
     "exception": false,
     "start_time": "2021-11-01T07:23:38.991920",
     "status": "completed"
    },
    "tags": []
   },
   "outputs": [
    {
     "data": {
      "text/plain": [
       "Index(['survived', 'sex', 'age', 'n_siblings_spouses', 'parch', 'fare',\n",
       "       'class', 'deck', 'embark_town', 'alone'],\n",
       "      dtype='object')"
      ]
     },
     "execution_count": 37,
     "metadata": {},
     "output_type": "execute_result"
    }
   ],
   "source": [
    "train_data.columns"
   ]
  },
  {
   "cell_type": "markdown",
   "id": "837d81ac",
   "metadata": {
    "papermill": {
     "duration": 0.076434,
     "end_time": "2021-11-01T07:23:39.236571",
     "exception": false,
     "start_time": "2021-11-01T07:23:39.160137",
     "status": "completed"
    },
    "tags": []
   },
   "source": [
    "Comment: Weights from the model.state_dict() output show the importance of each input feature. "
   ]
  },
  {
   "cell_type": "markdown",
   "id": "2463e99c",
   "metadata": {
    "papermill": {
     "duration": 0.077836,
     "end_time": "2021-11-01T07:23:39.392039",
     "exception": false,
     "start_time": "2021-11-01T07:23:39.314203",
     "status": "completed"
    },
    "tags": []
   },
   "source": [
    "## Predict on test data"
   ]
  },
  {
   "cell_type": "code",
   "execution_count": 38,
   "id": "25ebc1d3",
   "metadata": {
    "execution": {
     "iopub.execute_input": "2021-11-01T07:23:39.561383Z",
     "iopub.status.busy": "2021-11-01T07:23:39.560203Z",
     "iopub.status.idle": "2021-11-01T07:23:39.562274Z",
     "shell.execute_reply": "2021-11-01T07:23:39.562850Z",
     "shell.execute_reply.started": "2021-11-01T07:04:13.008156Z"
    },
    "papermill": {
     "duration": 0.088598,
     "end_time": "2021-11-01T07:23:39.563058",
     "exception": false,
     "start_time": "2021-11-01T07:23:39.474460",
     "status": "completed"
    },
    "tags": []
   },
   "outputs": [],
   "source": [
    "def predict_single(input_data, model):\n",
    "    input,target = input_data\n",
    "    inputs = input.unsqueeze(0) #making (1,dim)\n",
    "    predictions = model(input)                # fill this\n",
    "    prediction = predictions[0].detach()\n",
    "    print(\"Input:\", np.array(input).tolist())\n",
    "    print(\"Target:\", int(np.array(target)))\n",
    "    print(\"Prediction:\", prediction)\n",
    "    if prediction >= 0.5:\n",
    "      print('The passenger survived!')\n",
    "    else:\n",
    "      print('Tha passenger did not survived...')"
   ]
  },
  {
   "cell_type": "code",
   "execution_count": 39,
   "id": "51f7cb15",
   "metadata": {
    "execution": {
     "iopub.execute_input": "2021-11-01T07:23:39.722600Z",
     "iopub.status.busy": "2021-11-01T07:23:39.721387Z",
     "iopub.status.idle": "2021-11-01T07:23:39.729894Z",
     "shell.execute_reply": "2021-11-01T07:23:39.730665Z",
     "shell.execute_reply.started": "2021-11-01T07:04:13.956607Z"
    },
    "papermill": {
     "duration": 0.092045,
     "end_time": "2021-11-01T07:23:39.730975",
     "exception": false,
     "start_time": "2021-11-01T07:23:39.638930",
     "status": "completed"
    },
    "tags": []
   },
   "outputs": [
    {
     "name": "stdout",
     "output_type": "stream",
     "text": [
      "Input: [0.0, 0.3438485860824585, 0.125, 0.0, 0.10122885555028915, 0.0, 0.4285714328289032, 0.6666666865348816, 0.0]\n",
      "Target: 1\n",
      "Prediction: tensor(0.8784)\n",
      "The passenger survived!\n"
     ]
    }
   ],
   "source": [
    "predict_single(train_ds[7],model)"
   ]
  },
  {
   "cell_type": "code",
   "execution_count": 40,
   "id": "a077fa58",
   "metadata": {
    "execution": {
     "iopub.execute_input": "2021-11-01T07:23:39.893487Z",
     "iopub.status.busy": "2021-11-01T07:23:39.892713Z",
     "iopub.status.idle": "2021-11-01T07:23:39.898678Z",
     "shell.execute_reply": "2021-11-01T07:23:39.899309Z",
     "shell.execute_reply.started": "2021-11-01T07:04:14.671833Z"
    },
    "papermill": {
     "duration": 0.089314,
     "end_time": "2021-11-01T07:23:39.899522",
     "exception": false,
     "start_time": "2021-11-01T07:23:39.810208",
     "status": "completed"
    },
    "tags": []
   },
   "outputs": [],
   "source": [
    "##making muultiple predictions\n",
    "\n",
    "def make_predictions(inputs,targets):\n",
    "    result = list()\n",
    "    targets = targets.flatten().numpy()\n",
    "    for person in inputs:\n",
    "        result.append(int(round(model(person).item(), 0)))\n",
    "    accuracy = np.round(np.sum(result==targets)/len(targets) * 100,2)\n",
    "    cm = confusion_matrix(result,targets)\n",
    "    \n",
    "    return accuracy,cm"
   ]
  },
  {
   "cell_type": "code",
   "execution_count": 41,
   "id": "ae89959f",
   "metadata": {
    "execution": {
     "iopub.execute_input": "2021-11-01T07:23:40.063278Z",
     "iopub.status.busy": "2021-11-01T07:23:40.061990Z",
     "iopub.status.idle": "2021-11-01T07:23:40.106899Z",
     "shell.execute_reply": "2021-11-01T07:23:40.106090Z",
     "shell.execute_reply.started": "2021-11-01T07:04:15.248993Z"
    },
    "papermill": {
     "duration": 0.130129,
     "end_time": "2021-11-01T07:23:40.107077",
     "exception": false,
     "start_time": "2021-11-01T07:23:39.976948",
     "status": "completed"
    },
    "tags": []
   },
   "outputs": [
    {
     "name": "stdout",
     "output_type": "stream",
     "text": [
      "The accuracy of test set predictions is: 75.0 %\n",
      "The accuracy of train set predictions is: 81.18 %\n"
     ]
    }
   ],
   "source": [
    "test_acc,test_cm = make_predictions(X_test,y_test)\n",
    "print('The accuracy of test set predictions is:',test_acc,'%')\n",
    "train_acc,train_cm = make_predictions(X_train,y_train)\n",
    "print('The accuracy of train set predictions is:',train_acc,'%')"
   ]
  },
  {
   "cell_type": "code",
   "execution_count": 42,
   "id": "ed395299",
   "metadata": {
    "execution": {
     "iopub.execute_input": "2021-11-01T07:23:40.271434Z",
     "iopub.status.busy": "2021-11-01T07:23:40.270276Z",
     "iopub.status.idle": "2021-11-01T07:23:40.461864Z",
     "shell.execute_reply": "2021-11-01T07:23:40.462399Z",
     "shell.execute_reply.started": "2021-11-01T07:05:56.136711Z"
    },
    "papermill": {
     "duration": 0.276619,
     "end_time": "2021-11-01T07:23:40.462606",
     "exception": false,
     "start_time": "2021-11-01T07:23:40.185987",
     "status": "completed"
    },
    "tags": []
   },
   "outputs": [
    {
     "data": {
      "image/png": "[encoded data removed]",
      "text/plain": [
       "<Figure size 432x288 with 2 Axes>"
      ]
     },
     "metadata": {
      "needs_background": "light"
     },
     "output_type": "display_data"
    }
   ],
   "source": [
    "#visualize confusion matrix \n",
    "sns.heatmap(test_cm,annot=True,fmt='3.0f',cmap=\"Blues\")\n",
    "plt.title('test cm', y=1.05, size=15)\n",
    "plt.show()"
   ]
  },
  {
   "cell_type": "code",
   "execution_count": 43,
   "id": "f8f0d4ee",
   "metadata": {
    "execution": {
     "iopub.execute_input": "2021-11-01T07:23:40.622084Z",
     "iopub.status.busy": "2021-11-01T07:23:40.621277Z",
     "iopub.status.idle": "2021-11-01T07:23:40.824559Z",
     "shell.execute_reply": "2021-11-01T07:23:40.823390Z",
     "shell.execute_reply.started": "2021-11-01T07:06:17.472242Z"
    },
    "papermill": {
     "duration": 0.284293,
     "end_time": "2021-11-01T07:23:40.824761",
     "exception": false,
     "start_time": "2021-11-01T07:23:40.540468",
     "status": "completed"
    },
    "tags": []
   },
   "outputs": [
    {
     "data": {
      "image/png": "[encoded data removed]",
      "text/plain": [
       "<Figure size 432x288 with 2 Axes>"
      ]
     },
     "metadata": {
      "needs_background": "light"
     },
     "output_type": "display_data"
    }
   ],
   "source": [
    "sns.heatmap(train_cm,annot=True,fmt='3.0f',cmap=\"Blues\")\n",
    "plt.title('train cm', y=1.05, size=15)\n",
    "plt.show()"
   ]
  },
  {
   "cell_type": "markdown",
   "id": "d1a61bf9",
   "metadata": {
    "papermill": {
     "duration": 0.079433,
     "end_time": "2021-11-01T07:23:40.984405",
     "exception": false,
     "start_time": "2021-11-01T07:23:40.904972",
     "status": "completed"
    },
    "tags": []
   },
   "source": [
    "## Logistic regression model"
   ]
  },
  {
   "cell_type": "markdown",
   "id": "c25cb668",
   "metadata": {
    "papermill": {
     "duration": 0.077753,
     "end_time": "2021-11-01T07:23:41.143215",
     "exception": false,
     "start_time": "2021-11-01T07:23:41.065462",
     "status": "completed"
    },
    "tags": []
   },
   "source": [
    "### Creating the model"
   ]
  },
  {
   "cell_type": "code",
   "execution_count": 44,
   "id": "9b7e5359",
   "metadata": {
    "execution": {
     "iopub.execute_input": "2021-11-01T07:23:41.315470Z",
     "iopub.status.busy": "2021-11-01T07:23:41.305428Z",
     "iopub.status.idle": "2021-11-01T07:23:41.317069Z",
     "shell.execute_reply": "2021-11-01T07:23:41.317519Z",
     "shell.execute_reply.started": "2021-11-01T07:19:07.381277Z"
    },
    "papermill": {
     "duration": 0.093886,
     "end_time": "2021-11-01T07:23:41.317735",
     "exception": false,
     "start_time": "2021-11-01T07:23:41.223849",
     "status": "completed"
    },
    "tags": []
   },
   "outputs": [],
   "source": [
    "class Titanic_Model_2(nn.Module):\n",
    "    def __init__(self, in_features, out_features):\n",
    "        super().__init__()\n",
    "        self.linear = nn.Linear(in_features, out_features)\n",
    "        \n",
    "    def forward(self, x):\n",
    "        y_pred = torch.sigmoid(self.linear(x))\n",
    "        return y_pred\n",
    "    \n",
    "    \n",
    "    def training_step(self, batch):\n",
    "        inputs, targets = batch \n",
    "        # Generate predictions \n",
    "        y_pred = self(inputs)        \n",
    "        # Calcuate loss\n",
    "        loss = F.binary_cross_entropy(y_pred, targets)        \n",
    "        return loss\n",
    "    \n",
    "    def validation_step(self, batch):\n",
    "        inputs, targets = batch\n",
    "        # Generate predictions\n",
    "        y_pred = self(inputs)       \n",
    "        # Calcuate loss\n",
    "        loss = F.binary_cross_entropy(y_pred, targets) \n",
    "        # Calculate accuracy\n",
    "        acc = accuracy(y_pred, targets)   \n",
    "        return {'val_loss': loss.detach(),'val_acc':acc.detach()}\n",
    "        \n",
    "    def validation_epoch_end(self, outputs):\n",
    "        batch_losses = [x['val_loss'] for x in outputs]\n",
    "        epoch_loss = torch.stack(batch_losses).mean() \n",
    "        batch_acc = [x['val_acc'] for x in outputs]\n",
    "        epoch_acc = torch.stack(batch_acc).mean() \n",
    "        return {'val_loss': epoch_loss.item(), 'val_acc': epoch_acc.item()}\n",
    "    \n",
    "    def epoch_end(self, epoch, result, num_epochs):\n",
    "        print(\"Epoch [{}], val_loss: {:.4f}, val_acc: {:.4f}\".format(epoch+1, result['val_loss'], result['val_acc']))"
   ]
  },
  {
   "cell_type": "code",
   "execution_count": 45,
   "id": "04418467",
   "metadata": {
    "execution": {
     "iopub.execute_input": "2021-11-01T07:23:41.479506Z",
     "iopub.status.busy": "2021-11-01T07:23:41.478764Z",
     "iopub.status.idle": "2021-11-01T07:23:41.489094Z",
     "shell.execute_reply": "2021-11-01T07:23:41.488511Z",
     "shell.execute_reply.started": "2021-11-01T07:19:07.873245Z"
    },
    "papermill": {
     "duration": 0.093298,
     "end_time": "2021-11-01T07:23:41.489268",
     "exception": false,
     "start_time": "2021-11-01T07:23:41.395970",
     "status": "completed"
    },
    "tags": []
   },
   "outputs": [
    {
     "name": "stdout",
     "output_type": "stream",
     "text": [
      "torch.Size([1, 9]) torch.Size([1])\n"
     ]
    },
    {
     "data": {
      "text/plain": [
       "[Parameter containing:\n",
       " tensor([[ 0.1378,  0.3147, -0.1334,  0.1345,  0.2561,  0.0348, -0.1930, -0.0782,\n",
       "           0.0927]], requires_grad=True),\n",
       " Parameter containing:\n",
       " tensor([-0.2891], requires_grad=True)]"
      ]
     },
     "execution_count": 45,
     "metadata": {},
     "output_type": "execute_result"
    }
   ],
   "source": [
    "model = Titanic_Model_2(number_of_features,number_of_outputs)\n",
    "print(model.linear.weight.shape, model.linear.bias.shape)\n",
    "list(model.parameters())"
   ]
  },
  {
   "cell_type": "markdown",
   "id": "85d220de",
   "metadata": {
    "papermill": {
     "duration": 0.080705,
     "end_time": "2021-11-01T07:23:41.650493",
     "exception": false,
     "start_time": "2021-11-01T07:23:41.569788",
     "status": "completed"
    },
    "tags": []
   },
   "source": [
    "## Training the model"
   ]
  },
  {
   "cell_type": "code",
   "execution_count": 46,
   "id": "6d1c8a34",
   "metadata": {
    "execution": {
     "iopub.execute_input": "2021-11-01T07:23:41.815809Z",
     "iopub.status.busy": "2021-11-01T07:23:41.813700Z",
     "iopub.status.idle": "2021-11-01T07:23:41.832068Z",
     "shell.execute_reply": "2021-11-01T07:23:41.833027Z",
     "shell.execute_reply.started": "2021-11-01T07:19:09.109831Z"
    },
    "papermill": {
     "duration": 0.103961,
     "end_time": "2021-11-01T07:23:41.833306",
     "exception": false,
     "start_time": "2021-11-01T07:23:41.729345",
     "status": "completed"
    },
    "tags": []
   },
   "outputs": [
    {
     "name": "stdout",
     "output_type": "stream",
     "text": [
      "{'val_loss': 0.6907971501350403, 'val_acc': 0.5833333730697632}\n"
     ]
    }
   ],
   "source": [
    "result = evaluate(model, val_loader) \n",
    "print(result)"
   ]
  },
  {
   "cell_type": "code",
   "execution_count": 47,
   "id": "ee76ffb0",
   "metadata": {
    "execution": {
     "iopub.execute_input": "2021-11-01T07:23:41.998378Z",
     "iopub.status.busy": "2021-11-01T07:23:41.997638Z",
     "iopub.status.idle": "2021-11-01T07:23:43.472190Z",
     "shell.execute_reply": "2021-11-01T07:23:43.472787Z",
     "shell.execute_reply.started": "2021-11-01T07:19:10.111905Z"
    },
    "papermill": {
     "duration": 1.559864,
     "end_time": "2021-11-01T07:23:43.473006",
     "exception": false,
     "start_time": "2021-11-01T07:23:41.913142",
     "status": "completed"
    },
    "tags": []
   },
   "outputs": [
    {
     "name": "stdout",
     "output_type": "stream",
     "text": [
      "Epoch [1], val_loss: 0.6652, val_acc: 0.5833\n",
      "Epoch [2], val_loss: 0.6413, val_acc: 0.5677\n",
      "Epoch [3], val_loss: 0.6190, val_acc: 0.5677\n",
      "Epoch [4], val_loss: 0.5890, val_acc: 0.5844\n",
      "Epoch [5], val_loss: 0.5560, val_acc: 0.6635\n",
      "Epoch [6], val_loss: 0.5289, val_acc: 0.7583\n",
      "Epoch [7], val_loss: 0.5074, val_acc: 0.7583\n",
      "Epoch [8], val_loss: 0.4840, val_acc: 0.8052\n",
      "Epoch [9], val_loss: 0.4663, val_acc: 0.8052\n",
      "Epoch [10], val_loss: 0.4533, val_acc: 0.8052\n",
      "Epoch [11], val_loss: 0.4449, val_acc: 0.8052\n",
      "Epoch [12], val_loss: 0.4370, val_acc: 0.8052\n",
      "Epoch [13], val_loss: 0.4294, val_acc: 0.8052\n",
      "Epoch [14], val_loss: 0.4277, val_acc: 0.8052\n",
      "Epoch [15], val_loss: 0.4240, val_acc: 0.8052\n",
      "Epoch [16], val_loss: 0.4228, val_acc: 0.8052\n",
      "Epoch [17], val_loss: 0.4208, val_acc: 0.8052\n",
      "Epoch [18], val_loss: 0.4198, val_acc: 0.8052\n",
      "Epoch [19], val_loss: 0.4202, val_acc: 0.8052\n",
      "Epoch [20], val_loss: 0.4202, val_acc: 0.8052\n",
      "Epoch [21], val_loss: 0.4184, val_acc: 0.8052\n",
      "Epoch [22], val_loss: 0.4180, val_acc: 0.8052\n",
      "Epoch [23], val_loss: 0.4178, val_acc: 0.8052\n",
      "Epoch [24], val_loss: 0.4241, val_acc: 0.8052\n",
      "Epoch [25], val_loss: 0.4168, val_acc: 0.8052\n",
      "Epoch [26], val_loss: 0.4178, val_acc: 0.8052\n",
      "Epoch [27], val_loss: 0.4215, val_acc: 0.8052\n",
      "Epoch [28], val_loss: 0.4213, val_acc: 0.8385\n",
      "Epoch [29], val_loss: 0.4265, val_acc: 0.8052\n",
      "Epoch [30], val_loss: 0.4208, val_acc: 0.8052\n",
      "Epoch [31], val_loss: 0.4171, val_acc: 0.8052\n",
      "Epoch [32], val_loss: 0.4179, val_acc: 0.8052\n",
      "Epoch [33], val_loss: 0.4201, val_acc: 0.8052\n",
      "Epoch [34], val_loss: 0.4161, val_acc: 0.8052\n",
      "Epoch [35], val_loss: 0.4178, val_acc: 0.8052\n",
      "Epoch [36], val_loss: 0.4178, val_acc: 0.8052\n",
      "Epoch [37], val_loss: 0.4220, val_acc: 0.8052\n",
      "Epoch [38], val_loss: 0.4173, val_acc: 0.8052\n",
      "Epoch [39], val_loss: 0.4174, val_acc: 0.8052\n",
      "Epoch [40], val_loss: 0.4193, val_acc: 0.8052\n",
      "Epoch [41], val_loss: 0.4175, val_acc: 0.8052\n",
      "Epoch [42], val_loss: 0.4189, val_acc: 0.8052\n",
      "Epoch [43], val_loss: 0.4191, val_acc: 0.8052\n",
      "Epoch [44], val_loss: 0.4190, val_acc: 0.8052\n",
      "Epoch [45], val_loss: 0.4159, val_acc: 0.8052\n",
      "Epoch [46], val_loss: 0.4185, val_acc: 0.8052\n",
      "Epoch [47], val_loss: 0.4187, val_acc: 0.8052\n",
      "Epoch [48], val_loss: 0.4247, val_acc: 0.7740\n",
      "Epoch [49], val_loss: 0.4170, val_acc: 0.8052\n",
      "Epoch [50], val_loss: 0.4198, val_acc: 0.8052\n",
      "Epoch [51], val_loss: 0.4188, val_acc: 0.8052\n",
      "Epoch [52], val_loss: 0.4171, val_acc: 0.8052\n",
      "Epoch [53], val_loss: 0.4280, val_acc: 0.8052\n",
      "Epoch [54], val_loss: 0.4173, val_acc: 0.8052\n",
      "Epoch [55], val_loss: 0.4191, val_acc: 0.8052\n",
      "Epoch [56], val_loss: 0.4150, val_acc: 0.8052\n",
      "Epoch [57], val_loss: 0.4187, val_acc: 0.8052\n",
      "Epoch [58], val_loss: 0.4224, val_acc: 0.8052\n",
      "Epoch [59], val_loss: 0.4173, val_acc: 0.8052\n",
      "Epoch [60], val_loss: 0.4170, val_acc: 0.8052\n",
      "Epoch [61], val_loss: 0.4174, val_acc: 0.8052\n",
      "Epoch [62], val_loss: 0.4168, val_acc: 0.8052\n",
      "Epoch [63], val_loss: 0.4206, val_acc: 0.8052\n",
      "Epoch [64], val_loss: 0.4188, val_acc: 0.8052\n",
      "Epoch [65], val_loss: 0.4214, val_acc: 0.8052\n",
      "Epoch [66], val_loss: 0.4158, val_acc: 0.8052\n",
      "Epoch [67], val_loss: 0.4174, val_acc: 0.8052\n",
      "Epoch [68], val_loss: 0.4170, val_acc: 0.8052\n",
      "Epoch [69], val_loss: 0.4186, val_acc: 0.8052\n",
      "Epoch [70], val_loss: 0.4193, val_acc: 0.8052\n",
      "Epoch [71], val_loss: 0.4184, val_acc: 0.8052\n",
      "Epoch [72], val_loss: 0.4192, val_acc: 0.8052\n",
      "Epoch [73], val_loss: 0.4185, val_acc: 0.8052\n",
      "Epoch [74], val_loss: 0.4176, val_acc: 0.8052\n",
      "Epoch [75], val_loss: 0.4172, val_acc: 0.8052\n",
      "Epoch [76], val_loss: 0.4174, val_acc: 0.8052\n",
      "Epoch [77], val_loss: 0.4171, val_acc: 0.8052\n",
      "Epoch [78], val_loss: 0.4186, val_acc: 0.8052\n",
      "Epoch [79], val_loss: 0.4170, val_acc: 0.8052\n",
      "Epoch [80], val_loss: 0.4168, val_acc: 0.8052\n",
      "Epoch [81], val_loss: 0.4178, val_acc: 0.8052\n",
      "Epoch [82], val_loss: 0.4171, val_acc: 0.8052\n",
      "Epoch [83], val_loss: 0.4181, val_acc: 0.8052\n",
      "Epoch [84], val_loss: 0.4178, val_acc: 0.8052\n",
      "Epoch [85], val_loss: 0.4171, val_acc: 0.8052\n",
      "Epoch [86], val_loss: 0.4186, val_acc: 0.8052\n",
      "Epoch [87], val_loss: 0.4181, val_acc: 0.8052\n",
      "Epoch [88], val_loss: 0.4179, val_acc: 0.8052\n",
      "Epoch [89], val_loss: 0.4175, val_acc: 0.8052\n",
      "Epoch [90], val_loss: 0.4176, val_acc: 0.8052\n",
      "Epoch [91], val_loss: 0.4178, val_acc: 0.8052\n",
      "Epoch [92], val_loss: 0.4179, val_acc: 0.8052\n",
      "Epoch [93], val_loss: 0.4178, val_acc: 0.8052\n",
      "Epoch [94], val_loss: 0.4178, val_acc: 0.8052\n",
      "Epoch [95], val_loss: 0.4178, val_acc: 0.8052\n",
      "Epoch [96], val_loss: 0.4178, val_acc: 0.8052\n",
      "Epoch [97], val_loss: 0.4178, val_acc: 0.8052\n",
      "Epoch [98], val_loss: 0.4178, val_acc: 0.8052\n",
      "Epoch [99], val_loss: 0.4178, val_acc: 0.8052\n",
      "Epoch [100], val_loss: 0.4178, val_acc: 0.8052\n"
     ]
    }
   ],
   "source": [
    "epochs = 100\n",
    "lr = 0.1\n",
    "grad_clip = 0.3\n",
    "weight_decay = 1e-2\n",
    "opt_func = torch.optim.SGD\n",
    "\n",
    "history= fit(epochs, lr, model, train_loader, val_loader,weight_decay,grad_clip,opt_func)"
   ]
  },
  {
   "cell_type": "code",
   "execution_count": 48,
   "id": "42d5e1de",
   "metadata": {
    "execution": {
     "iopub.execute_input": "2021-11-01T07:23:43.652618Z",
     "iopub.status.busy": "2021-11-01T07:23:43.651860Z",
     "iopub.status.idle": "2021-11-01T07:23:43.655346Z",
     "shell.execute_reply": "2021-11-01T07:23:43.654721Z",
     "shell.execute_reply.started": "2021-11-01T07:19:35.366325Z"
    },
    "papermill": {
     "duration": 0.097331,
     "end_time": "2021-11-01T07:23:43.655515",
     "exception": false,
     "start_time": "2021-11-01T07:23:43.558184",
     "status": "completed"
    },
    "tags": []
   },
   "outputs": [],
   "source": [
    "def plot_accuracies(history):\n",
    "    accuracies = [x['val_acc'] for x in history]\n",
    "    plt.plot(accuracies, '-x')\n",
    "    plt.xlabel('epoch')\n",
    "    plt.ylabel('accuracy')\n",
    "    plt.title('Accuracy vs. No. of epochs');\n",
    "\n",
    "def plot_losses(history):\n",
    "    train_losses = [x['train_loss'] for x in history]\n",
    "    val_losses = [x['val_loss'] for x in history]\n",
    "    plt.plot(train_losses, '-b')\n",
    "    plt.plot(val_losses, '-r')\n",
    "    plt.xlabel('epoch')\n",
    "    plt.ylabel('loss')\n",
    "    plt.legend(['Training', 'Validation'])\n",
    "    plt.title('Loss vs. No. of epochs');\n",
    "\n",
    "def plot_lrs(history):\n",
    "    lrs = np.concatenate([x.get('lrs', []) for x in history])\n",
    "    plt.plot(lrs)\n",
    "    plt.xlabel('Batch no.')\n",
    "    plt.ylabel('Learning rate')\n",
    "    plt.title('Learning Rate vs. Batch no.');"
   ]
  },
  {
   "cell_type": "code",
   "execution_count": 49,
   "id": "24cba176",
   "metadata": {
    "execution": {
     "iopub.execute_input": "2021-11-01T07:23:43.855402Z",
     "iopub.status.busy": "2021-11-01T07:23:43.847090Z",
     "iopub.status.idle": "2021-11-01T07:23:44.039929Z",
     "shell.execute_reply": "2021-11-01T07:23:44.038810Z",
     "shell.execute_reply.started": "2021-11-01T07:19:36.018082Z"
    },
    "papermill": {
     "duration": 0.30079,
     "end_time": "2021-11-01T07:23:44.040136",
     "exception": false,
     "start_time": "2021-11-01T07:23:43.739346",
     "status": "completed"
    },
    "tags": []
   },
   "outputs": [
    {
     "data": {
      "image/png": "[encoded data removed]",
      "text/plain": [
       "<Figure size 432x288 with 1 Axes>"
      ]
     },
     "metadata": {
      "needs_background": "light"
     },
     "output_type": "display_data"
    }
   ],
   "source": [
    "plot_losses(history)"
   ]
  },
  {
   "cell_type": "code",
   "execution_count": 50,
   "id": "1d1e10ac",
   "metadata": {
    "execution": {
     "iopub.execute_input": "2021-11-01T07:23:44.246977Z",
     "iopub.status.busy": "2021-11-01T07:23:44.245924Z",
     "iopub.status.idle": "2021-11-01T07:23:44.451382Z",
     "shell.execute_reply": "2021-11-01T07:23:44.450699Z",
     "shell.execute_reply.started": "2021-11-01T07:19:37.115216Z"
    },
    "papermill": {
     "duration": 0.324097,
     "end_time": "2021-11-01T07:23:44.451545",
     "exception": false,
     "start_time": "2021-11-01T07:23:44.127448",
     "status": "completed"
    },
    "tags": []
   },
   "outputs": [
    {
     "data": {
      "image/png": "[encoded data removed]",
      "text/plain": [
       "<Figure size 432x288 with 1 Axes>"
      ]
     },
     "metadata": {
      "needs_background": "light"
     },
     "output_type": "display_data"
    }
   ],
   "source": [
    "plot_accuracies(history)"
   ]
  },
  {
   "cell_type": "code",
   "execution_count": 51,
   "id": "93749707",
   "metadata": {
    "execution": {
     "iopub.execute_input": "2021-11-01T07:23:44.627658Z",
     "iopub.status.busy": "2021-11-01T07:23:44.626957Z",
     "iopub.status.idle": "2021-11-01T07:23:44.864141Z",
     "shell.execute_reply": "2021-11-01T07:23:44.864649Z",
     "shell.execute_reply.started": "2021-11-01T07:19:40.737022Z"
    },
    "papermill": {
     "duration": 0.327465,
     "end_time": "2021-11-01T07:23:44.864863",
     "exception": false,
     "start_time": "2021-11-01T07:23:44.537398",
     "status": "completed"
    },
    "tags": []
   },
   "outputs": [
    {
     "data": {
      "image/png": "[encoded data removed]",
      "text/plain": [
       "<Figure size 432x288 with 1 Axes>"
      ]
     },
     "metadata": {
      "needs_background": "light"
     },
     "output_type": "display_data"
    }
   ],
   "source": [
    "plot_lrs(history)"
   ]
  },
  {
   "cell_type": "markdown",
   "id": "846ed492",
   "metadata": {
    "papermill": {
     "duration": 0.090701,
     "end_time": "2021-11-01T07:23:45.041939",
     "exception": false,
     "start_time": "2021-11-01T07:23:44.951238",
     "status": "completed"
    },
    "tags": []
   },
   "source": [
    "## Save model"
   ]
  },
  {
   "cell_type": "code",
   "execution_count": 52,
   "id": "ec644699",
   "metadata": {
    "execution": {
     "iopub.execute_input": "2021-11-01T07:23:45.220800Z",
     "iopub.status.busy": "2021-11-01T07:23:45.219589Z",
     "iopub.status.idle": "2021-11-01T07:23:45.228359Z",
     "shell.execute_reply": "2021-11-01T07:23:45.228934Z",
     "shell.execute_reply.started": "2021-11-01T07:19:50.886791Z"
    },
    "papermill": {
     "duration": 0.100107,
     "end_time": "2021-11-01T07:23:45.229159",
     "exception": false,
     "start_time": "2021-11-01T07:23:45.129052",
     "status": "completed"
    },
    "tags": []
   },
   "outputs": [
    {
     "data": {
      "text/plain": [
       "{'val_loss': 0.41779980063438416, 'val_acc': 0.8052083253860474}"
      ]
     },
     "execution_count": 52,
     "metadata": {},
     "output_type": "execute_result"
    }
   ],
   "source": [
    "result = evaluate(model, val_loader)\n",
    "result"
   ]
  },
  {
   "cell_type": "code",
   "execution_count": 53,
   "id": "e09f661a",
   "metadata": {
    "execution": {
     "iopub.execute_input": "2021-11-01T07:23:45.407891Z",
     "iopub.status.busy": "2021-11-01T07:23:45.406809Z",
     "iopub.status.idle": "2021-11-01T07:23:45.411514Z",
     "shell.execute_reply": "2021-11-01T07:23:45.412073Z",
     "shell.execute_reply.started": "2021-11-01T07:19:54.125312Z"
    },
    "papermill": {
     "duration": 0.095977,
     "end_time": "2021-11-01T07:23:45.412293",
     "exception": false,
     "start_time": "2021-11-01T07:23:45.316316",
     "status": "completed"
    },
    "tags": []
   },
   "outputs": [],
   "source": [
    "torch.save(model.state_dict(), 'titanic-logistic.pth')"
   ]
  },
  {
   "cell_type": "code",
   "execution_count": 54,
   "id": "349ff7c3",
   "metadata": {
    "execution": {
     "iopub.execute_input": "2021-11-01T07:23:45.594912Z",
     "iopub.status.busy": "2021-11-01T07:23:45.594118Z",
     "iopub.status.idle": "2021-11-01T07:23:45.600081Z",
     "shell.execute_reply": "2021-11-01T07:23:45.599402Z",
     "shell.execute_reply.started": "2021-11-01T07:19:56.133089Z"
    },
    "papermill": {
     "duration": 0.099262,
     "end_time": "2021-11-01T07:23:45.600258",
     "exception": false,
     "start_time": "2021-11-01T07:23:45.500996",
     "status": "completed"
    },
    "tags": []
   },
   "outputs": [
    {
     "data": {
      "text/plain": [
       "OrderedDict([('linear.weight',\n",
       "              tensor([[-1.9702, -0.1245, -0.3111, -0.0102,  0.4012, -0.9045, -0.0055, -0.1390,\n",
       "                       -0.0617]])),\n",
       "             ('linear.bias', tensor([1.3971]))])"
      ]
     },
     "execution_count": 54,
     "metadata": {},
     "output_type": "execute_result"
    }
   ],
   "source": [
    "model.state_dict()"
   ]
  },
  {
   "cell_type": "code",
   "execution_count": 55,
   "id": "d835cc6a",
   "metadata": {
    "execution": {
     "iopub.execute_input": "2021-11-01T07:23:45.779938Z",
     "iopub.status.busy": "2021-11-01T07:23:45.779182Z",
     "iopub.status.idle": "2021-11-01T07:23:45.784631Z",
     "shell.execute_reply": "2021-11-01T07:23:45.785123Z",
     "shell.execute_reply.started": "2021-11-01T07:20:00.116217Z"
    },
    "papermill": {
     "duration": 0.097786,
     "end_time": "2021-11-01T07:23:45.785343",
     "exception": false,
     "start_time": "2021-11-01T07:23:45.687557",
     "status": "completed"
    },
    "tags": []
   },
   "outputs": [
    {
     "data": {
      "text/plain": [
       "Index(['survived', 'sex', 'age', 'n_siblings_spouses', 'parch', 'fare',\n",
       "       'class', 'deck', 'embark_town', 'alone'],\n",
       "      dtype='object')"
      ]
     },
     "execution_count": 55,
     "metadata": {},
     "output_type": "execute_result"
    }
   ],
   "source": [
    "train_data.columns"
   ]
  },
  {
   "cell_type": "markdown",
   "id": "8aa7340b",
   "metadata": {
    "papermill": {
     "duration": 0.088262,
     "end_time": "2021-11-01T07:23:45.960946",
     "exception": false,
     "start_time": "2021-11-01T07:23:45.872684",
     "status": "completed"
    },
    "tags": []
   },
   "source": [
    "Comment: Weights from the model.state_dict() output show the importance of each input feature. "
   ]
  },
  {
   "cell_type": "markdown",
   "id": "90ec948b",
   "metadata": {
    "papermill": {
     "duration": 0.10503,
     "end_time": "2021-11-01T07:23:46.173212",
     "exception": false,
     "start_time": "2021-11-01T07:23:46.068182",
     "status": "completed"
    },
    "tags": []
   },
   "source": [
    "## Predict on test data"
   ]
  },
  {
   "cell_type": "code",
   "execution_count": 56,
   "id": "2c01f897",
   "metadata": {
    "execution": {
     "iopub.execute_input": "2021-11-01T07:23:46.361621Z",
     "iopub.status.busy": "2021-11-01T07:23:46.360386Z",
     "iopub.status.idle": "2021-11-01T07:23:46.363443Z",
     "shell.execute_reply": "2021-11-01T07:23:46.362832Z",
     "shell.execute_reply.started": "2021-11-01T07:20:05.759235Z"
    },
    "papermill": {
     "duration": 0.099708,
     "end_time": "2021-11-01T07:23:46.363608",
     "exception": false,
     "start_time": "2021-11-01T07:23:46.263900",
     "status": "completed"
    },
    "tags": []
   },
   "outputs": [],
   "source": [
    "def predict_single(input_data, model):\n",
    "    input,target = input_data\n",
    "    inputs = input.unsqueeze(0) #making (1,dim)\n",
    "    predictions = model(input)                # fill this\n",
    "    prediction = predictions[0].detach()\n",
    "    print(\"Input:\", np.array(input).tolist())\n",
    "    print(\"Target:\", int(np.array(target)))\n",
    "    print(\"Prediction:\", prediction)\n",
    "    if prediction >= 0.5:\n",
    "      print('The passenger survived!')\n",
    "    else:\n",
    "      print('Tha passenger did not survived...')"
   ]
  },
  {
   "cell_type": "code",
   "execution_count": 57,
   "id": "e2265d4f",
   "metadata": {
    "execution": {
     "iopub.execute_input": "2021-11-01T07:23:46.546205Z",
     "iopub.status.busy": "2021-11-01T07:23:46.545086Z",
     "iopub.status.idle": "2021-11-01T07:23:46.553693Z",
     "shell.execute_reply": "2021-11-01T07:23:46.553087Z",
     "shell.execute_reply.started": "2021-11-01T07:20:07.054286Z"
    },
    "papermill": {
     "duration": 0.10087,
     "end_time": "2021-11-01T07:23:46.553876",
     "exception": false,
     "start_time": "2021-11-01T07:23:46.453006",
     "status": "completed"
    },
    "tags": []
   },
   "outputs": [
    {
     "name": "stdout",
     "output_type": "stream",
     "text": [
      "Input: [0.0, 0.3438485860824585, 0.125, 0.0, 0.10122885555028915, 0.0, 0.4285714328289032, 0.6666666865348816, 0.0]\n",
      "Target: 1\n",
      "Prediction: tensor(0.7792)\n",
      "The passenger survived!\n"
     ]
    }
   ],
   "source": [
    "predict_single(train_ds[7],model)"
   ]
  },
  {
   "cell_type": "code",
   "execution_count": 58,
   "id": "c4d63e45",
   "metadata": {
    "execution": {
     "iopub.execute_input": "2021-11-01T07:23:46.742656Z",
     "iopub.status.busy": "2021-11-01T07:23:46.741929Z",
     "iopub.status.idle": "2021-11-01T07:23:46.749114Z",
     "shell.execute_reply": "2021-11-01T07:23:46.749763Z",
     "shell.execute_reply.started": "2021-11-01T07:20:11.143257Z"
    },
    "papermill": {
     "duration": 0.102834,
     "end_time": "2021-11-01T07:23:46.749983",
     "exception": false,
     "start_time": "2021-11-01T07:23:46.647149",
     "status": "completed"
    },
    "tags": []
   },
   "outputs": [],
   "source": [
    "##making muultiple predictions\n",
    "\n",
    "def make_predictions(inputs,targets):\n",
    "    result = list()\n",
    "    targets = targets.flatten().numpy()\n",
    "    for person in inputs:\n",
    "        result.append(int(round(model(person).item(), 0)))\n",
    "    accuracy = np.round(np.sum(result==targets)/len(targets) * 100,2)\n",
    "    cm = confusion_matrix(result,targets)\n",
    "    \n",
    "    return accuracy,cm"
   ]
  },
  {
   "cell_type": "code",
   "execution_count": 59,
   "id": "abf4c579",
   "metadata": {
    "execution": {
     "iopub.execute_input": "2021-11-01T07:23:46.938121Z",
     "iopub.status.busy": "2021-11-01T07:23:46.937385Z",
     "iopub.status.idle": "2021-11-01T07:23:46.984383Z",
     "shell.execute_reply": "2021-11-01T07:23:46.984918Z",
     "shell.execute_reply.started": "2021-11-01T07:20:12.059386Z"
    },
    "papermill": {
     "duration": 0.141898,
     "end_time": "2021-11-01T07:23:46.985124",
     "exception": false,
     "start_time": "2021-11-01T07:23:46.843226",
     "status": "completed"
    },
    "tags": []
   },
   "outputs": [
    {
     "name": "stdout",
     "output_type": "stream",
     "text": [
      "The accuracy of test set predictions is: 74.24 %\n",
      "The accuracy of train set predictions is: 80.54 %\n"
     ]
    }
   ],
   "source": [
    "test_acc,test_cm = make_predictions(X_test,y_test)\n",
    "print('The accuracy of test set predictions is:',test_acc,'%')\n",
    "train_acc,train_cm = make_predictions(X_train,y_train)\n",
    "print('The accuracy of train set predictions is:',train_acc,'%')"
   ]
  },
  {
   "cell_type": "code",
   "execution_count": 60,
   "id": "9cb21d8b",
   "metadata": {
    "execution": {
     "iopub.execute_input": "2021-11-01T07:23:47.169832Z",
     "iopub.status.busy": "2021-11-01T07:23:47.169059Z",
     "iopub.status.idle": "2021-11-01T07:23:47.403992Z",
     "shell.execute_reply": "2021-11-01T07:23:47.403261Z",
     "shell.execute_reply.started": "2021-11-01T07:12:27.978201Z"
    },
    "papermill": {
     "duration": 0.327567,
     "end_time": "2021-11-01T07:23:47.404173",
     "exception": false,
     "start_time": "2021-11-01T07:23:47.076606",
     "status": "completed"
    },
    "tags": []
   },
   "outputs": [
    {
     "data": {
      "image/png": "[encoded data removed]",
      "text/plain": [
       "<Figure size 432x288 with 2 Axes>"
      ]
     },
     "metadata": {
      "needs_background": "light"
     },
     "output_type": "display_data"
    }
   ],
   "source": [
    "#visualize confusion matrix \n",
    "sns.heatmap(test_cm,annot=True,fmt='3.0f',cmap=\"Blues\")\n",
    "plt.title('test cm', y=1.05, size=15)\n",
    "plt.show()"
   ]
  },
  {
   "cell_type": "code",
   "execution_count": 61,
   "id": "eca11134",
   "metadata": {
    "execution": {
     "iopub.execute_input": "2021-11-01T07:23:47.639265Z",
     "iopub.status.busy": "2021-11-01T07:23:47.606535Z",
     "iopub.status.idle": "2021-11-01T07:23:47.840476Z",
     "shell.execute_reply": "2021-11-01T07:23:47.841124Z",
     "shell.execute_reply.started": "2021-11-01T07:12:29.497229Z"
    },
    "papermill": {
     "duration": 0.3475,
     "end_time": "2021-11-01T07:23:47.841371",
     "exception": false,
     "start_time": "2021-11-01T07:23:47.493871",
     "status": "completed"
    },
    "tags": []
   },
   "outputs": [
    {
     "data": {
      "image/png": "[encoded data removed]",
      "text/plain": [
       "<Figure size 432x288 with 2 Axes>"
      ]
     },
     "metadata": {
      "needs_background": "light"
     },
     "output_type": "display_data"
    }
   ],
   "source": [
    "sns.heatmap(train_cm,annot=True,fmt='3.0f',cmap=\"Blues\")\n",
    "plt.title('train cm', y=1.05, size=15)\n",
    "plt.show()"
   ]
  }
 ],
 "metadata": {
  "kernelspec": {
   "display_name": "Python 3",
   "language": "python",
   "name": "python3"
  },
  "language_info": {
   "codemirror_mode": {
    "name": "ipython",
    "version": 3
   },
   "file_extension": ".py",
   "mimetype": "text/x-python",
   "name": "python",
   "nbconvert_exporter": "python",
   "pygments_lexer": "ipython3",
   "version": "3.7.10"
  },
  "papermill": {
   "default_parameters": {},
   "duration": 34.039898,
   "end_time": "2021-11-01T07:23:49.148600",
   "environment_variables": {},
   "exception": null,
   "input_path": "__notebook__.ipynb",
   "output_path": "__notebook__.ipynb",
   "parameters": {},
   "start_time": "2021-11-01T07:23:15.108702",
   "version": "2.3.3"
  }
 },
 "nbformat": 4,
 "nbformat_minor": 5
}
